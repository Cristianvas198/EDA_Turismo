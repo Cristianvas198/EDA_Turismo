{
 "cells": [
  {
   "cell_type": "markdown",
   "metadata": {},
   "source": [
    "# ¿Cómo viajan los turistas en España? \n",
    "\n",
    "\n",
    "### Un estudio de tendencias y comportamiento del turismo en España."
   ]
  },
  {
   "cell_type": "markdown",
   "metadata": {},
   "source": [
    "### Librerias utilizadas"
   ]
  },
  {
   "cell_type": "code",
   "execution_count": 32,
   "metadata": {},
   "outputs": [],
   "source": [
    "import pandas as pd\n",
    "import numpy as np\n",
    "import seaborn as sb\n",
    "import random\n",
    "import matplotlib.pyplot as plt\n",
    "import matplotlib.ticker as mticker \n",
    "import plotly.graph_objects as go\n",
    "import qrcode\n",
    "import warnings\n",
    "from datetime import datetime\n",
    "from matplotlib.ticker import FuncFormatter\n",
    "\n",
    "warnings.filterwarnings(\"ignore\")"
   ]
  },
  {
   "cell_type": "markdown",
   "metadata": {},
   "source": [
    "### Importaciones de DataSet"
   ]
  },
  {
   "cell_type": "code",
   "execution_count": 33,
   "metadata": {},
   "outputs": [],
   "source": [
    "turismo = pd.read_excel(\"./data/tourism_dataset.xlsx\")\n",
    "tipologia = pd.read_excel(\"./data/tipologia_viaje.xlsx\")\n",
    "motivo = pd.read_excel(\"./data/motivo_viaje.xlsx\")\n",
    "pais = pd.read_excel(\"./data/Gasto_segun_paisxlsx.xlsx\")\n",
    "sector = pd.read_excel(\"./data/Gasto_por_sector.xlsx\")"
   ]
  },
  {
   "cell_type": "markdown",
   "metadata": {},
   "source": [
    "### Verificacion de tipos"
   ]
  },
  {
   "cell_type": "code",
   "execution_count": 34,
   "metadata": {},
   "outputs": [],
   "source": [
    "# print(turismo.info())\n",
    "# print(tipologia.info())\n",
    "# print(motivo.info())\n",
    "# print(pais.info())\n",
    "# print(sector.info())"
   ]
  },
  {
   "cell_type": "markdown",
   "metadata": {},
   "source": [
    "### Convertir Dataset"
   ]
  },
  {
   "cell_type": "code",
   "execution_count": 35,
   "metadata": {},
   "outputs": [],
   "source": [
    "turismo = pd.DataFrame(turismo)\n",
    "tipologia = pd.DataFrame(tipologia)\n",
    "motivo_viaje = pd.DataFrame(motivo)\n",
    "pais = pd.DataFrame(pais)\n",
    "sector = pd.DataFrame(sector)"
   ]
  },
  {
   "cell_type": "markdown",
   "metadata": {},
   "source": [
    "### Reorganizacion del Dataset:\n",
    "* **Columnas**: Se restablece el nombre de las columnas, con el nombre de las comunidades autonomas.\n",
    "* **Indices**: Los indices son los meses y años"
   ]
  },
  {
   "cell_type": "code",
   "execution_count": 36,
   "metadata": {},
   "outputs": [],
   "source": [
    "turismo = turismo.set_index(turismo.columns[0]).transpose()\n",
    "tipologia = tipologia.set_index(tipologia.columns[0])\n",
    "motivo = motivo.set_index(motivo.columns[0])\n",
    "pais = pais.set_index(pais.columns[0])\n",
    "sector = sector.set_index(sector.columns[0])"
   ]
  },
  {
   "cell_type": "code",
   "execution_count": 37,
   "metadata": {},
   "outputs": [],
   "source": [
    "# print(turismo.dtypes)\n",
    "# print(tipologia.dtypes)\n",
    "# print(motivo.dtypes)\n",
    "# print(pais.dtypes)\n",
    "# print(sector.dtypes)"
   ]
  },
  {
   "cell_type": "code",
   "execution_count": 38,
   "metadata": {},
   "outputs": [],
   "source": [
    "# turismo.head()\n",
    "# tipologia.head()\n",
    "# motivo.head()\n",
    "# pais.head()\n",
    "# sector.head()"
   ]
  },
  {
   "cell_type": "markdown",
   "metadata": {},
   "source": [
    "# Hipotesis a trabajar en este EDA:\n",
    "\n",
    "\n",
    "¿El turismo en España sigue una fuerte estacionalidad?\n",
    "\n",
    "¿Es más frecuente el turismo de estancia o la excursión?\n",
    "\n",
    "¿El turismo de negocios está creciendo en España?\n",
    "\n",
    "¿Los turistas de ciertos países gastan más que otros en España?\n",
    "\n",
    "\n",
    "\n"
   ]
  },
  {
   "cell_type": "markdown",
   "metadata": {},
   "source": [
    "# Primera hipotesis: ¿El turismo en España sigue una fuerte estacionalidad, con picos en verano y descensos en invierno?"
   ]
  },
  {
   "cell_type": "markdown",
   "metadata": {},
   "source": [
    "Para esta primera hipótesis, utilizaremos un dataset obtenido del Instituto Nacional de Estadística de España (INE), el cual recopila información sobre los movimientos en frontera desde el año 1999 hasta febrero de 2025. Este conjunto de datos nos permitirá analizar patrones a lo largo del tiempo y extraer conclusiones relevantes para nuestro estudio."
   ]
  },
  {
   "cell_type": "code",
   "execution_count": 39,
   "metadata": {},
   "outputs": [
    {
     "data": {
      "text/html": [
       "<div>\n",
       "<style scoped>\n",
       "    .dataframe tbody tr th:only-of-type {\n",
       "        vertical-align: middle;\n",
       "    }\n",
       "\n",
       "    .dataframe tbody tr th {\n",
       "        vertical-align: top;\n",
       "    }\n",
       "\n",
       "    .dataframe thead th {\n",
       "        text-align: right;\n",
       "    }\n",
       "</style>\n",
       "<table border=\"1\" class=\"dataframe\">\n",
       "  <thead>\n",
       "    <tr style=\"text-align: right;\">\n",
       "      <th></th>\n",
       "      <th>01 Andalucía</th>\n",
       "      <th>04 Almería</th>\n",
       "      <th>11 Cádiz</th>\n",
       "      <th>14 Córdoba</th>\n",
       "      <th>18 Granada</th>\n",
       "      <th>21 Huelva</th>\n",
       "      <th>23 Jaén</th>\n",
       "      <th>29 Málaga</th>\n",
       "      <th>41 Sevilla</th>\n",
       "      <th>02 Aragón</th>\n",
       "      <th>...</th>\n",
       "      <th>31 Navarra</th>\n",
       "      <th>16 País Vasco</th>\n",
       "      <th>01 Araba/Álava</th>\n",
       "      <th>48 Bizkaia</th>\n",
       "      <th>20 Gipuzkoa</th>\n",
       "      <th>17 Rioja, La</th>\n",
       "      <th>26 Rioja, La</th>\n",
       "      <th>18 Ceuta</th>\n",
       "      <th>19 Melilla</th>\n",
       "      <th>Total Nacional</th>\n",
       "    </tr>\n",
       "  </thead>\n",
       "  <tbody>\n",
       "    <tr>\n",
       "      <th>2025M02</th>\n",
       "      <td>1210103</td>\n",
       "      <td>64254</td>\n",
       "      <td>127353</td>\n",
       "      <td>81664</td>\n",
       "      <td>220647</td>\n",
       "      <td>37989</td>\n",
       "      <td>39187</td>\n",
       "      <td>368010</td>\n",
       "      <td>270998</td>\n",
       "      <td>217078</td>\n",
       "      <td>...</td>\n",
       "      <td>55332</td>\n",
       "      <td>230365</td>\n",
       "      <td>28309</td>\n",
       "      <td>101349</td>\n",
       "      <td>100707</td>\n",
       "      <td>34531</td>\n",
       "      <td>34531</td>\n",
       "      <td>5242</td>\n",
       "      <td>4330</td>\n",
       "      <td>6539960</td>\n",
       "    </tr>\n",
       "    <tr>\n",
       "      <th>2025M01</th>\n",
       "      <td>983971</td>\n",
       "      <td>36982</td>\n",
       "      <td>100095</td>\n",
       "      <td>76019</td>\n",
       "      <td>188585</td>\n",
       "      <td>22418</td>\n",
       "      <td>33075</td>\n",
       "      <td>269769</td>\n",
       "      <td>257029</td>\n",
       "      <td>178779</td>\n",
       "      <td>...</td>\n",
       "      <td>48807</td>\n",
       "      <td>206997</td>\n",
       "      <td>28451</td>\n",
       "      <td>86738</td>\n",
       "      <td>91808</td>\n",
       "      <td>29651</td>\n",
       "      <td>29651</td>\n",
       "      <td>5044</td>\n",
       "      <td>3927</td>\n",
       "      <td>5776075</td>\n",
       "    </tr>\n",
       "    <tr>\n",
       "      <th>2024M12</th>\n",
       "      <td>1105005</td>\n",
       "      <td>48389</td>\n",
       "      <td>123395</td>\n",
       "      <td>80679</td>\n",
       "      <td>192332</td>\n",
       "      <td>35037</td>\n",
       "      <td>41265</td>\n",
       "      <td>292539</td>\n",
       "      <td>291370</td>\n",
       "      <td>204922</td>\n",
       "      <td>...</td>\n",
       "      <td>67780</td>\n",
       "      <td>250596</td>\n",
       "      <td>36791</td>\n",
       "      <td>112602</td>\n",
       "      <td>101203</td>\n",
       "      <td>34518</td>\n",
       "      <td>34518</td>\n",
       "      <td>5255</td>\n",
       "      <td>4156</td>\n",
       "      <td>6553489</td>\n",
       "    </tr>\n",
       "    <tr>\n",
       "      <th>2024M11</th>\n",
       "      <td>1278048</td>\n",
       "      <td>49231</td>\n",
       "      <td>140183</td>\n",
       "      <td>99847</td>\n",
       "      <td>208244</td>\n",
       "      <td>47220</td>\n",
       "      <td>48020</td>\n",
       "      <td>369692</td>\n",
       "      <td>315609</td>\n",
       "      <td>207513</td>\n",
       "      <td>...</td>\n",
       "      <td>74629</td>\n",
       "      <td>278580</td>\n",
       "      <td>35718</td>\n",
       "      <td>127597</td>\n",
       "      <td>115264</td>\n",
       "      <td>42997</td>\n",
       "      <td>42997</td>\n",
       "      <td>5178</td>\n",
       "      <td>4864</td>\n",
       "      <td>7171221</td>\n",
       "    </tr>\n",
       "    <tr>\n",
       "      <th>2024M10</th>\n",
       "      <td>1838241</td>\n",
       "      <td>101499</td>\n",
       "      <td>251255</td>\n",
       "      <td>110866</td>\n",
       "      <td>265193</td>\n",
       "      <td>76257</td>\n",
       "      <td>58439</td>\n",
       "      <td>602997</td>\n",
       "      <td>371736</td>\n",
       "      <td>272448</td>\n",
       "      <td>...</td>\n",
       "      <td>100130</td>\n",
       "      <td>349844</td>\n",
       "      <td>43124</td>\n",
       "      <td>157974</td>\n",
       "      <td>148746</td>\n",
       "      <td>56863</td>\n",
       "      <td>56863</td>\n",
       "      <td>3920</td>\n",
       "      <td>5285</td>\n",
       "      <td>10774309</td>\n",
       "    </tr>\n",
       "  </tbody>\n",
       "</table>\n",
       "<p>5 rows × 70 columns</p>\n",
       "</div>"
      ],
      "text/plain": [
       "        01 Andalucía 04 Almería 11 Cádiz 14 Córdoba 18 Granada 21 Huelva  \\\n",
       "2025M02      1210103      64254   127353      81664     220647     37989   \n",
       "2025M01       983971      36982   100095      76019     188585     22418   \n",
       "2024M12      1105005      48389   123395      80679     192332     35037   \n",
       "2024M11      1278048      49231   140183      99847     208244     47220   \n",
       "2024M10      1838241     101499   251255     110866     265193     76257   \n",
       "\n",
       "        23 Jaén 29 Málaga 41 Sevilla 02 Aragón  ... 31 Navarra 16 País Vasco  \\\n",
       "2025M02   39187    368010     270998    217078  ...      55332        230365   \n",
       "2025M01   33075    269769     257029    178779  ...      48807        206997   \n",
       "2024M12   41265    292539     291370    204922  ...      67780        250596   \n",
       "2024M11   48020    369692     315609    207513  ...      74629        278580   \n",
       "2024M10   58439    602997     371736    272448  ...     100130        349844   \n",
       "\n",
       "        01 Araba/Álava 48 Bizkaia 20 Gipuzkoa 17 Rioja, La 26 Rioja, La  \\\n",
       "2025M02          28309     101349      100707        34531        34531   \n",
       "2025M01          28451      86738       91808        29651        29651   \n",
       "2024M12          36791     112602      101203        34518        34518   \n",
       "2024M11          35718     127597      115264        42997        42997   \n",
       "2024M10          43124     157974      148746        56863        56863   \n",
       "\n",
       "        18 Ceuta 19 Melilla Total Nacional  \n",
       "2025M02     5242       4330        6539960  \n",
       "2025M01     5044       3927        5776075  \n",
       "2024M12     5255       4156        6553489  \n",
       "2024M11     5178       4864        7171221  \n",
       "2024M10     3920       5285       10774309  \n",
       "\n",
       "[5 rows x 70 columns]"
      ]
     },
     "execution_count": 39,
     "metadata": {},
     "output_type": "execute_result"
    }
   ],
   "source": [
    "turismo.head(5)"
   ]
  },
  {
   "cell_type": "markdown",
   "metadata": {},
   "source": [
    "### Limpieza de los datos:\n",
    "\n",
    "Una vez importado el dataset y creado el dataframe, es fundamental realizar una limpieza de los datos para asegurar su correcta manipulación y análisis.\n",
    "\n",
    "1. Corrección de nombres de columnas: Eliminamos los números que preceden algunos nombres y los espacios en blanco al inicio de los mismos para mejorar su legibilidad y uso en el análisis.\n",
    "\n",
    "2. Ajuste de los índices: Los índices actuales corresponden al año y mes, junto con el número de turistas. Para hacerlos más claros, eliminamos caracteres innecesarios, como la “M” que aparece entre mes y año, así como valores decimales (.5, .4, .3, .2, .1) presentes en algunos índices.\n",
    "\n",
    "3. Eliminación de columnas irrelevantes: Se descartan aquellas columnas que no aportan valor al análisis, optimizando así el tamaño del dataframe y su eficiencia.\n",
    "\n",
    "4. Conversión de valores a cadena (STR): Convertimos los valores en tipo string para facilitar la eliminación de caracteres especiales, como puntos, comas y símbolos que puedan interferir en cálculos posteriores.\n",
    "\n",
    "5. Depuración de duplicados: Eliminamos columnas e índices duplicados para evitar redundancias y asegurar la integridad de los datos.\n",
    "\n",
    "6. Con este proceso de limpieza, garantizamos que los datos estén estructurados de manera clara y sean completamente funcionales para las siguientes fases del proyecto.\n",
    "\n",
    "El codigo comentado a continuacion:"
   ]
  },
  {
   "cell_type": "code",
   "execution_count": 40,
   "metadata": {},
   "outputs": [],
   "source": [
    "turismo = pd.read_excel(\"./data/tourism_dataset.xlsx\") #Importa Dataset de la carpeta src\n",
    "turismo=pd.DataFrame(turismo) #Convierte a formato Dataframe\n",
    "\n",
    "#Creo un dataframe aparte para limpiar el nombre de las columnas\n",
    "reemplazo_comunidad=turismo[\" \"].str.split(expand=True)\n",
    "reemplazo_comunidad= reemplazo_comunidad.drop(columns = [0, 2, 3, 4])\n",
    "#reemplazo_comunidad\n",
    "\n",
    "#Union entre el datafram principal y el datafram de nombres limpios\n",
    "turismo= pd.concat([turismo, reemplazo_comunidad], axis=1)\n",
    "turismo = turismo.rename(columns={1: 'Comunidad'}) #Renombra la columna recien concatenada\n",
    "turismo= turismo.drop(columns = [\" \"]) #Elimina la columna original \n",
    "\n",
    "#Numeros y caracteres innecesarios en las fechas\n",
    "turismo.columns=turismo.columns.str.replace(\"M\", \" \")\n",
    "turismo.columns=turismo.columns.str.replace(\".5\", \"\")\n",
    "turismo.columns=turismo.columns.str.replace(\".4\", \"\")\n",
    "turismo.columns=turismo.columns.str.replace(\".3\", \"\")\n",
    "turismo.columns=turismo.columns.str.replace(\".2\", \"\")\n",
    "turismo.columns=turismo.columns.str.replace(\".1\", \"\")\n",
    "\n",
    "turismo = turismo.set_index(\"Comunidad\") #Nuevo indice seranlos nombres de las comunidades\n",
    "turismo = turismo.transpose() #Se revierte el orden para poner las fechas como indices\n",
    "\n",
    "#Convertir los valores a STR para poder reemplazar simbolos y luego convertir a formato numerico\n",
    "turismo = turismo.astype(str)\n",
    "turismo = turismo.replace('\\\\.', '', regex=True)\n",
    "turismo = turismo.replace(',', '.', regex=True)  # Cambia comas por puntos\n",
    "turismo = turismo.apply(pd.to_numeric, errors='coerce')\n",
    "\n",
    "turismo = turismo.loc[:, ~turismo.columns.duplicated()]#Elimina columnas duplicadas\n",
    "turismo = turismo[~turismo.index.duplicated(keep='first')]\n",
    "\n",
    "nuevo_índice = pd.to_datetime(turismo.index, format='%Y %m').to_period('M') #Convierto a formato fecha quedandome solo con mes y año.\n",
    "turismo.index = nuevo_índice #Actualizo el indice en el Dataframe principal\n",
    "turismo = turismo.sort_index()  # Ordena en ascendente"
   ]
  },
  {
   "cell_type": "code",
   "execution_count": 41,
   "metadata": {},
   "outputs": [
    {
     "data": {
      "text/html": [
       "<div>\n",
       "<style scoped>\n",
       "    .dataframe tbody tr th:only-of-type {\n",
       "        vertical-align: middle;\n",
       "    }\n",
       "\n",
       "    .dataframe tbody tr th {\n",
       "        vertical-align: top;\n",
       "    }\n",
       "\n",
       "    .dataframe thead th {\n",
       "        text-align: right;\n",
       "    }\n",
       "</style>\n",
       "<table border=\"1\" class=\"dataframe\">\n",
       "  <thead>\n",
       "    <tr style=\"text-align: right;\">\n",
       "      <th>Comunidad</th>\n",
       "      <th>Andalucía</th>\n",
       "      <th>Almería</th>\n",
       "      <th>Cádiz</th>\n",
       "      <th>Córdoba</th>\n",
       "      <th>Granada</th>\n",
       "      <th>Huelva</th>\n",
       "      <th>Jaén</th>\n",
       "      <th>Málaga</th>\n",
       "      <th>Sevilla</th>\n",
       "      <th>Aragón</th>\n",
       "      <th>...</th>\n",
       "      <th>Navarra,</th>\n",
       "      <th>Navarra</th>\n",
       "      <th>País</th>\n",
       "      <th>Araba/Álava</th>\n",
       "      <th>Bizkaia</th>\n",
       "      <th>Gipuzkoa</th>\n",
       "      <th>Rioja,</th>\n",
       "      <th>Ceuta</th>\n",
       "      <th>Melilla</th>\n",
       "      <th>Nacional</th>\n",
       "    </tr>\n",
       "  </thead>\n",
       "  <tbody>\n",
       "    <tr>\n",
       "      <th>1999-01</th>\n",
       "      <td>484042</td>\n",
       "      <td>32208</td>\n",
       "      <td>52309</td>\n",
       "      <td>41330.0</td>\n",
       "      <td>92094</td>\n",
       "      <td>14122</td>\n",
       "      <td>22910</td>\n",
       "      <td>119702</td>\n",
       "      <td>109367</td>\n",
       "      <td>96136</td>\n",
       "      <td>...</td>\n",
       "      <td>26501</td>\n",
       "      <td>26501</td>\n",
       "      <td>82705</td>\n",
       "      <td>18196</td>\n",
       "      <td>34398</td>\n",
       "      <td>30110</td>\n",
       "      <td>15596</td>\n",
       "      <td>9286.0</td>\n",
       "      <td>1650.0</td>\n",
       "      <td>2775738</td>\n",
       "    </tr>\n",
       "    <tr>\n",
       "      <th>1999-02</th>\n",
       "      <td>621026</td>\n",
       "      <td>44237</td>\n",
       "      <td>73945</td>\n",
       "      <td>47316.0</td>\n",
       "      <td>123846</td>\n",
       "      <td>25979</td>\n",
       "      <td>28341</td>\n",
       "      <td>155186</td>\n",
       "      <td>122176</td>\n",
       "      <td>108877</td>\n",
       "      <td>...</td>\n",
       "      <td>32019</td>\n",
       "      <td>32019</td>\n",
       "      <td>92056</td>\n",
       "      <td>17631</td>\n",
       "      <td>37130</td>\n",
       "      <td>37296</td>\n",
       "      <td>20480</td>\n",
       "      <td>4419.0</td>\n",
       "      <td>2917.0</td>\n",
       "      <td>3205892</td>\n",
       "    </tr>\n",
       "    <tr>\n",
       "      <th>1999-03</th>\n",
       "      <td>848286</td>\n",
       "      <td>65562</td>\n",
       "      <td>99775</td>\n",
       "      <td>71324.0</td>\n",
       "      <td>155291</td>\n",
       "      <td>34128</td>\n",
       "      <td>39397</td>\n",
       "      <td>210285</td>\n",
       "      <td>172524</td>\n",
       "      <td>132018</td>\n",
       "      <td>...</td>\n",
       "      <td>44732</td>\n",
       "      <td>44732</td>\n",
       "      <td>112687</td>\n",
       "      <td>20785</td>\n",
       "      <td>42927</td>\n",
       "      <td>48976</td>\n",
       "      <td>30932</td>\n",
       "      <td>5944.0</td>\n",
       "      <td>2773.0</td>\n",
       "      <td>4143343</td>\n",
       "    </tr>\n",
       "    <tr>\n",
       "      <th>1999-04</th>\n",
       "      <td>1037943</td>\n",
       "      <td>70364</td>\n",
       "      <td>119449</td>\n",
       "      <td>94899.0</td>\n",
       "      <td>186312</td>\n",
       "      <td>38576</td>\n",
       "      <td>42040</td>\n",
       "      <td>289216</td>\n",
       "      <td>197088</td>\n",
       "      <td>131778</td>\n",
       "      <td>...</td>\n",
       "      <td>53240</td>\n",
       "      <td>53240</td>\n",
       "      <td>128278</td>\n",
       "      <td>22555</td>\n",
       "      <td>50626</td>\n",
       "      <td>55097</td>\n",
       "      <td>31578</td>\n",
       "      <td>6509.0</td>\n",
       "      <td>2457.0</td>\n",
       "      <td>4931385</td>\n",
       "    </tr>\n",
       "    <tr>\n",
       "      <th>1999-05</th>\n",
       "      <td>1092034</td>\n",
       "      <td>72004</td>\n",
       "      <td>137277</td>\n",
       "      <td>98071.0</td>\n",
       "      <td>176048</td>\n",
       "      <td>39972</td>\n",
       "      <td>41381</td>\n",
       "      <td>318446</td>\n",
       "      <td>208833</td>\n",
       "      <td>131206</td>\n",
       "      <td>...</td>\n",
       "      <td>55118</td>\n",
       "      <td>55118</td>\n",
       "      <td>135015</td>\n",
       "      <td>22354</td>\n",
       "      <td>52268</td>\n",
       "      <td>60392</td>\n",
       "      <td>37023</td>\n",
       "      <td>5399.0</td>\n",
       "      <td>3341.0</td>\n",
       "      <td>5724555</td>\n",
       "    </tr>\n",
       "  </tbody>\n",
       "</table>\n",
       "<p>5 rows × 66 columns</p>\n",
       "</div>"
      ],
      "text/plain": [
       "Comunidad  Andalucía  Almería   Cádiz  Córdoba  Granada  Huelva   Jaén  \\\n",
       "1999-01       484042    32208   52309  41330.0    92094   14122  22910   \n",
       "1999-02       621026    44237   73945  47316.0   123846   25979  28341   \n",
       "1999-03       848286    65562   99775  71324.0   155291   34128  39397   \n",
       "1999-04      1037943    70364  119449  94899.0   186312   38576  42040   \n",
       "1999-05      1092034    72004  137277  98071.0   176048   39972  41381   \n",
       "\n",
       "Comunidad  Málaga  Sevilla  Aragón  ...  Navarra,  Navarra    País  \\\n",
       "1999-01    119702   109367   96136  ...     26501    26501   82705   \n",
       "1999-02    155186   122176  108877  ...     32019    32019   92056   \n",
       "1999-03    210285   172524  132018  ...     44732    44732  112687   \n",
       "1999-04    289216   197088  131778  ...     53240    53240  128278   \n",
       "1999-05    318446   208833  131206  ...     55118    55118  135015   \n",
       "\n",
       "Comunidad  Araba/Álava  Bizkaia  Gipuzkoa  Rioja,  Ceuta  Melilla  Nacional  \n",
       "1999-01          18196    34398     30110   15596 9286.0   1650.0   2775738  \n",
       "1999-02          17631    37130     37296   20480 4419.0   2917.0   3205892  \n",
       "1999-03          20785    42927     48976   30932 5944.0   2773.0   4143343  \n",
       "1999-04          22555    50626     55097   31578 6509.0   2457.0   4931385  \n",
       "1999-05          22354    52268     60392   37023 5399.0   3341.0   5724555  \n",
       "\n",
       "[5 rows x 66 columns]"
      ]
     },
     "execution_count": 41,
     "metadata": {},
     "output_type": "execute_result"
    }
   ],
   "source": [
    "turismo.head(5)"
   ]
  },
  {
   "cell_type": "markdown",
   "metadata": {},
   "source": [
    "Creación de la función principal\n",
    "Para extraer muestras específicas del dataset, definiremos una función llamada estacion, que permitirá filtrar los datos según distintos criterios (el año o rango de años, la comunidad autónoma y la temporada del año).\n",
    "\n",
    "Con esta función, podremos segmentar la información de manera flexible, facilitando el análisis de tendencias y comparaciones dentro del conjunto de datos."
   ]
  },
  {
   "cell_type": "code",
   "execution_count": 42,
   "metadata": {},
   "outputs": [],
   "source": [
    "def estacion(df = turismo, año = 2024, comunidades=(\"Madrid\",), temporadas=(\"invierno\",)): #Funcion para filtrar el Dataframe\n",
    "    '''\n",
    "    Filtra el DataFrame principal con:\n",
    "    - Rango de años.\n",
    "    - Ciudades Seleccionadas en España.\n",
    "    - Temporadas Seleccionadas.\n",
    "\n",
    "    P/ejem: \n",
    "    estacion(turismo, (2020, 2024), [\"Madrid\", \"Barcelona\"], (\"invierno\", \"primavera\"))\n",
    "    '''\n",
    "    \n",
    "    temporada_dict={ \n",
    "        \"primavera\":(3,4,5),\n",
    "        \"verano\" : (6,7,8),\n",
    "        \"otoño\" : (9,10,11),\n",
    "        \"invierno\" : (12, 1, 2)}\n",
    "    \n",
    "    meses = sum((temporada_dict[temporada] for temporada in temporadas), ())\n",
    "    \n",
    "    if isinstance(comunidades, str):\n",
    "        comunidades = [comunidades]\n",
    "        # df = df.to_timestamp()\n",
    "    filtro = (\n",
    "        (df.index.strftime('%Y').astype(int) >= año[0]) &\n",
    "        (df.index.strftime('%Y').astype(int) <= año[1]) &\n",
    "        (df.index.strftime('%m').astype(int).isin(meses))\n",
    "    )\n",
    "    \n",
    "    # Devuelve el DataFrame filtrado para las comunidades seleccionadas\n",
    "    return df.loc[filtro, comunidades]"
   ]
  },
  {
   "cell_type": "markdown",
   "metadata": {},
   "source": [
    "### Toma de muestras con la función principal\n",
    "\n",
    "Una vez definida la función principal, procedemos a la extracción de muestras para nuestro análisis. Estas muestras nos permitirán examinar distintos aspectos del turismo en España y detectar tendencias significativas a lo largo del tiempo.\n",
    "\n",
    "Las principales muestras obtenidas son:\n",
    "\n",
    "1. Media y mediana nacional del turismo: Cálculo de indicadores estadísticos clave para evaluar la distribución y el comportamiento del turismo a nivel nacional.\n",
    "\n",
    "2. Datos relacionados con la pandemia: Se comparan distintos períodos del turismo:\n",
    "\n",
    "3. Pre-COVID: 2017 - 2019.\n",
    "\n",
    "4. Durante COVID: 2020 - 2021.\n",
    "\n",
    "5. Post-COVID: 2022 - 2024.\n",
    "\n",
    "6. Además, se ha generado una muestra conjunta que abarca todos estos años, de 2019 a 2024, para observar los cambios y recuperaciones en el sector.\n",
    "\n",
    "7. Muestra de verano a nivel nacional: Datos desde 1999 hasta 2023, permitiendo el análisis de la evolución del turismo estival.\n",
    "\n",
    "8. Muestra de invierno a nivel nacional: Registros desde 1999 hasta 2024 para evaluar el comportamiento turístico en la temporada invernal.\n",
    "\n",
    "9. Turismo en 1999: Datos detallados de los doce meses del año para estudiar los patrones de aquel período.\n",
    "\n",
    "10. Turismo en 2024: Información del turismo a nivel nacional durante todos los meses del año en curso.\n",
    "\n",
    "11. Turismo nacional general: Muestra que abarca desde 1999 hasta 2024, considerando todas las estaciones del año para obtener un panorama integral del turismo en España.\n",
    "\n",
    "Con esta toma de muestras, disponemos de una base sólida para analizar variaciones, impacto de eventos globales y estacionalidad en el turismo."
   ]
  },
  {
   "cell_type": "code",
   "execution_count": 43,
   "metadata": {},
   "outputs": [],
   "source": [
    "\n",
    "total_nacional = ('Nacional') #Condensa el total por año de toda españa \n",
    "\n",
    "#Media y mediana nacional por año desde 1990 hasta 2024\n",
    "media_nacional = turismo['Nacional'].groupby(turismo.index.year).mean()\n",
    "mediana_nacional = turismo['Nacional'].groupby(turismo.index.year).median()\n",
    "\n",
    "#Datos COVID\n",
    "# Analisis de turismo, pre, durante y post covid\n",
    "pre_covid = estacion(turismo, año=(2017, 2019), comunidades=total_nacional, temporadas=(\"primavera\",\"verano\", \"otoño\", \"invierno\")) #Muestra turismo pre covid en España\n",
    "covid = estacion(turismo, año=(2020, 2021), comunidades=total_nacional, temporadas=(\"primavera\",\"verano\", \"otoño\", \"invierno\")) #Muestra turismo durante el covid en España\n",
    "post_covid = estacion(turismo, año=(2022, 2024), comunidades=total_nacional, temporadas=(\"primavera\",\"verano\", \"otoño\", \"invierno\")) #Muestra turismo post covid en España\n",
    "covid_general = estacion(turismo, año=(2019, 2024), comunidades=total_nacional, temporadas=(\"primavera\",\"verano\", \"otoño\", \"invierno\")) #Muestra turismo post covid en España\n",
    "\n",
    "#Muestras Verano\n",
    "verano_nacional = estacion(turismo, año=(1999, 2024), comunidades=total_nacional, temporadas=(\"verano\",)) #España completa\n",
    "\n",
    "#Muestras Invierno\n",
    "invierno_nacional = estacion(turismo, año=(1999, 2024), comunidades=total_nacional, temporadas=(\"invierno\",)) #España completa\n",
    "\n",
    "año1999=estacion(turismo, año=(1999, 1999), comunidades=total_nacional, temporadas=(\"primavera\",\"verano\", \"otoño\", \"invierno\")) #España completa\n",
    "año2024=estacion(turismo, año=(2024, 2024), comunidades=total_nacional, temporadas=(\"primavera\",\"verano\", \"otoño\", \"invierno\")) #España completa\n",
    "turismo_españa=estacion(turismo, año=(1999, 2024), comunidades=total_nacional, temporadas=(\"primavera\",\"verano\", \"otoño\", \"invierno\")) #España completa\n"
   ]
  },
  {
   "cell_type": "markdown",
   "metadata": {},
   "source": [
    "### Creación de la función comunidades\n",
    "\n",
    "Para analizar datos turísticos específicos de una comunidad autónoma o ciudad determinada, implementamos la función comunidades. Esta función nos permitirá extraer información localizada y compararla con tendencias generales a nivel nacional.\n",
    "\n",
    "La estructura de la función es:\n",
    "\n",
    "* Formato de uso: comunidades(turismo, comunidad) \n",
    "\n",
    "Con esta función, podemos seleccionar un dataset de turismo y filtrar por una comunidad específica para analizar patrones regionales y su evolución a lo largo del tiempo."
   ]
  },
  {
   "cell_type": "code",
   "execution_count": 44,
   "metadata": {},
   "outputs": [],
   "source": [
    "def comunidades(turismo, comunidad):\n",
    "    '''\n",
    "    Filtra el DataFrame principal con:\n",
    "    - DataSet.\n",
    "    - Comunidad autonoma.\n",
    "\n",
    "    P/ejem: \n",
    "    comunidades(turismo, \"Andalucía\")\n",
    "    '''\n",
    "    # Diccionario de comunidades y provincias\n",
    "    comunidades_autonomas = {\n",
    "        \"Andalucía\": [\"Almería\", \"Cádiz\", \"Córdoba\", \"Granada\", \"Huelva\", \"Jaén\", \"Málaga\", \"Sevilla\"],\n",
    "        \"Aragón\": [\"Huesca\", \"Teruel\", \"Zaragoza\"],\n",
    "        \"Asturias\": [\"Asturias\"],\n",
    "        \"Balears, Illes\": [\"Balears, Illes\"],\n",
    "        \"Canarias\": [\"Palmas, Las\", \"Santa Cruz de Tenerife\"],\n",
    "        \"Cantabria\": [\"Cantabria\"],\n",
    "        \"Castilla y León\": [\"Ávila\", \"Burgos\", \"León\", \"Palencia\", \"Salamanca\", \"Segovia\", \"Soria\", \"Valladolid\", \"Zamora\"],\n",
    "        \"Castilla - La Mancha\": [\"Albacete\", \"Ciudad Real\", \"Cuenca\", \"Guadalajara\", \"Toledo\"],\n",
    "        \"Cataluña\": [\"Barcelona\", \"Girona\", \"Lleida\", \"Tarragona\"],\n",
    "        \"Comunitat Valenciana\": [\"Alicante/Alacant\", \"Castellón/Castelló\", \"Valencia/València\"],\n",
    "        \"Extremadura\": [\"Badajoz\", \"Cáceres\"],\n",
    "        \"Galicia\": [\"Coruña, A\", \"Lugo\", \"Ourense\", \"Pontevedra\"],\n",
    "        \"Madrid\": [\"Madrid\"],\n",
    "        \"Murcia\": [\"Murcia\"],\n",
    "        \"Navarra\": [\"Navarra\"],\n",
    "        \"País Vasco\": [\"Araba/Álava\", \"Bizkaia\", \"Gipuzkoa\"],\n",
    "        \"Rioja, La\": [\"Rioja, La\"],\n",
    "        \"Ceuta\": [\"Ceuta\"],\n",
    "        \"Melilla\": [\"Melilla\"]\n",
    "    }\n",
    "    provincias = comunidades_autonomas.get(comunidad, [])\n",
    "    if provincias:\n",
    "        return turismo.loc[:, turismo.columns.intersection(provincias)]\n",
    "    else:\n",
    "        print(f\"La comunidad '{comunidad}' no existe.\")\n",
    "        return None"
   ]
  },
  {
   "cell_type": "markdown",
   "metadata": {},
   "source": [
    "### Crecimiento turismo en españa por año desde 1999 hasta 2025"
   ]
  },
  {
   "cell_type": "code",
   "execution_count": 45,
   "metadata": {},
   "outputs": [
    {
     "data": {
      "image/png": "[encoded data removed]",
      "text/plain": [
       "<Figure size 1200x600 with 1 Axes>"
      ]
     },
     "metadata": {},
     "output_type": "display_data"
    }
   ],
   "source": [
    "turismo_españa.index = turismo_españa.index.to_timestamp()  # Convierte PeriodIndex a DatetimeIndex\n",
    "df_grouped = turismo_españa.groupby(turismo_españa.index.year).sum()\n",
    "df_grouped.plot(kind='bar', stacked=True, figsize=(12, 6), title=\"Turismo España (1999-2024)\")\n",
    "media_turismo = df_grouped.values.mean()\n",
    "plt.axhline(y=media_turismo, color='red', linestyle='dashed', linewidth=2, label=f'Media: {media_turismo:.2f}')\n",
    "plt.xlabel(\"Fecha\")\n",
    "plt.ylabel(\"Número de turistas (millones)\")\n",
    "plt.gca().set_yticklabels([f'{int(y/1e6)}' for y in plt.gca().get_yticks()])\n",
    "plt.xticks(rotation=45)  # Rotar etiquetas del eje X para mejor legibilidad\n",
    "plt.grid(axis='y', linestyle='--', alpha=0.7)  # Líneas de guía en el eje Y\n",
    "plt.legend(bbox_to_anchor=(1.05, 1), loc='upper left')  # Mover la leyenda fuera del gráfico\n",
    "plt.tight_layout()  # Ajustar automáticamente la disposición del gráfico\n",
    "\n",
    "max_turismo = df_grouped.max().max() #sacar primero el maximo de los años y luego el maximo entre los años\n",
    "min_turismo = df_grouped.min().min() #sacar primero el minimo de los años y luego el minimo entre los años\n",
    "max_year = df_grouped[df_grouped == max_turismo].dropna(how='all').index[0] #nan\n",
    "min_year = df_grouped[df_grouped == min_turismo].dropna(how='all').index[0] #nan\n",
    "years = df_grouped.index.astype(str) #Convertir indice en str para graficas\n",
    "plt.text(years.get_loc(str(max_year)), max_turismo, f'↑ {max_turismo:.2f}', color='green', fontsize=12, fontweight='bold', ha='center') #Colocacion del punto maximo\n",
    "plt.text(years.get_loc(str(min_year)), min_turismo, f'↓ {min_turismo:.2f}', color='red', fontsize=12, fontweight='bold', ha='center') #Colocacion del punto minimo\n",
    "\n",
    "\n",
    "\n",
    "plt.show()"
   ]
  },
  {
   "cell_type": "markdown",
   "metadata": {},
   "source": [
    "### Comparacion numero de turistas en verano vs invierno España 1999 hasta 2025"
   ]
  },
  {
   "cell_type": "code",
   "execution_count": 46,
   "metadata": {},
   "outputs": [
    {
     "data": {
      "image/png": "[encoded data removed]",
      "text/plain": [
       "<Figure size 1200x600 with 1 Axes>"
      ]
     },
     "metadata": {},
     "output_type": "display_data"
    }
   ],
   "source": [
    "verano_nacional.index = verano_nacional.index.to_timestamp()\n",
    "invierno_nacional.index = invierno_nacional.index.to_timestamp()\n",
    "\n",
    "media_verano = verano_nacional[\"Nacional\"].mean() #Calculo de media turistas en verano a nivel nacional\n",
    "media_invierno = invierno_nacional[\"Nacional\"].mean() #Calculo de media invierno en verano a nivel nacional\n",
    "\n",
    "plt.figure(figsize=(12, 6))\n",
    "\n",
    "# Graficar con área rellena para verano\n",
    "plt.fill_between(verano_nacional.index, verano_nacional[\"Nacional\"], color=\"orange\", alpha=0.5, label=\"Verano\")\n",
    "plt.text(verano_nacional.index[-1], media_verano, f\"{media_verano:.0f}\", color=\"darkorange\", fontsize=12, verticalalignment='bottom')\n",
    "\n",
    "# Graficar con área rellena para invierno\n",
    "plt.fill_between(invierno_nacional.index, invierno_nacional[\"Nacional\"], color=\"blue\", alpha=0.5, label=\"Invierno\")\n",
    "plt.text(invierno_nacional.index[-1], media_invierno, f\"{media_invierno:.0f}\", color=\"darkblue\", fontsize=12, verticalalignment='top')\n",
    "\n",
    "# Graficar la media para verano e invierno\n",
    "plt.axhline(y=media_verano, color=\"darkorange\", linestyle=\"dashed\", linewidth=2, label=\"Media Verano\")\n",
    "plt.axhline(y=media_invierno, color=\"darkblue\", linestyle=\"dashed\", linewidth=2, label=\"Media Invierno\")\n",
    "\n",
    "# Personalizar la gráfica\n",
    "plt.xlabel(\"Fecha (Mes y Año)\")\n",
    "plt.ylabel(\"Número de turistas (millones)\")\n",
    "plt.title(\"Comparación de turistas en Verano e Invierno\")\n",
    "plt.gca().set_yticklabels([f'{int(y/1e6)}' for y in plt.gca().get_yticks()])\n",
    "plt.legend()\n",
    "plt.xticks(rotation=45)\n",
    "plt.grid(True)\n",
    "plt.show()"
   ]
  },
  {
   "cell_type": "markdown",
   "metadata": {},
   "source": [
    "# ¿El turismo de estancia en España predomina mas que el de excursion?"
   ]
  },
  {
   "cell_type": "markdown",
   "metadata": {},
   "source": [
    "Para esta segunda hipótesis, trabajaremos con un dataset que proporciona información detallada sobre el turismo a nivel nacional. Específicamente, analizaremos el número de turistas que llegan por turismo de estancia (aquellos que pernoctan) y turismo de excursión (visitantes sin pernocta). Además, el conjunto de datos incluye registros sobre las pernoctaciones desde el año 2015 hasta 2025, lo que nos permitirá observar tendencias y cambios en los hábitos de los viajeros a lo largo del tiempo.\n",
    "\n",
    "Este análisis será clave para identificar patrones en la preferencia de los turistas, evaluar la evolución del turismo de estancia y excursión, y medir el impacto de eventos globales en el número de pernoctaciones. Con estos datos podremos comparar la distribución del turismo en diferentes períodos y determinar posibles factores que influyen en la duración de las visitas."
   ]
  },
  {
   "cell_type": "code",
   "execution_count": 47,
   "metadata": {},
   "outputs": [
    {
     "data": {
      "text/html": [
       "<div>\n",
       "<style scoped>\n",
       "    .dataframe tbody tr th:only-of-type {\n",
       "        vertical-align: middle;\n",
       "    }\n",
       "\n",
       "    .dataframe tbody tr th {\n",
       "        vertical-align: top;\n",
       "    }\n",
       "\n",
       "    .dataframe thead th {\n",
       "        text-align: right;\n",
       "    }\n",
       "</style>\n",
       "<table border=\"1\" class=\"dataframe\">\n",
       "  <thead>\n",
       "    <tr style=\"text-align: right;\">\n",
       "      <th></th>\n",
       "      <th>2025M01</th>\n",
       "      <th>2024M12</th>\n",
       "      <th>2024M11</th>\n",
       "      <th>2024M10</th>\n",
       "      <th>2024M09</th>\n",
       "      <th>2024M08</th>\n",
       "      <th>2024M07</th>\n",
       "      <th>2024M06</th>\n",
       "      <th>2024M05</th>\n",
       "      <th>2024M04</th>\n",
       "      <th>...</th>\n",
       "      <th>2016M07</th>\n",
       "      <th>2016M06</th>\n",
       "      <th>2016M05</th>\n",
       "      <th>2016M04</th>\n",
       "      <th>2016M03</th>\n",
       "      <th>2016M02</th>\n",
       "      <th>2016M01</th>\n",
       "      <th>2015M12</th>\n",
       "      <th>2015M11</th>\n",
       "      <th>2015M10</th>\n",
       "    </tr>\n",
       "    <tr>\n",
       "      <th></th>\n",
       "      <th></th>\n",
       "      <th></th>\n",
       "      <th></th>\n",
       "      <th></th>\n",
       "      <th></th>\n",
       "      <th></th>\n",
       "      <th></th>\n",
       "      <th></th>\n",
       "      <th></th>\n",
       "      <th></th>\n",
       "      <th></th>\n",
       "      <th></th>\n",
       "      <th></th>\n",
       "      <th></th>\n",
       "      <th></th>\n",
       "      <th></th>\n",
       "      <th></th>\n",
       "      <th></th>\n",
       "      <th></th>\n",
       "      <th></th>\n",
       "      <th></th>\n",
       "    </tr>\n",
       "  </thead>\n",
       "  <tbody>\n",
       "    <tr>\n",
       "      <th>Dato base</th>\n",
       "      <td>8147788.0</td>\n",
       "      <td>8779950.0</td>\n",
       "      <td>9053630.0</td>\n",
       "      <td>12919686.0</td>\n",
       "      <td>13310160.0</td>\n",
       "      <td>16621567.0</td>\n",
       "      <td>15957871.0</td>\n",
       "      <td>12483868.0</td>\n",
       "      <td>13088646.0</td>\n",
       "      <td>11186407.0</td>\n",
       "      <td>...</td>\n",
       "      <td>14103246.0</td>\n",
       "      <td>10882964.0</td>\n",
       "      <td>10409297.0</td>\n",
       "      <td>9254452.0</td>\n",
       "      <td>7684502.0</td>\n",
       "      <td>6254862.0</td>\n",
       "      <td>6133318.0</td>\n",
       "      <td>6417639</td>\n",
       "      <td>6429628</td>\n",
       "      <td>9940966</td>\n",
       "    </tr>\n",
       "    <tr>\n",
       "      <th>Tasa de variación anual</th>\n",
       "      <td>12.5</td>\n",
       "      <td>2.7</td>\n",
       "      <td>12.3</td>\n",
       "      <td>9.7</td>\n",
       "      <td>6.4</td>\n",
       "      <td>7.3</td>\n",
       "      <td>8.0</td>\n",
       "      <td>8.8</td>\n",
       "      <td>12.0</td>\n",
       "      <td>7.1</td>\n",
       "      <td>...</td>\n",
       "      <td>7.0</td>\n",
       "      <td>7.5</td>\n",
       "      <td>4.3</td>\n",
       "      <td>5.6</td>\n",
       "      <td>10.6</td>\n",
       "      <td>6.7</td>\n",
       "      <td>4.0</td>\n",
       "      <td>3.8</td>\n",
       "      <td>4.4</td>\n",
       "      <td>5.2</td>\n",
       "    </tr>\n",
       "    <tr>\n",
       "      <th>Acumulado en lo que va de año</th>\n",
       "      <td>8147788.0</td>\n",
       "      <td>137640110.0</td>\n",
       "      <td>128860160.0</td>\n",
       "      <td>119806530.0</td>\n",
       "      <td>106886844.0</td>\n",
       "      <td>93576684.0</td>\n",
       "      <td>76955117.0</td>\n",
       "      <td>60997245.0</td>\n",
       "      <td>48513377.0</td>\n",
       "      <td>35424731.0</td>\n",
       "      <td>...</td>\n",
       "      <td>64722641.0</td>\n",
       "      <td>50619395.0</td>\n",
       "      <td>39736431.0</td>\n",
       "      <td>29327134.0</td>\n",
       "      <td>20072683.0</td>\n",
       "      <td>12388180.0</td>\n",
       "      <td>6133318.0</td>\n",
       "      <td></td>\n",
       "      <td></td>\n",
       "      <td></td>\n",
       "    </tr>\n",
       "    <tr>\n",
       "      <th>Tasa de variación acumulada</th>\n",
       "      <td>12.5</td>\n",
       "      <td>9.4</td>\n",
       "      <td>9.9</td>\n",
       "      <td>9.8</td>\n",
       "      <td>9.8</td>\n",
       "      <td>10.3</td>\n",
       "      <td>10.9</td>\n",
       "      <td>11.7</td>\n",
       "      <td>12.5</td>\n",
       "      <td>12.7</td>\n",
       "      <td>...</td>\n",
       "      <td>6.5</td>\n",
       "      <td>6.4</td>\n",
       "      <td>6.1</td>\n",
       "      <td>6.8</td>\n",
       "      <td>7.3</td>\n",
       "      <td>5.3</td>\n",
       "      <td>4.0</td>\n",
       "      <td></td>\n",
       "      <td></td>\n",
       "      <td></td>\n",
       "    </tr>\n",
       "    <tr>\n",
       "      <th>Turista</th>\n",
       "      <td>NaN</td>\n",
       "      <td>NaN</td>\n",
       "      <td>NaN</td>\n",
       "      <td>NaN</td>\n",
       "      <td>NaN</td>\n",
       "      <td>NaN</td>\n",
       "      <td>NaN</td>\n",
       "      <td>NaN</td>\n",
       "      <td>NaN</td>\n",
       "      <td>NaN</td>\n",
       "      <td>...</td>\n",
       "      <td>NaN</td>\n",
       "      <td>NaN</td>\n",
       "      <td>NaN</td>\n",
       "      <td>NaN</td>\n",
       "      <td>NaN</td>\n",
       "      <td>NaN</td>\n",
       "      <td>NaN</td>\n",
       "      <td>NaN</td>\n",
       "      <td>NaN</td>\n",
       "      <td>NaN</td>\n",
       "    </tr>\n",
       "  </tbody>\n",
       "</table>\n",
       "<p>5 rows × 112 columns</p>\n",
       "</div>"
      ],
      "text/plain": [
       "                                    2025M01     2024M12     2024M11  \\\n",
       "                                                                      \n",
       "    Dato base                     8147788.0   8779950.0   9053630.0   \n",
       "    Tasa de variación anual            12.5         2.7        12.3   \n",
       "    Acumulado en lo que va de año 8147788.0 137640110.0 128860160.0   \n",
       "    Tasa de variación acumulada        12.5         9.4         9.9   \n",
       "Turista                                 NaN         NaN         NaN   \n",
       "\n",
       "                                      2024M10     2024M09    2024M08  \\\n",
       "                                                                       \n",
       "    Dato base                      12919686.0  13310160.0 16621567.0   \n",
       "    Tasa de variación anual               9.7         6.4        7.3   \n",
       "    Acumulado en lo que va de año 119806530.0 106886844.0 93576684.0   \n",
       "    Tasa de variación acumulada           9.8         9.8       10.3   \n",
       "Turista                                   NaN         NaN        NaN   \n",
       "\n",
       "                                     2024M07    2024M06    2024M05    2024M04  \\\n",
       "                                                                                \n",
       "    Dato base                     15957871.0 12483868.0 13088646.0 11186407.0   \n",
       "    Tasa de variación anual              8.0        8.8       12.0        7.1   \n",
       "    Acumulado en lo que va de año 76955117.0 60997245.0 48513377.0 35424731.0   \n",
       "    Tasa de variación acumulada         10.9       11.7       12.5       12.7   \n",
       "Turista                                  NaN        NaN        NaN        NaN   \n",
       "\n",
       "                                   ...    2016M07    2016M06    2016M05  \\\n",
       "                                   ...                                    \n",
       "    Dato base                      ... 14103246.0 10882964.0 10409297.0   \n",
       "    Tasa de variación anual        ...        7.0        7.5        4.3   \n",
       "    Acumulado en lo que va de año  ... 64722641.0 50619395.0 39736431.0   \n",
       "    Tasa de variación acumulada    ...        6.5        6.4        6.1   \n",
       "Turista                            ...        NaN        NaN        NaN   \n",
       "\n",
       "                                     2016M04    2016M03    2016M02   2016M01  \\\n",
       "                                                                               \n",
       "    Dato base                      9254452.0  7684502.0  6254862.0 6133318.0   \n",
       "    Tasa de variación anual              5.6       10.6        6.7       4.0   \n",
       "    Acumulado en lo que va de año 29327134.0 20072683.0 12388180.0 6133318.0   \n",
       "    Tasa de variación acumulada          6.8        7.3        5.3       4.0   \n",
       "Turista                                  NaN        NaN        NaN       NaN   \n",
       "\n",
       "                                   2015M12  2015M11  2015M10  \n",
       "                                                              \n",
       "    Dato base                      6417639  6429628  9940966  \n",
       "    Tasa de variación anual            3.8      4.4      5.2  \n",
       "    Acumulado en lo que va de año                             \n",
       "    Tasa de variación acumulada                               \n",
       "Turista                                NaN      NaN      NaN  \n",
       "\n",
       "[5 rows x 112 columns]"
      ]
     },
     "execution_count": 47,
     "metadata": {},
     "output_type": "execute_result"
    }
   ],
   "source": [
    "tipologia.head(5)"
   ]
  },
  {
   "cell_type": "markdown",
   "metadata": {},
   "source": [
    "Antes de comenzar con el análisis, realizamos una serie de ajustes para mejorar la estructura y calidad de los datos:\n",
    "\n",
    "* Corrección de fechas: Se reemplazan las \"M\" presentes en las fechas con espacios en blanco para asegurar su correcta interpretación.\n",
    "\n",
    "* Modificación de valores con notación científica: Se convierten los valores que estaban expresados en notación científica a un formato numérico estándar para facilitar cálculos y comparaciones.\n",
    "\n",
    "* Asignación de un nuevo índice: Se establece un índice adecuado que permitirá un manejo más eficiente de los datos.\n",
    "\n",
    "* Eliminación de registros incompletos: Se descartan los datos de 2015, ya que solo incluyen los últimos tres meses y no ofrecen información completa del año.\n",
    "\n",
    "* Reorganización de la estructura: Se invierten filas y columnas para mejorar la organización y usabilidad del dataframe.\n",
    "\n",
    "* Formateo de los índices como fechas: Se ajustan los índices para que sigan un formato de fecha, permitiendo un análisis más preciso a lo largo del tiempo.\n",
    "\n",
    "* Eliminación de columnas irrelevantes: Se descartan aquellas columnas que no serán utilizadas en el estudio, optimizando así el conjunto de datos."
   ]
  },
  {
   "cell_type": "code",
   "execution_count": 48,
   "metadata": {},
   "outputs": [],
   "source": [
    "tipologia = pd.read_excel(\"./data/tipologia_viaje.xlsx\") #Importa el archivo\n",
    "tipologia.columns=tipologia.columns.str.replace(\"M\", \" \")#Reemplaza la M de las fechas por un espacio\n",
    "pd.options.display.float_format = '{:.1f}'.format #sE modifican los valores que tenian anotacion cientifica y confirma el formato float.\n",
    "tipologia=tipologia.set_index(\" \")\n",
    "tipologia = tipologia[tipologia.columns[::-1]]\n",
    "tipologia=tipologia.drop([\"2015 10\", \"2015 11\", \"2015 12\"], axis=1)\n",
    "tipologia=tipologia.transpose()\n",
    "tipologia = tipologia.apply(pd.to_numeric, errors='coerce')\n",
    "\n",
    "nuevo_índice_tipologia = pd.to_datetime(tipologia.index, format='%Y %m').to_period('M') #Convierto a formato fecha quedandome solo con mes y año.\n",
    "tipologia.index = nuevo_índice_tipologia #Actualizo el indice en el Dataframe principal\n",
    "tipologia = tipologia.sort_index()  # Ordena en ascendente\n",
    "tipologia.columns = tipologia.columns.str.strip()"
   ]
  },
  {
   "cell_type": "markdown",
   "metadata": {},
   "source": [
    "Comparacion del turismo vs excursionismo (2016-2025)"
   ]
  },
  {
   "cell_type": "code",
   "execution_count": 49,
   "metadata": {},
   "outputs": [
    {
     "data": {
      "image/png": "[encoded data removed]",
      "text/plain": [
       "<Figure size 1200x600 with 1 Axes>"
      ]
     },
     "metadata": {},
     "output_type": "display_data"
    }
   ],
   "source": [
    "tipologia_2=tipologia.drop([\"Acumulado en lo que va de año\", \"Tasa de variación anual\", \"Tasa de variación acumulada\"], axis=1)\n",
    "tipologia_2 = tipologia_2.iloc[:, 1:]\n",
    "tipologia_2.columns.values[1] = \"Datos Turista\"  # Cambia la segunda columna\n",
    "tipologia_2.columns.values[3] = \"Datos Excursionista\"\n",
    "tipologia_2=tipologia_2.drop([\"Turista\", \"Excursionista\"], axis=1)\n",
    "tipologia.head(5)\n",
    "tipologia_2.plot(figsize=(12, 6))\n",
    "plt.title(\"Comparación de Turismo vs Excursionismo (2016-2025)\")\n",
    "plt.xlabel(\"Tiempo\")\n",
    "plt.ylabel(\"Número de Viajes\")\n",
    "plt.gca().set_yticklabels([f'{int(y/1e6)}' for y in plt.gca().get_yticks()])\n",
    "plt.legend([\"Turismo de estancia\", \"Turismo de excursion\"], frameon=False)\n",
    "plt.grid(True)\n",
    "plt.tight_layout()\n",
    "plt.show()"
   ]
  },
  {
   "cell_type": "markdown",
   "metadata": {},
   "source": [
    "### Total numero de turistas"
   ]
  },
  {
   "cell_type": "code",
   "execution_count": 50,
   "metadata": {},
   "outputs": [
    {
     "name": "stdout",
     "output_type": "stream",
     "text": [
      "Total de turistas de estancia (2016-2025): 629,267,722\n",
      "Total de excursionistas (2016-2025): 323,184,160\n"
     ]
    }
   ],
   "source": [
    "total_turistas = tipologia_2[\"Datos Turista\"].sum()\n",
    "total_excursionistas = tipologia_2[\"Datos Excursionista\"].sum()\n",
    "\n",
    "print(f\"Total de turistas de estancia (2016-2025): {total_turistas:,.0f}\")\n",
    "print(f\"Total de excursionistas (2016-2025): {total_excursionistas:,.0f}\")"
   ]
  },
  {
   "cell_type": "markdown",
   "metadata": {},
   "source": [
    "### Comparacion del turismo vs excursionismo (2016-2025)"
   ]
  },
  {
   "cell_type": "code",
   "execution_count": 51,
   "metadata": {},
   "outputs": [
    {
     "data": {
      "application/vnd.plotly.v1+json": {
       "config": {
        "plotlyServerURL": "https://plot.ly"
       },
       "data": [
        {
         "fill": "tozeroy",
         "line": {
          "color": "blue"
         },
         "mode": "lines",
         "name": "Turistas",
         "type": "scatter",
         "x": [
          "2016-01",
          "2016-02",
          "2016-03",
          "2016-04",
          "2016-05",
          "2016-06",
          "2016-07",
          "2016-08",
          "2016-09",
          "2016-10",
          "2016-11",
          "2016-12",
          "2017-01",
          "2017-02",
          "2017-03",
          "2017-04",
          "2017-05",
          "2017-06",
          "2017-07",
          "2017-08",
          "2017-09",
          "2017-10",
          "2017-11",
          "2017-12",
          "2018-01",
          "2018-02",
          "2018-03",
          "2018-04",
          "2018-05",
          "2018-06",
          "2018-07",
          "2018-08",
          "2018-09",
          "2018-10",
          "2018-11",
          "2018-12",
          "2019-01",
          "2019-02",
          "2019-03",
          "2019-04",
          "2019-05",
          "2019-06",
          "2019-07",
          "2019-08",
          "2019-09",
          "2019-10",
          "2019-11",
          "2019-12",
          "2020-01",
          "2020-02",
          "2020-03",
          "2020-04",
          "2020-05",
          "2020-06",
          "2020-07",
          "2020-08",
          "2020-09",
          "2020-10",
          "2020-11",
          "2020-12",
          "2021-01",
          "2021-02",
          "2021-03",
          "2021-04",
          "2021-05",
          "2021-06",
          "2021-07",
          "2021-08",
          "2021-09",
          "2021-10",
          "2021-11",
          "2021-12",
          "2022-01",
          "2022-02",
          "2022-03",
          "2022-04",
          "2022-05",
          "2022-06",
          "2022-07",
          "2022-08",
          "2022-09",
          "2022-10",
          "2022-11",
          "2022-12",
          "2023-01",
          "2023-02",
          "2023-03",
          "2023-04",
          "2023-05",
          "2023-06",
          "2023-07",
          "2023-08",
          "2023-09",
          "2023-10",
          "2023-11",
          "2023-12",
          "2024-01",
          "2024-02",
          "2024-03",
          "2024-04",
          "2024-05",
          "2024-06",
          "2024-07",
          "2024-08",
          "2024-09",
          "2024-10",
          "2024-11",
          "2024-12",
          "2025-01"
         ],
         "y": {
          "bdata": "AAAAgMTnSkEAAAAAAxFMQQAAAIDBplFBAAAAwK03V0EAAACAfCBbQQAAAIC9z1xBAAAAAAg1YkEAAADgOSBjQQAAAMCvQl5BAAAAwG46W0EAAAAAa0RPQQAAAADXcU5BAAAAAGTMTUEAAACAMG1PQQAAAMDFvlJBAAAAgJ4DW0EAAAAAFodeQQAAAOAsFWBBAAAAwL8DZEEAAAAgBtVjQQAAAMCa7mBBAAAAwIq7W0EAAADAn8FQQQAAAABhYk5BAAAAgLRUT0EAAADALxdQQQAAAIDIklRBAAAAgHbdWUEAAAAAiNheQQAAAEDoUGBBAAAAwLIcY0EAAAAgomhjQQAAAIB6CWFBAAAAAJEuXUEAAABAik5RQQAAAIC7nFBBAAAAQE4BUEEAAAAA1rVQQQAAAEAqjVVBAAAAQIxCW0EAAAAAmTVeQQAAAKBs2WBBAAAAwO7UYkEAAADAm0xjQQAAAADs3mBBAAAAQOnxXEEAAABA68FRQQAAAEDZa1BBAAAAAFCIT0EAAAAAlONQQQAAAADOeT5BAAAAAAAAAAAAAAAAAAAAAAAAAACA7whBAAAAgAXOQkEAAAAAiZ9CQQAAAAC0YDFBAAAAAMomL0EAAAAAuOEbQQAAAAA6ziNBAAAAAFS7GkEAAAAAuGQRQQAAAACM/h1BAAAAAKwzI0EAAAAA3Mw0QQAAAADS6EBBAAAAAOTHUEEAAAAAutJTQQAAAECv8VFBAAAAACWkU0EAAACAPKZJQQAAAIDifEZBAAAAgKEVQ0EAAAAAjEFIQQAAAAC20U5BAAAAADNLV0EAAABAkKhaQQAAAABrmlxBAAAAwCdXYUEAAAAgo+BgQQAAAMAqoV1BAAAAAMZgW0EAAADADolQQQAAAIAefU9BAAAAgCmMT0EAAABAZntQQQAAAEBbBFRBAAAAgK+SW0EAAAAA2KlfQQAAAADBsF9BAAAAgOZLY0EAAABgtm1jQQAAACCkxmBBAAAAgCM7X0EAAACAIpdTQQAAAED/3lNBAAAAQJ83UkEAAABA/h9TQQAAAMChOVhBAAAAgFGxXUEAAAAghqdhQQAAAMDOvGFBAAAAYP+yZEEAAAAAtthkQQAAAOB7UGJBAAAAgPEXYUEAAADAUqFVQQAAAMD9FFRBAAAAgGFSU0E=",
          "dtype": "f8"
         }
        },
        {
         "fill": "tozeroy",
         "line": {
          "color": "green"
         },
         "mode": "lines",
         "name": "Excursionistas",
         "type": "scatter",
         "x": [
          "2016-01",
          "2016-02",
          "2016-03",
          "2016-04",
          "2016-05",
          "2016-06",
          "2016-07",
          "2016-08",
          "2016-09",
          "2016-10",
          "2016-11",
          "2016-12",
          "2017-01",
          "2017-02",
          "2017-03",
          "2017-04",
          "2017-05",
          "2017-06",
          "2017-07",
          "2017-08",
          "2017-09",
          "2017-10",
          "2017-11",
          "2017-12",
          "2018-01",
          "2018-02",
          "2018-03",
          "2018-04",
          "2018-05",
          "2018-06",
          "2018-07",
          "2018-08",
          "2018-09",
          "2018-10",
          "2018-11",
          "2018-12",
          "2019-01",
          "2019-02",
          "2019-03",
          "2019-04",
          "2019-05",
          "2019-06",
          "2019-07",
          "2019-08",
          "2019-09",
          "2019-10",
          "2019-11",
          "2019-12",
          "2020-01",
          "2020-02",
          "2020-03",
          "2020-04",
          "2020-05",
          "2020-06",
          "2020-07",
          "2020-08",
          "2020-09",
          "2020-10",
          "2020-11",
          "2020-12",
          "2021-01",
          "2021-02",
          "2021-03",
          "2021-04",
          "2021-05",
          "2021-06",
          "2021-07",
          "2021-08",
          "2021-09",
          "2021-10",
          "2021-11",
          "2021-12",
          "2022-01",
          "2022-02",
          "2022-03",
          "2022-04",
          "2022-05",
          "2022-06",
          "2022-07",
          "2022-08",
          "2022-09",
          "2022-10",
          "2022-11",
          "2022-12",
          "2023-01",
          "2023-02",
          "2023-03",
          "2023-04",
          "2023-05",
          "2023-06",
          "2023-07",
          "2023-08",
          "2023-09",
          "2023-10",
          "2023-11",
          "2023-12",
          "2024-01",
          "2024-02",
          "2024-03",
          "2024-04",
          "2024-05",
          "2024-06",
          "2024-07",
          "2024-08",
          "2024-09",
          "2024-10",
          "2024-11",
          "2024-12",
          "2025-01"
         ],
         "y": {
          "bdata": "AAAAAF/jQ0EAAAAAhKdDQQAAAABIU0dBAAAAAL4rSEEAAACArylJQQAAAABPaElBAAAAgKNiUUEAAAAAxONVQQAAAICb7klBAAAAgBSpR0EAAACAZENDQQAAAIDPCUZBAAAAAH+CQUEAAAAAHO5CQQAAAABfIURBAAAAAO9OS0EAAACANDZKQQAAAAB8S0dBAAAAgJanUUEAAAAAVr5UQQAAAABur0pBAAAAgK3qSEEAAAAAG7FDQQAAAID1i0ZBAAAAgNQuQkEAAACACUtCQQAAAIDBYEZBAAAAgETdSkEAAAAAGf5KQQAAAACdnUhBAAAAQKEaUkEAAADAp65WQQAAAAAoiU1BAAAAgPq6SkEAAAAAhKFEQQAAAIB38kVBAAAAALDAQ0EAAAAAZt5DQQAAAIDb1kZBAAAAgBhIS0EAAACAjEdKQQAAAABffUpBAAAAAGnIUUEAAADABAhXQQAAAIDPZk1BAAAAAAdMSkEAAACA6INGQQAAAACSH0dBAAAAAM/JREEAAACAX/VEQQAAAAD2XTRBAAAAAAAAAAAAAAAAAAAAAAAAAAAUlRtBAAAAgKeJQUEAAAAA/zpGQQAAAACNoDxBAAAAAMVYOUEAAAAAzJUgQQAAAADOOyxBAAAAAM7NKEEAAAAAeJ4fQQAAAABQySZBAAAAABrYIkEAAAAAxkY0QQAAAAAeVTpBAAAAgLPSQ0EAAAAAndJJQQAAAIAiA0JBAAAAgFxnQUEAAAAApO09QQAAAABXIkBBAAAAAEa5OkEAAACAojlAQQAAAABX2j5BAAAAAHotQ0EAAAAAIQpFQQAAAAC2uERBAAAAAMopTkEAAAAAcvdQQQAAAICOvEZBAAAAgMJdRkEAAAAAaOxBQQAAAAAgDUVBAAAAAApSQkEAAACA2MlBQQAAAICwgkNBAAAAgHeNSEEAAAAAA9FJQQAAAADXIkhBAAAAgBbEUUEAAABACztUQQAAAACLUExBAAAAgOdeS0EAAACAU05GQQAAAICRgElBAAAAAH7VQkEAAACAagdEQQAAAAAT7UZBAAAAANH1SUEAAAAAqj1NQQAAAIBTS0hBAAAAAN15U0EAAADAk7ZVQQAAAIB4SkxBAAAAAP0xTkEAAACAOdBJQQAAAIBb0kpBAAAAAOOER0E=",
          "dtype": "f8"
         }
        }
       ],
       "layout": {
        "template": {
         "data": {
          "bar": [
           {
            "error_x": {
             "color": "rgb(36,36,36)"
            },
            "error_y": {
             "color": "rgb(36,36,36)"
            },
            "marker": {
             "line": {
              "color": "white",
              "width": 0.5
             },
             "pattern": {
              "fillmode": "overlay",
              "size": 10,
              "solidity": 0.2
             }
            },
            "type": "bar"
           }
          ],
          "barpolar": [
           {
            "marker": {
             "line": {
              "color": "white",
              "width": 0.5
             },
             "pattern": {
              "fillmode": "overlay",
              "size": 10,
              "solidity": 0.2
             }
            },
            "type": "barpolar"
           }
          ],
          "carpet": [
           {
            "aaxis": {
             "endlinecolor": "rgb(36,36,36)",
             "gridcolor": "white",
             "linecolor": "white",
             "minorgridcolor": "white",
             "startlinecolor": "rgb(36,36,36)"
            },
            "baxis": {
             "endlinecolor": "rgb(36,36,36)",
             "gridcolor": "white",
             "linecolor": "white",
             "minorgridcolor": "white",
             "startlinecolor": "rgb(36,36,36)"
            },
            "type": "carpet"
           }
          ],
          "choropleth": [
           {
            "colorbar": {
             "outlinewidth": 1,
             "tickcolor": "rgb(36,36,36)",
             "ticks": "outside"
            },
            "type": "choropleth"
           }
          ],
          "contour": [
           {
            "colorbar": {
             "outlinewidth": 1,
             "tickcolor": "rgb(36,36,36)",
             "ticks": "outside"
            },
            "colorscale": [
             [
              0,
              "#440154"
             ],
             [
              0.1111111111111111,
              "#482878"
             ],
             [
              0.2222222222222222,
              "#3e4989"
             ],
             [
              0.3333333333333333,
              "#31688e"
             ],
             [
              0.4444444444444444,
              "#26828e"
             ],
             [
              0.5555555555555556,
              "#1f9e89"
             ],
             [
              0.6666666666666666,
              "#35b779"
             ],
             [
              0.7777777777777778,
              "#6ece58"
             ],
             [
              0.8888888888888888,
              "#b5de2b"
             ],
             [
              1,
              "#fde725"
             ]
            ],
            "type": "contour"
           }
          ],
          "contourcarpet": [
           {
            "colorbar": {
             "outlinewidth": 1,
             "tickcolor": "rgb(36,36,36)",
             "ticks": "outside"
            },
            "type": "contourcarpet"
           }
          ],
          "heatmap": [
           {
            "colorbar": {
             "outlinewidth": 1,
             "tickcolor": "rgb(36,36,36)",
             "ticks": "outside"
            },
            "colorscale": [
             [
              0,
              "#440154"
             ],
             [
              0.1111111111111111,
              "#482878"
             ],
             [
              0.2222222222222222,
              "#3e4989"
             ],
             [
              0.3333333333333333,
              "#31688e"
             ],
             [
              0.4444444444444444,
              "#26828e"
             ],
             [
              0.5555555555555556,
              "#1f9e89"
             ],
             [
              0.6666666666666666,
              "#35b779"
             ],
             [
              0.7777777777777778,
              "#6ece58"
             ],
             [
              0.8888888888888888,
              "#b5de2b"
             ],
             [
              1,
              "#fde725"
             ]
            ],
            "type": "heatmap"
           }
          ],
          "histogram": [
           {
            "marker": {
             "line": {
              "color": "white",
              "width": 0.6
             }
            },
            "type": "histogram"
           }
          ],
          "histogram2d": [
           {
            "colorbar": {
             "outlinewidth": 1,
             "tickcolor": "rgb(36,36,36)",
             "ticks": "outside"
            },
            "colorscale": [
             [
              0,
              "#440154"
             ],
             [
              0.1111111111111111,
              "#482878"
             ],
             [
              0.2222222222222222,
              "#3e4989"
             ],
             [
              0.3333333333333333,
              "#31688e"
             ],
             [
              0.4444444444444444,
              "#26828e"
             ],
             [
              0.5555555555555556,
              "#1f9e89"
             ],
             [
              0.6666666666666666,
              "#35b779"
             ],
             [
              0.7777777777777778,
              "#6ece58"
             ],
             [
              0.8888888888888888,
              "#b5de2b"
             ],
             [
              1,
              "#fde725"
             ]
            ],
            "type": "histogram2d"
           }
          ],
          "histogram2dcontour": [
           {
            "colorbar": {
             "outlinewidth": 1,
             "tickcolor": "rgb(36,36,36)",
             "ticks": "outside"
            },
            "colorscale": [
             [
              0,
              "#440154"
             ],
             [
              0.1111111111111111,
              "#482878"
             ],
             [
              0.2222222222222222,
              "#3e4989"
             ],
             [
              0.3333333333333333,
              "#31688e"
             ],
             [
              0.4444444444444444,
              "#26828e"
             ],
             [
              0.5555555555555556,
              "#1f9e89"
             ],
             [
              0.6666666666666666,
              "#35b779"
             ],
             [
              0.7777777777777778,
              "#6ece58"
             ],
             [
              0.8888888888888888,
              "#b5de2b"
             ],
             [
              1,
              "#fde725"
             ]
            ],
            "type": "histogram2dcontour"
           }
          ],
          "mesh3d": [
           {
            "colorbar": {
             "outlinewidth": 1,
             "tickcolor": "rgb(36,36,36)",
             "ticks": "outside"
            },
            "type": "mesh3d"
           }
          ],
          "parcoords": [
           {
            "line": {
             "colorbar": {
              "outlinewidth": 1,
              "tickcolor": "rgb(36,36,36)",
              "ticks": "outside"
             }
            },
            "type": "parcoords"
           }
          ],
          "pie": [
           {
            "automargin": true,
            "type": "pie"
           }
          ],
          "scatter": [
           {
            "fillpattern": {
             "fillmode": "overlay",
             "size": 10,
             "solidity": 0.2
            },
            "type": "scatter"
           }
          ],
          "scatter3d": [
           {
            "line": {
             "colorbar": {
              "outlinewidth": 1,
              "tickcolor": "rgb(36,36,36)",
              "ticks": "outside"
             }
            },
            "marker": {
             "colorbar": {
              "outlinewidth": 1,
              "tickcolor": "rgb(36,36,36)",
              "ticks": "outside"
             }
            },
            "type": "scatter3d"
           }
          ],
          "scattercarpet": [
           {
            "marker": {
             "colorbar": {
              "outlinewidth": 1,
              "tickcolor": "rgb(36,36,36)",
              "ticks": "outside"
             }
            },
            "type": "scattercarpet"
           }
          ],
          "scattergeo": [
           {
            "marker": {
             "colorbar": {
              "outlinewidth": 1,
              "tickcolor": "rgb(36,36,36)",
              "ticks": "outside"
             }
            },
            "type": "scattergeo"
           }
          ],
          "scattergl": [
           {
            "marker": {
             "colorbar": {
              "outlinewidth": 1,
              "tickcolor": "rgb(36,36,36)",
              "ticks": "outside"
             }
            },
            "type": "scattergl"
           }
          ],
          "scattermap": [
           {
            "marker": {
             "colorbar": {
              "outlinewidth": 1,
              "tickcolor": "rgb(36,36,36)",
              "ticks": "outside"
             }
            },
            "type": "scattermap"
           }
          ],
          "scattermapbox": [
           {
            "marker": {
             "colorbar": {
              "outlinewidth": 1,
              "tickcolor": "rgb(36,36,36)",
              "ticks": "outside"
             }
            },
            "type": "scattermapbox"
           }
          ],
          "scatterpolar": [
           {
            "marker": {
             "colorbar": {
              "outlinewidth": 1,
              "tickcolor": "rgb(36,36,36)",
              "ticks": "outside"
             }
            },
            "type": "scatterpolar"
           }
          ],
          "scatterpolargl": [
           {
            "marker": {
             "colorbar": {
              "outlinewidth": 1,
              "tickcolor": "rgb(36,36,36)",
              "ticks": "outside"
             }
            },
            "type": "scatterpolargl"
           }
          ],
          "scatterternary": [
           {
            "marker": {
             "colorbar": {
              "outlinewidth": 1,
              "tickcolor": "rgb(36,36,36)",
              "ticks": "outside"
             }
            },
            "type": "scatterternary"
           }
          ],
          "surface": [
           {
            "colorbar": {
             "outlinewidth": 1,
             "tickcolor": "rgb(36,36,36)",
             "ticks": "outside"
            },
            "colorscale": [
             [
              0,
              "#440154"
             ],
             [
              0.1111111111111111,
              "#482878"
             ],
             [
              0.2222222222222222,
              "#3e4989"
             ],
             [
              0.3333333333333333,
              "#31688e"
             ],
             [
              0.4444444444444444,
              "#26828e"
             ],
             [
              0.5555555555555556,
              "#1f9e89"
             ],
             [
              0.6666666666666666,
              "#35b779"
             ],
             [
              0.7777777777777778,
              "#6ece58"
             ],
             [
              0.8888888888888888,
              "#b5de2b"
             ],
             [
              1,
              "#fde725"
             ]
            ],
            "type": "surface"
           }
          ],
          "table": [
           {
            "cells": {
             "fill": {
              "color": "rgb(237,237,237)"
             },
             "line": {
              "color": "white"
             }
            },
            "header": {
             "fill": {
              "color": "rgb(217,217,217)"
             },
             "line": {
              "color": "white"
             }
            },
            "type": "table"
           }
          ]
         },
         "layout": {
          "annotationdefaults": {
           "arrowhead": 0,
           "arrowwidth": 1
          },
          "autotypenumbers": "strict",
          "coloraxis": {
           "colorbar": {
            "outlinewidth": 1,
            "tickcolor": "rgb(36,36,36)",
            "ticks": "outside"
           }
          },
          "colorscale": {
           "diverging": [
            [
             0,
             "rgb(103,0,31)"
            ],
            [
             0.1,
             "rgb(178,24,43)"
            ],
            [
             0.2,
             "rgb(214,96,77)"
            ],
            [
             0.3,
             "rgb(244,165,130)"
            ],
            [
             0.4,
             "rgb(253,219,199)"
            ],
            [
             0.5,
             "rgb(247,247,247)"
            ],
            [
             0.6,
             "rgb(209,229,240)"
            ],
            [
             0.7,
             "rgb(146,197,222)"
            ],
            [
             0.8,
             "rgb(67,147,195)"
            ],
            [
             0.9,
             "rgb(33,102,172)"
            ],
            [
             1,
             "rgb(5,48,97)"
            ]
           ],
           "sequential": [
            [
             0,
             "#440154"
            ],
            [
             0.1111111111111111,
             "#482878"
            ],
            [
             0.2222222222222222,
             "#3e4989"
            ],
            [
             0.3333333333333333,
             "#31688e"
            ],
            [
             0.4444444444444444,
             "#26828e"
            ],
            [
             0.5555555555555556,
             "#1f9e89"
            ],
            [
             0.6666666666666666,
             "#35b779"
            ],
            [
             0.7777777777777778,
             "#6ece58"
            ],
            [
             0.8888888888888888,
             "#b5de2b"
            ],
            [
             1,
             "#fde725"
            ]
           ],
           "sequentialminus": [
            [
             0,
             "#440154"
            ],
            [
             0.1111111111111111,
             "#482878"
            ],
            [
             0.2222222222222222,
             "#3e4989"
            ],
            [
             0.3333333333333333,
             "#31688e"
            ],
            [
             0.4444444444444444,
             "#26828e"
            ],
            [
             0.5555555555555556,
             "#1f9e89"
            ],
            [
             0.6666666666666666,
             "#35b779"
            ],
            [
             0.7777777777777778,
             "#6ece58"
            ],
            [
             0.8888888888888888,
             "#b5de2b"
            ],
            [
             1,
             "#fde725"
            ]
           ]
          },
          "colorway": [
           "#1F77B4",
           "#FF7F0E",
           "#2CA02C",
           "#D62728",
           "#9467BD",
           "#8C564B",
           "#E377C2",
           "#7F7F7F",
           "#BCBD22",
           "#17BECF"
          ],
          "font": {
           "color": "rgb(36,36,36)"
          },
          "geo": {
           "bgcolor": "white",
           "lakecolor": "white",
           "landcolor": "white",
           "showlakes": true,
           "showland": true,
           "subunitcolor": "white"
          },
          "hoverlabel": {
           "align": "left"
          },
          "hovermode": "closest",
          "mapbox": {
           "style": "light"
          },
          "paper_bgcolor": "white",
          "plot_bgcolor": "white",
          "polar": {
           "angularaxis": {
            "gridcolor": "rgb(232,232,232)",
            "linecolor": "rgb(36,36,36)",
            "showgrid": false,
            "showline": true,
            "ticks": "outside"
           },
           "bgcolor": "white",
           "radialaxis": {
            "gridcolor": "rgb(232,232,232)",
            "linecolor": "rgb(36,36,36)",
            "showgrid": false,
            "showline": true,
            "ticks": "outside"
           }
          },
          "scene": {
           "xaxis": {
            "backgroundcolor": "white",
            "gridcolor": "rgb(232,232,232)",
            "gridwidth": 2,
            "linecolor": "rgb(36,36,36)",
            "showbackground": true,
            "showgrid": false,
            "showline": true,
            "ticks": "outside",
            "zeroline": false,
            "zerolinecolor": "rgb(36,36,36)"
           },
           "yaxis": {
            "backgroundcolor": "white",
            "gridcolor": "rgb(232,232,232)",
            "gridwidth": 2,
            "linecolor": "rgb(36,36,36)",
            "showbackground": true,
            "showgrid": false,
            "showline": true,
            "ticks": "outside",
            "zeroline": false,
            "zerolinecolor": "rgb(36,36,36)"
           },
           "zaxis": {
            "backgroundcolor": "white",
            "gridcolor": "rgb(232,232,232)",
            "gridwidth": 2,
            "linecolor": "rgb(36,36,36)",
            "showbackground": true,
            "showgrid": false,
            "showline": true,
            "ticks": "outside",
            "zeroline": false,
            "zerolinecolor": "rgb(36,36,36)"
           }
          },
          "shapedefaults": {
           "fillcolor": "black",
           "line": {
            "width": 0
           },
           "opacity": 0.3
          },
          "ternary": {
           "aaxis": {
            "gridcolor": "rgb(232,232,232)",
            "linecolor": "rgb(36,36,36)",
            "showgrid": false,
            "showline": true,
            "ticks": "outside"
           },
           "baxis": {
            "gridcolor": "rgb(232,232,232)",
            "linecolor": "rgb(36,36,36)",
            "showgrid": false,
            "showline": true,
            "ticks": "outside"
           },
           "bgcolor": "white",
           "caxis": {
            "gridcolor": "rgb(232,232,232)",
            "linecolor": "rgb(36,36,36)",
            "showgrid": false,
            "showline": true,
            "ticks": "outside"
           }
          },
          "title": {
           "x": 0.05
          },
          "xaxis": {
           "automargin": true,
           "gridcolor": "rgb(232,232,232)",
           "linecolor": "rgb(36,36,36)",
           "showgrid": false,
           "showline": true,
           "ticks": "outside",
           "title": {
            "standoff": 15
           },
           "zeroline": false,
           "zerolinecolor": "rgb(36,36,36)"
          },
          "yaxis": {
           "automargin": true,
           "gridcolor": "rgb(232,232,232)",
           "linecolor": "rgb(36,36,36)",
           "showgrid": false,
           "showline": true,
           "ticks": "outside",
           "title": {
            "standoff": 15
           },
           "zeroline": false,
           "zerolinecolor": "rgb(36,36,36)"
          }
         }
        },
        "title": {
         "text": "Comparación de Turismo vs Excursionismo (2016-2025)"
        },
        "xaxis": {
         "title": {
          "text": "Tiempo"
         }
        },
        "yaxis": {
         "title": {
          "text": "Número de Viajes"
         }
        }
       }
      }
     },
     "metadata": {},
     "output_type": "display_data"
    }
   ],
   "source": [
    "\n",
    "tipologia_2.index = tipologia_2.index.astype(str) # Convertir indice a strings\n",
    "fig = go.Figure()\n",
    "fig.add_trace(go.Scatter(\n",
    "    x=tipologia_2.index,\n",
    "    y=tipologia_2[\"Datos Turista\"],\n",
    "    mode=\"lines\",\n",
    "    name=\"Turistas\",\n",
    "    fill=\"tozeroy\",  # Sombreado hasta el eje X\n",
    "    line=dict(color=\"blue\")\n",
    "))\n",
    "fig.add_trace(go.Scatter(\n",
    "    x=tipologia_2.index,\n",
    "    y=tipologia_2[\"Datos Excursionista\"],\n",
    "    mode=\"lines\",\n",
    "    name=\"Excursionistas\",\n",
    "    fill=\"tozeroy\",\n",
    "    line=dict(color=\"green\")\n",
    "))\n",
    "\n",
    "# Título y diseño\n",
    "fig.update_layout(\n",
    "    title=\"Comparación de Turismo vs Excursionismo (2016-2025)\",\n",
    "    xaxis_title=\"Tiempo\",\n",
    "    yaxis_title=\"Número de Viajes\",\n",
    "    template=\"simple_white\"\n",
    ")\n",
    "\n",
    "fig.show()"
   ]
  },
  {
   "cell_type": "code",
   "execution_count": null,
   "metadata": {},
   "outputs": [],
   "source": []
  },
  {
   "cell_type": "markdown",
   "metadata": {},
   "source": [
    "# ¿España es un pais en el que el viaje por negocios va en aumento?"
   ]
  },
  {
   "cell_type": "markdown",
   "metadata": {},
   "source": [
    "Para esta hipótesis, utilizaremos un dataset del Instituto Nacional de Estadística (INE) que proporciona datos sobre el turismo por negocio en España durante los últimos 10 años. La información está organizada de manera mensual y también incluye el acumulado del año en curso, lo que nos permitirá evaluar tendencias y posibles fluctuaciones en la actividad turística ligada a negocios."
   ]
  },
  {
   "cell_type": "code",
   "execution_count": 52,
   "metadata": {},
   "outputs": [
    {
     "data": {
      "text/html": [
       "<div>\n",
       "<style scoped>\n",
       "    .dataframe tbody tr th:only-of-type {\n",
       "        vertical-align: middle;\n",
       "    }\n",
       "\n",
       "    .dataframe tbody tr th {\n",
       "        vertical-align: top;\n",
       "    }\n",
       "\n",
       "    .dataframe thead th {\n",
       "        text-align: right;\n",
       "    }\n",
       "</style>\n",
       "<table border=\"1\" class=\"dataframe\">\n",
       "  <thead>\n",
       "    <tr style=\"text-align: right;\">\n",
       "      <th></th>\n",
       "      <th>2025M01</th>\n",
       "      <th>2024M12</th>\n",
       "      <th>2024M11</th>\n",
       "      <th>2024M10</th>\n",
       "      <th>2024M09</th>\n",
       "      <th>2024M08</th>\n",
       "      <th>2024M07</th>\n",
       "      <th>2024M06</th>\n",
       "      <th>2024M05</th>\n",
       "      <th>2024M04</th>\n",
       "      <th>...</th>\n",
       "      <th>2016M07</th>\n",
       "      <th>2016M06</th>\n",
       "      <th>2016M05</th>\n",
       "      <th>2016M04</th>\n",
       "      <th>2016M03</th>\n",
       "      <th>2016M02</th>\n",
       "      <th>2016M01</th>\n",
       "      <th>2015M12</th>\n",
       "      <th>2015M11</th>\n",
       "      <th>2015M10</th>\n",
       "    </tr>\n",
       "    <tr>\n",
       "      <th></th>\n",
       "      <th></th>\n",
       "      <th></th>\n",
       "      <th></th>\n",
       "      <th></th>\n",
       "      <th></th>\n",
       "      <th></th>\n",
       "      <th></th>\n",
       "      <th></th>\n",
       "      <th></th>\n",
       "      <th></th>\n",
       "      <th></th>\n",
       "      <th></th>\n",
       "      <th></th>\n",
       "      <th></th>\n",
       "      <th></th>\n",
       "      <th></th>\n",
       "      <th></th>\n",
       "      <th></th>\n",
       "      <th></th>\n",
       "      <th></th>\n",
       "      <th></th>\n",
       "    </tr>\n",
       "  </thead>\n",
       "  <tbody>\n",
       "    <tr>\n",
       "      <th>Dato base</th>\n",
       "      <td>5065094.0</td>\n",
       "      <td>5264375.0</td>\n",
       "      <td>5670219.0</td>\n",
       "      <td>8961932.0</td>\n",
       "      <td>9602015.0</td>\n",
       "      <td>10929584.0</td>\n",
       "      <td>10852347.0</td>\n",
       "      <td>9299574.0</td>\n",
       "      <td>9255985.0</td>\n",
       "      <td>7783750.0</td>\n",
       "      <td>...</td>\n",
       "      <td>9545792.0</td>\n",
       "      <td>7552758.0</td>\n",
       "      <td>7111154.0</td>\n",
       "      <td>6086327.0</td>\n",
       "      <td>4627206.0</td>\n",
       "      <td>3678726.0</td>\n",
       "      <td>3526537.0</td>\n",
       "      <td>3512914</td>\n",
       "      <td>3754802</td>\n",
       "      <td>6432341</td>\n",
       "    </tr>\n",
       "    <tr>\n",
       "      <th>Tasa de variación anual</th>\n",
       "      <td>6.1</td>\n",
       "      <td>1.1</td>\n",
       "      <td>10.4</td>\n",
       "      <td>9.5</td>\n",
       "      <td>9.2</td>\n",
       "      <td>7.3</td>\n",
       "      <td>7.3</td>\n",
       "      <td>11.9</td>\n",
       "      <td>11.5</td>\n",
       "      <td>7.7</td>\n",
       "      <td>...</td>\n",
       "      <td>10.0</td>\n",
       "      <td>12.9</td>\n",
       "      <td>8.2</td>\n",
       "      <td>11.6</td>\n",
       "      <td>15.4</td>\n",
       "      <td>13.9</td>\n",
       "      <td>11.0</td>\n",
       "      <td>7.9</td>\n",
       "      <td>10.6</td>\n",
       "      <td>8.9</td>\n",
       "    </tr>\n",
       "    <tr>\n",
       "      <th>Acumulado en lo que va de año</th>\n",
       "      <td>5065094.0</td>\n",
       "      <td>93759297.0</td>\n",
       "      <td>88494922.0</td>\n",
       "      <td>82824703.0</td>\n",
       "      <td>73862771.0</td>\n",
       "      <td>64260756.0</td>\n",
       "      <td>53331172.0</td>\n",
       "      <td>42478825.0</td>\n",
       "      <td>33179251.0</td>\n",
       "      <td>23923266.0</td>\n",
       "      <td>...</td>\n",
       "      <td>42128500.0</td>\n",
       "      <td>32582708.0</td>\n",
       "      <td>25029951.0</td>\n",
       "      <td>17918796.0</td>\n",
       "      <td>11832469.0</td>\n",
       "      <td>7205263.0</td>\n",
       "      <td>3526537.0</td>\n",
       "      <td></td>\n",
       "      <td></td>\n",
       "      <td></td>\n",
       "    </tr>\n",
       "    <tr>\n",
       "      <th>Tasa de variación acumulada</th>\n",
       "      <td>6.1</td>\n",
       "      <td>10.1</td>\n",
       "      <td>10.7</td>\n",
       "      <td>10.7</td>\n",
       "      <td>10.8</td>\n",
       "      <td>11.1</td>\n",
       "      <td>11.9</td>\n",
       "      <td>13.2</td>\n",
       "      <td>13.5</td>\n",
       "      <td>14.3</td>\n",
       "      <td>...</td>\n",
       "      <td>11.4</td>\n",
       "      <td>11.8</td>\n",
       "      <td>11.5</td>\n",
       "      <td>12.9</td>\n",
       "      <td>13.6</td>\n",
       "      <td>12.5</td>\n",
       "      <td>11.0</td>\n",
       "      <td></td>\n",
       "      <td></td>\n",
       "      <td></td>\n",
       "    </tr>\n",
       "    <tr>\n",
       "      <th>Ocio, recreo y vacaciones</th>\n",
       "      <td>NaN</td>\n",
       "      <td>NaN</td>\n",
       "      <td>NaN</td>\n",
       "      <td>NaN</td>\n",
       "      <td>NaN</td>\n",
       "      <td>NaN</td>\n",
       "      <td>NaN</td>\n",
       "      <td>NaN</td>\n",
       "      <td>NaN</td>\n",
       "      <td>NaN</td>\n",
       "      <td>...</td>\n",
       "      <td>NaN</td>\n",
       "      <td>NaN</td>\n",
       "      <td>NaN</td>\n",
       "      <td>NaN</td>\n",
       "      <td>NaN</td>\n",
       "      <td>NaN</td>\n",
       "      <td>NaN</td>\n",
       "      <td>NaN</td>\n",
       "      <td>NaN</td>\n",
       "      <td>NaN</td>\n",
       "    </tr>\n",
       "  </tbody>\n",
       "</table>\n",
       "<p>5 rows × 112 columns</p>\n",
       "</div>"
      ],
      "text/plain": [
       "                                    2025M01    2024M12    2024M11    2024M10  \\\n",
       "                                                                               \n",
       "    Dato base                     5065094.0  5264375.0  5670219.0  8961932.0   \n",
       "    Tasa de variación anual             6.1        1.1       10.4        9.5   \n",
       "    Acumulado en lo que va de año 5065094.0 93759297.0 88494922.0 82824703.0   \n",
       "    Tasa de variación acumulada         6.1       10.1       10.7       10.7   \n",
       "Ocio, recreo y vacaciones               NaN        NaN        NaN        NaN   \n",
       "\n",
       "                                     2024M09    2024M08    2024M07    2024M06  \\\n",
       "                                                                                \n",
       "    Dato base                      9602015.0 10929584.0 10852347.0  9299574.0   \n",
       "    Tasa de variación anual              9.2        7.3        7.3       11.9   \n",
       "    Acumulado en lo que va de año 73862771.0 64260756.0 53331172.0 42478825.0   \n",
       "    Tasa de variación acumulada         10.8       11.1       11.9       13.2   \n",
       "Ocio, recreo y vacaciones                NaN        NaN        NaN        NaN   \n",
       "\n",
       "                                     2024M05    2024M04  ...    2016M07  \\\n",
       "                                                         ...              \n",
       "    Dato base                      9255985.0  7783750.0  ...  9545792.0   \n",
       "    Tasa de variación anual             11.5        7.7  ...       10.0   \n",
       "    Acumulado en lo que va de año 33179251.0 23923266.0  ... 42128500.0   \n",
       "    Tasa de variación acumulada         13.5       14.3  ...       11.4   \n",
       "Ocio, recreo y vacaciones                NaN        NaN  ...        NaN   \n",
       "\n",
       "                                     2016M06    2016M05    2016M04    2016M03  \\\n",
       "                                                                                \n",
       "    Dato base                      7552758.0  7111154.0  6086327.0  4627206.0   \n",
       "    Tasa de variación anual             12.9        8.2       11.6       15.4   \n",
       "    Acumulado en lo que va de año 32582708.0 25029951.0 17918796.0 11832469.0   \n",
       "    Tasa de variación acumulada         11.8       11.5       12.9       13.6   \n",
       "Ocio, recreo y vacaciones                NaN        NaN        NaN        NaN   \n",
       "\n",
       "                                    2016M02   2016M01  2015M12  2015M11  \\\n",
       "                                                                          \n",
       "    Dato base                     3678726.0 3526537.0  3512914  3754802   \n",
       "    Tasa de variación anual            13.9      11.0      7.9     10.6   \n",
       "    Acumulado en lo que va de año 7205263.0 3526537.0                     \n",
       "    Tasa de variación acumulada        12.5      11.0                     \n",
       "Ocio, recreo y vacaciones               NaN       NaN      NaN      NaN   \n",
       "\n",
       "                                   2015M10  \n",
       "                                            \n",
       "    Dato base                      6432341  \n",
       "    Tasa de variación anual            8.9  \n",
       "    Acumulado en lo que va de año           \n",
       "    Tasa de variación acumulada             \n",
       "Ocio, recreo y vacaciones              NaN  \n",
       "\n",
       "[5 rows x 112 columns]"
      ]
     },
     "execution_count": 52,
     "metadata": {},
     "output_type": "execute_result"
    }
   ],
   "source": [
    "motivo.head(5)"
   ]
  },
  {
   "cell_type": "code",
   "execution_count": 53,
   "metadata": {},
   "outputs": [
    {
     "data": {
      "text/html": [
       "<div>\n",
       "<style scoped>\n",
       "    .dataframe tbody tr th:only-of-type {\n",
       "        vertical-align: middle;\n",
       "    }\n",
       "\n",
       "    .dataframe tbody tr th {\n",
       "        vertical-align: top;\n",
       "    }\n",
       "\n",
       "    .dataframe thead th {\n",
       "        text-align: right;\n",
       "    }\n",
       "</style>\n",
       "<table border=\"1\" class=\"dataframe\">\n",
       "  <thead>\n",
       "    <tr style=\"text-align: right;\">\n",
       "      <th></th>\n",
       "      <th>Dato base</th>\n",
       "      <th>Tasa de variación anual</th>\n",
       "      <th>Acumulado en lo que va de año</th>\n",
       "      <th>Tasa de variación acumulada</th>\n",
       "      <th>Ocio, recreo y vacaciones</th>\n",
       "      <th>Total Ocio</th>\n",
       "      <th>Tasa de variación anual</th>\n",
       "      <th>Acumulado en lo que va de año</th>\n",
       "      <th>Tasa de variación acumulada</th>\n",
       "      <th>Negocio, motivos profesionales</th>\n",
       "      <th>Total Negocios</th>\n",
       "      <th>Tasa de variación anual</th>\n",
       "      <th>Acumulado en lo que va de año</th>\n",
       "      <th>Tasa de variación acumulada</th>\n",
       "      <th>Otros motivos</th>\n",
       "      <th>Total Otros motivos</th>\n",
       "      <th>Tasa de variación anual</th>\n",
       "      <th>Acumulado en lo que va de año</th>\n",
       "      <th>Tasa de variación acumulada</th>\n",
       "    </tr>\n",
       "  </thead>\n",
       "  <tbody>\n",
       "    <tr>\n",
       "      <th>2025 01</th>\n",
       "      <td>5065094.0</td>\n",
       "      <td>6.1</td>\n",
       "      <td>5065094.0</td>\n",
       "      <td>6.1</td>\n",
       "      <td>NaN</td>\n",
       "      <td>4119870.0</td>\n",
       "      <td>5.1</td>\n",
       "      <td>4119870.0</td>\n",
       "      <td>5.1</td>\n",
       "      <td>NaN</td>\n",
       "      <td>244325.0</td>\n",
       "      <td>7.7</td>\n",
       "      <td>244325.0</td>\n",
       "      <td>7.7</td>\n",
       "      <td>NaN</td>\n",
       "      <td>700898.0</td>\n",
       "      <td>11.6</td>\n",
       "      <td>700898.0</td>\n",
       "      <td>11.6</td>\n",
       "    </tr>\n",
       "    <tr>\n",
       "      <th>2024 12</th>\n",
       "      <td>5264375.0</td>\n",
       "      <td>1.1</td>\n",
       "      <td>93759297.0</td>\n",
       "      <td>10.1</td>\n",
       "      <td>NaN</td>\n",
       "      <td>4257518.0</td>\n",
       "      <td>2.0</td>\n",
       "      <td>81049012.0</td>\n",
       "      <td>9.9</td>\n",
       "      <td>NaN</td>\n",
       "      <td>287335.0</td>\n",
       "      <td>2.6</td>\n",
       "      <td>5148452.0</td>\n",
       "      <td>6.7</td>\n",
       "      <td>NaN</td>\n",
       "      <td>719521.0</td>\n",
       "      <td>-4.7</td>\n",
       "      <td>7561833.0</td>\n",
       "      <td>15.1</td>\n",
       "    </tr>\n",
       "    <tr>\n",
       "      <th>2024 11</th>\n",
       "      <td>5670219.0</td>\n",
       "      <td>10.4</td>\n",
       "      <td>88494922.0</td>\n",
       "      <td>10.7</td>\n",
       "      <td>NaN</td>\n",
       "      <td>4622268.0</td>\n",
       "      <td>10.5</td>\n",
       "      <td>76791494.0</td>\n",
       "      <td>10.3</td>\n",
       "      <td>NaN</td>\n",
       "      <td>463667.0</td>\n",
       "      <td>6.5</td>\n",
       "      <td>4861117.0</td>\n",
       "      <td>6.9</td>\n",
       "      <td>NaN</td>\n",
       "      <td>584284.0</td>\n",
       "      <td>12.8</td>\n",
       "      <td>6842312.0</td>\n",
       "      <td>17.7</td>\n",
       "    </tr>\n",
       "    <tr>\n",
       "      <th>2024 10</th>\n",
       "      <td>8961932.0</td>\n",
       "      <td>9.5</td>\n",
       "      <td>82824703.0</td>\n",
       "      <td>10.7</td>\n",
       "      <td>NaN</td>\n",
       "      <td>7796628.0</td>\n",
       "      <td>11.4</td>\n",
       "      <td>72169226.0</td>\n",
       "      <td>10.3</td>\n",
       "      <td>NaN</td>\n",
       "      <td>525253.0</td>\n",
       "      <td>-13.4</td>\n",
       "      <td>4397450.0</td>\n",
       "      <td>7.0</td>\n",
       "      <td>NaN</td>\n",
       "      <td>640051.0</td>\n",
       "      <td>9.9</td>\n",
       "      <td>6258028.0</td>\n",
       "      <td>18.2</td>\n",
       "    </tr>\n",
       "    <tr>\n",
       "      <th>2024 09</th>\n",
       "      <td>9602015.0</td>\n",
       "      <td>9.2</td>\n",
       "      <td>73862771.0</td>\n",
       "      <td>10.8</td>\n",
       "      <td>NaN</td>\n",
       "      <td>8474002.0</td>\n",
       "      <td>7.9</td>\n",
       "      <td>64372598.0</td>\n",
       "      <td>10.2</td>\n",
       "      <td>NaN</td>\n",
       "      <td>567884.0</td>\n",
       "      <td>13.9</td>\n",
       "      <td>3872197.0</td>\n",
       "      <td>10.5</td>\n",
       "      <td>NaN</td>\n",
       "      <td>560130.0</td>\n",
       "      <td>25.4</td>\n",
       "      <td>5617976.0</td>\n",
       "      <td>19.2</td>\n",
       "    </tr>\n",
       "  </tbody>\n",
       "</table>\n",
       "</div>"
      ],
      "text/plain": [
       "        Dato base Tasa de variación anual Acumulado en lo que va de año  \\\n",
       "2025 01 5065094.0                     6.1                     5065094.0   \n",
       "2024 12 5264375.0                     1.1                    93759297.0   \n",
       "2024 11 5670219.0                    10.4                    88494922.0   \n",
       "2024 10 8961932.0                     9.5                    82824703.0   \n",
       "2024 09 9602015.0                     9.2                    73862771.0   \n",
       "\n",
       "        Tasa de variación acumulada Ocio, recreo y vacaciones Total Ocio  \\\n",
       "2025 01                         6.1                       NaN  4119870.0   \n",
       "2024 12                        10.1                       NaN  4257518.0   \n",
       "2024 11                        10.7                       NaN  4622268.0   \n",
       "2024 10                        10.7                       NaN  7796628.0   \n",
       "2024 09                        10.8                       NaN  8474002.0   \n",
       "\n",
       "        Tasa de variación anual Acumulado en lo que va de año  \\\n",
       "2025 01                     5.1                     4119870.0   \n",
       "2024 12                     2.0                    81049012.0   \n",
       "2024 11                    10.5                    76791494.0   \n",
       "2024 10                    11.4                    72169226.0   \n",
       "2024 09                     7.9                    64372598.0   \n",
       "\n",
       "        Tasa de variación acumulada Negocio, motivos profesionales  \\\n",
       "2025 01                         5.1                            NaN   \n",
       "2024 12                         9.9                            NaN   \n",
       "2024 11                        10.3                            NaN   \n",
       "2024 10                        10.3                            NaN   \n",
       "2024 09                        10.2                            NaN   \n",
       "\n",
       "        Total Negocios Tasa de variación anual Acumulado en lo que va de año  \\\n",
       "2025 01       244325.0                     7.7                      244325.0   \n",
       "2024 12       287335.0                     2.6                     5148452.0   \n",
       "2024 11       463667.0                     6.5                     4861117.0   \n",
       "2024 10       525253.0                   -13.4                     4397450.0   \n",
       "2024 09       567884.0                    13.9                     3872197.0   \n",
       "\n",
       "        Tasa de variación acumulada Otros motivos Total Otros motivos  \\\n",
       "2025 01                         7.7           NaN            700898.0   \n",
       "2024 12                         6.7           NaN            719521.0   \n",
       "2024 11                         6.9           NaN            584284.0   \n",
       "2024 10                         7.0           NaN            640051.0   \n",
       "2024 09                        10.5           NaN            560130.0   \n",
       "\n",
       "        Tasa de variación anual Acumulado en lo que va de año  \\\n",
       "2025 01                    11.6                      700898.0   \n",
       "2024 12                    -4.7                     7561833.0   \n",
       "2024 11                    12.8                     6842312.0   \n",
       "2024 10                     9.9                     6258028.0   \n",
       "2024 09                    25.4                     5617976.0   \n",
       "\n",
       "        Tasa de variación acumulada  \n",
       "2025 01                        11.6  \n",
       "2024 12                        15.1  \n",
       "2024 11                        17.7  \n",
       "2024 10                        18.2  \n",
       "2024 09                        19.2  "
      ]
     },
     "execution_count": 53,
     "metadata": {},
     "output_type": "execute_result"
    }
   ],
   "source": [
    "motivo_viaje = pd.read_excel(\"./data/motivo_viaje.xlsx\")\n",
    "motivo_viaje.columns=motivo_viaje.columns.str.replace(\"M\", \" \")#Reemplaza la M de las fechas por un espacio\n",
    "motivo_viaje = motivo_viaje.transpose()\n",
    "motivo_viaje.columns = motivo_viaje.iloc[0].astype(str).str.strip()  #Convierte valores string y elimina los espacios\n",
    "motivo_viaje = motivo_viaje.drop(motivo_viaje.index[0])  #Elimina la fila con los nombres\n",
    "#motivo_viaje.columns\n",
    "#motivo_viaje\n",
    "\n",
    "motivo_viaje.columns.values[5] = \"Total Ocio\"\n",
    "motivo_viaje.columns.values[10] = \"Total Negocios\"\n",
    "motivo_viaje.columns.values[15] = \"Total Otros motivos\"\n",
    "\n",
    "negocios = motivo_viaje[['Total Negocios']].copy()\n",
    "# negocios = negocios.transpose()\n",
    "negocios = negocios[negocios.columns[::-1]]\n",
    "motivo_viaje.head(5)"
   ]
  },
  {
   "cell_type": "code",
   "execution_count": 54,
   "metadata": {},
   "outputs": [
    {
     "data": {
      "image/png": "[encoded data removed]",
      "text/plain": [
       "<Figure size 640x480 with 1 Axes>"
      ]
     },
     "metadata": {},
     "output_type": "display_data"
    }
   ],
   "source": [
    "negocios = negocios.drop(negocios.index[0])\n",
    "negocios.index = pd.to_datetime(negocios.index, errors='coerce')\n",
    "negocios = negocios.groupby(negocios.index.year).sum()\n",
    "plt.plot(negocios.index, negocios[\"Total Negocios\"], linestyle='-', marker='o')\n",
    "plt.xticks(range(2015, 2026, 1))  # Para mostrar los años de 2015 a 2025\n",
    "plt.yticks(range(0, 6000000, 500000))  # Configurar los ticks en el eje Y\n",
    "plt.ylabel(\"Número de visitantes\")\n",
    "plt.xlabel(\"Año\")\n",
    "plt.title(\"Visitantes por negocios (2015-2024)\")\n",
    "def format_millions(x, p):\n",
    "    return f'{int(x/500000)}M'\n",
    "plt.gca().yaxis.set_major_formatter(plt.FuncFormatter(format_millions))\n",
    "plt.show()"
   ]
  },
  {
   "cell_type": "markdown",
   "metadata": {},
   "source": [
    "# ¿Los turistas de ciertos países gastan más dinero en España que otros? Desde 2015 a 2025"
   ]
  },
  {
   "cell_type": "code",
   "execution_count": 55,
   "metadata": {},
   "outputs": [
    {
     "data": {
      "text/html": [
       "<div>\n",
       "<style scoped>\n",
       "    .dataframe tbody tr th:only-of-type {\n",
       "        vertical-align: middle;\n",
       "    }\n",
       "\n",
       "    .dataframe tbody tr th {\n",
       "        vertical-align: top;\n",
       "    }\n",
       "\n",
       "    .dataframe thead th {\n",
       "        text-align: right;\n",
       "    }\n",
       "</style>\n",
       "<table border=\"1\" class=\"dataframe\">\n",
       "  <thead>\n",
       "    <tr style=\"text-align: right;\">\n",
       "      <th></th>\n",
       "      <th>2025M01</th>\n",
       "      <th>2024M12</th>\n",
       "      <th>2024M11</th>\n",
       "      <th>2024M10</th>\n",
       "      <th>2024M09</th>\n",
       "      <th>2024M08</th>\n",
       "      <th>2024M07</th>\n",
       "      <th>2024M06</th>\n",
       "      <th>2024M05</th>\n",
       "      <th>2024M04</th>\n",
       "      <th>...</th>\n",
       "      <th>2016M07</th>\n",
       "      <th>2016M06</th>\n",
       "      <th>2016M05</th>\n",
       "      <th>2016M04</th>\n",
       "      <th>2016M03</th>\n",
       "      <th>2016M02</th>\n",
       "      <th>2016M01</th>\n",
       "      <th>2015M12</th>\n",
       "      <th>2015M11</th>\n",
       "      <th>2015M10</th>\n",
       "    </tr>\n",
       "    <tr>\n",
       "      <th></th>\n",
       "      <th></th>\n",
       "      <th></th>\n",
       "      <th></th>\n",
       "      <th></th>\n",
       "      <th></th>\n",
       "      <th></th>\n",
       "      <th></th>\n",
       "      <th></th>\n",
       "      <th></th>\n",
       "      <th></th>\n",
       "      <th></th>\n",
       "      <th></th>\n",
       "      <th></th>\n",
       "      <th></th>\n",
       "      <th></th>\n",
       "      <th></th>\n",
       "      <th></th>\n",
       "      <th></th>\n",
       "      <th></th>\n",
       "      <th></th>\n",
       "      <th></th>\n",
       "    </tr>\n",
       "  </thead>\n",
       "  <tbody>\n",
       "    <tr>\n",
       "      <th>Gasto total</th>\n",
       "      <td>NaN</td>\n",
       "      <td>NaN</td>\n",
       "      <td>NaN</td>\n",
       "      <td>NaN</td>\n",
       "      <td>NaN</td>\n",
       "      <td>NaN</td>\n",
       "      <td>NaN</td>\n",
       "      <td>NaN</td>\n",
       "      <td>NaN</td>\n",
       "      <td>NaN</td>\n",
       "      <td>...</td>\n",
       "      <td>NaN</td>\n",
       "      <td>NaN</td>\n",
       "      <td>NaN</td>\n",
       "      <td>NaN</td>\n",
       "      <td>NaN</td>\n",
       "      <td>NaN</td>\n",
       "      <td>NaN</td>\n",
       "      <td>NaN</td>\n",
       "      <td>NaN</td>\n",
       "      <td>NaN</td>\n",
       "    </tr>\n",
       "    <tr>\n",
       "      <th>Total</th>\n",
       "      <td>NaN</td>\n",
       "      <td>NaN</td>\n",
       "      <td>NaN</td>\n",
       "      <td>NaN</td>\n",
       "      <td>NaN</td>\n",
       "      <td>NaN</td>\n",
       "      <td>NaN</td>\n",
       "      <td>NaN</td>\n",
       "      <td>NaN</td>\n",
       "      <td>NaN</td>\n",
       "      <td>...</td>\n",
       "      <td>NaN</td>\n",
       "      <td>NaN</td>\n",
       "      <td>NaN</td>\n",
       "      <td>NaN</td>\n",
       "      <td>NaN</td>\n",
       "      <td>NaN</td>\n",
       "      <td>NaN</td>\n",
       "      <td>NaN</td>\n",
       "      <td>NaN</td>\n",
       "      <td>NaN</td>\n",
       "    </tr>\n",
       "    <tr>\n",
       "      <th>Dato base</th>\n",
       "      <td>7132.0</td>\n",
       "      <td>7590.3</td>\n",
       "      <td>7707.7</td>\n",
       "      <td>11898.7</td>\n",
       "      <td>12613.0</td>\n",
       "      <td>15364.4</td>\n",
       "      <td>15513.3</td>\n",
       "      <td>12356.8</td>\n",
       "      <td>11686.9</td>\n",
       "      <td>9488.1</td>\n",
       "      <td>...</td>\n",
       "      <td>10238.5</td>\n",
       "      <td>7817.4</td>\n",
       "      <td>6917.9</td>\n",
       "      <td>5628.0</td>\n",
       "      <td>4624.5</td>\n",
       "      <td>3706.3</td>\n",
       "      <td>3737.3</td>\n",
       "      <td>3773.3</td>\n",
       "      <td>3872.8</td>\n",
       "      <td>6280.6</td>\n",
       "    </tr>\n",
       "    <tr>\n",
       "      <th>Reino Unido</th>\n",
       "      <td>NaN</td>\n",
       "      <td>NaN</td>\n",
       "      <td>NaN</td>\n",
       "      <td>NaN</td>\n",
       "      <td>NaN</td>\n",
       "      <td>NaN</td>\n",
       "      <td>NaN</td>\n",
       "      <td>NaN</td>\n",
       "      <td>NaN</td>\n",
       "      <td>NaN</td>\n",
       "      <td>...</td>\n",
       "      <td>NaN</td>\n",
       "      <td>NaN</td>\n",
       "      <td>NaN</td>\n",
       "      <td>NaN</td>\n",
       "      <td>NaN</td>\n",
       "      <td>NaN</td>\n",
       "      <td>NaN</td>\n",
       "      <td>NaN</td>\n",
       "      <td>NaN</td>\n",
       "      <td>NaN</td>\n",
       "    </tr>\n",
       "    <tr>\n",
       "      <th>Dato base</th>\n",
       "      <td>1096.1</td>\n",
       "      <td>1096.4</td>\n",
       "      <td>1156.8</td>\n",
       "      <td>2124.2</td>\n",
       "      <td>2451.0</td>\n",
       "      <td>3026.0</td>\n",
       "      <td>2846.6</td>\n",
       "      <td>2481.8</td>\n",
       "      <td>2193.7</td>\n",
       "      <td>1585.8</td>\n",
       "      <td>...</td>\n",
       "      <td>2197.0</td>\n",
       "      <td>1766.6</td>\n",
       "      <td>1495.2</td>\n",
       "      <td>1153.2</td>\n",
       "      <td>924.0</td>\n",
       "      <td>690.2</td>\n",
       "      <td>609.0</td>\n",
       "      <td>731.7</td>\n",
       "      <td>659.1</td>\n",
       "      <td>1336.4</td>\n",
       "    </tr>\n",
       "  </tbody>\n",
       "</table>\n",
       "<p>5 rows × 112 columns</p>\n",
       "</div>"
      ],
      "text/plain": [
       "                   2025M01  2024M12  2024M11  2024M10  2024M09  2024M08  \\\n",
       "                                                                          \n",
       "Gasto total            NaN      NaN      NaN      NaN      NaN      NaN   \n",
       "    Total              NaN      NaN      NaN      NaN      NaN      NaN   \n",
       "        Dato base   7132.0   7590.3   7707.7  11898.7  12613.0  15364.4   \n",
       "    Reino Unido        NaN      NaN      NaN      NaN      NaN      NaN   \n",
       "        Dato base   1096.1   1096.4   1156.8   2124.2   2451.0   3026.0   \n",
       "\n",
       "                   2024M07  2024M06  2024M05  2024M04  ...  2016M07  2016M06  \\\n",
       "                                                       ...                     \n",
       "Gasto total            NaN      NaN      NaN      NaN  ...      NaN      NaN   \n",
       "    Total              NaN      NaN      NaN      NaN  ...      NaN      NaN   \n",
       "        Dato base  15513.3  12356.8  11686.9   9488.1  ...  10238.5   7817.4   \n",
       "    Reino Unido        NaN      NaN      NaN      NaN  ...      NaN      NaN   \n",
       "        Dato base   2846.6   2481.8   2193.7   1585.8  ...   2197.0   1766.6   \n",
       "\n",
       "                   2016M05  2016M04  2016M03  2016M02  2016M01  2015M12  \\\n",
       "                                                                          \n",
       "Gasto total            NaN      NaN      NaN      NaN      NaN      NaN   \n",
       "    Total              NaN      NaN      NaN      NaN      NaN      NaN   \n",
       "        Dato base   6917.9   5628.0   4624.5   3706.3   3737.3   3773.3   \n",
       "    Reino Unido        NaN      NaN      NaN      NaN      NaN      NaN   \n",
       "        Dato base   1495.2   1153.2    924.0    690.2    609.0    731.7   \n",
       "\n",
       "                   2015M11  2015M10  \n",
       "                                     \n",
       "Gasto total            NaN      NaN  \n",
       "    Total              NaN      NaN  \n",
       "        Dato base   3872.8   6280.6  \n",
       "    Reino Unido        NaN      NaN  \n",
       "        Dato base    659.1   1336.4  \n",
       "\n",
       "[5 rows x 112 columns]"
      ]
     },
     "execution_count": 55,
     "metadata": {},
     "output_type": "execute_result"
    }
   ],
   "source": [
    "pais.head(5)"
   ]
  },
  {
   "cell_type": "markdown",
   "metadata": {},
   "source": [
    "Este código carga datos de gasto turístico desde archivos Excel y realiza una limpieza y transformación de los datos.\n",
    "\n",
    "* Corrección de fechas: Reemplaza la \"M\" de las columnas por guiones para mejorar el formato.\n",
    "\n",
    "* Limpieza y conversión de datos: Transpone los DataFrames y convierte los valores en formato numérico.\n",
    "\n",
    "* Organización de índices: Ajusta el índice, eliminando filas innecesarias y convirtiendo las fechas a un formato datetime.\n",
    "\n",
    "* Agrupación anual: Suma los datos de gasto por país agrupándolos por año para facilitar el análisis."
   ]
  },
  {
   "cell_type": "code",
   "execution_count": 56,
   "metadata": {},
   "outputs": [
    {
     "data": {
      "text/html": [
       "<div>\n",
       "<style scoped>\n",
       "    .dataframe tbody tr th:only-of-type {\n",
       "        vertical-align: middle;\n",
       "    }\n",
       "\n",
       "    .dataframe tbody tr th {\n",
       "        vertical-align: top;\n",
       "    }\n",
       "\n",
       "    .dataframe thead th {\n",
       "        text-align: right;\n",
       "    }\n",
       "</style>\n",
       "<table border=\"1\" class=\"dataframe\">\n",
       "  <thead>\n",
       "    <tr style=\"text-align: right;\">\n",
       "      <th></th>\n",
       "      <th>Total</th>\n",
       "      <th>Reino Unido</th>\n",
       "      <th>Países Nórdicos</th>\n",
       "      <th>Resto del Mundo</th>\n",
       "      <th>Alemania</th>\n",
       "      <th>Francia</th>\n",
       "      <th>Italia</th>\n",
       "    </tr>\n",
       "  </thead>\n",
       "  <tbody>\n",
       "    <tr>\n",
       "      <th>2025-01-01</th>\n",
       "      <td>7132.0</td>\n",
       "      <td>1096.1</td>\n",
       "      <td>618.4</td>\n",
       "      <td>3798.5</td>\n",
       "      <td>792.5</td>\n",
       "      <td>545.1</td>\n",
       "      <td>281.5</td>\n",
       "    </tr>\n",
       "    <tr>\n",
       "      <th>2024-12-01</th>\n",
       "      <td>7590.3</td>\n",
       "      <td>1096.4</td>\n",
       "      <td>628.9</td>\n",
       "      <td>3918.7</td>\n",
       "      <td>950.1</td>\n",
       "      <td>602.9</td>\n",
       "      <td>393.3</td>\n",
       "    </tr>\n",
       "    <tr>\n",
       "      <th>2024-11-01</th>\n",
       "      <td>7707.7</td>\n",
       "      <td>1156.8</td>\n",
       "      <td>687.4</td>\n",
       "      <td>3996.3</td>\n",
       "      <td>956.0</td>\n",
       "      <td>582.0</td>\n",
       "      <td>329.2</td>\n",
       "    </tr>\n",
       "    <tr>\n",
       "      <th>2024-10-01</th>\n",
       "      <td>11898.7</td>\n",
       "      <td>2124.2</td>\n",
       "      <td>785.4</td>\n",
       "      <td>6000.8</td>\n",
       "      <td>1666.2</td>\n",
       "      <td>912.2</td>\n",
       "      <td>409.8</td>\n",
       "    </tr>\n",
       "    <tr>\n",
       "      <th>2024-09-01</th>\n",
       "      <td>12613.0</td>\n",
       "      <td>2451.0</td>\n",
       "      <td>598.4</td>\n",
       "      <td>6441.7</td>\n",
       "      <td>1651.3</td>\n",
       "      <td>1018.5</td>\n",
       "      <td>452.0</td>\n",
       "    </tr>\n",
       "  </tbody>\n",
       "</table>\n",
       "</div>"
      ],
      "text/plain": [
       "             Total Reino Unido Países Nórdicos Resto del Mundo Alemania  \\\n",
       "2025-01-01  7132.0      1096.1           618.4          3798.5    792.5   \n",
       "2024-12-01  7590.3      1096.4           628.9          3918.7    950.1   \n",
       "2024-11-01  7707.7      1156.8           687.4          3996.3    956.0   \n",
       "2024-10-01 11898.7      2124.2           785.4          6000.8   1666.2   \n",
       "2024-09-01 12613.0      2451.0           598.4          6441.7   1651.3   \n",
       "\n",
       "           Francia Italia  \n",
       "2025-01-01   545.1  281.5  \n",
       "2024-12-01   602.9  393.3  \n",
       "2024-11-01   582.0  329.2  \n",
       "2024-10-01   912.2  409.8  \n",
       "2024-09-01  1018.5  452.0  "
      ]
     },
     "execution_count": 56,
     "metadata": {},
     "output_type": "execute_result"
    }
   ],
   "source": [
    "pais = pd.read_excel(\"./data/Gasto_segun_paisxlsx.xlsx\")\n",
    "pais.columns=pais.columns.str.replace(\"M\", \"-\")#Reemplaza la M de las fechas por un espacio\n",
    "pais=pais.set_index(\" \")\n",
    "pais = pais.transpose()\n",
    "pais = pais.apply(pd.to_numeric, errors='coerce')\n",
    "\n",
    "pais_2 = pd.read_excel(\"./data/gasto_por_pais.xlsx\")\n",
    "pais_2.columns = pais_2.columns.str.replace(\"M\", \"-\") #reemplazar \"M\" por espacio\n",
    "pais_2 = pais_2.transpose() #Transponer el DataFrame\n",
    "pais_2.columns = pais_2.iloc[0]\n",
    "pais_2 = pais_2[1:]\n",
    "\n",
    "pais_2.index = pd.to_datetime(pais_2.index, errors='coerce') \n",
    "df_anual = pais_2.groupby(pais_2.index.year).sum()\n",
    "pais_2.head(5)"
   ]
  },
  {
   "cell_type": "code",
   "execution_count": 57,
   "metadata": {},
   "outputs": [
    {
     "data": {
      "text/html": [
       "<div>\n",
       "<style scoped>\n",
       "    .dataframe tbody tr th:only-of-type {\n",
       "        vertical-align: middle;\n",
       "    }\n",
       "\n",
       "    .dataframe tbody tr th {\n",
       "        vertical-align: top;\n",
       "    }\n",
       "\n",
       "    .dataframe thead th {\n",
       "        text-align: right;\n",
       "    }\n",
       "</style>\n",
       "<table border=\"1\" class=\"dataframe\">\n",
       "  <thead>\n",
       "    <tr style=\"text-align: right;\">\n",
       "      <th></th>\n",
       "      <th>Total</th>\n",
       "      <th>Reino Unido</th>\n",
       "      <th>Países Nórdicos</th>\n",
       "      <th>Resto del Mundo</th>\n",
       "      <th>Alemania</th>\n",
       "      <th>Francia</th>\n",
       "      <th>Italia</th>\n",
       "    </tr>\n",
       "  </thead>\n",
       "  <tbody>\n",
       "    <tr>\n",
       "      <th>2024</th>\n",
       "      <td>126143.2</td>\n",
       "      <td>22551.7</td>\n",
       "      <td>7860.5</td>\n",
       "      <td>64156.9</td>\n",
       "      <td>15515.4</td>\n",
       "      <td>10969.2</td>\n",
       "      <td>5089.6</td>\n",
       "    </tr>\n",
       "  </tbody>\n",
       "</table>\n",
       "</div>"
      ],
      "text/plain": [
       "        Total Reino Unido Países Nórdicos Resto del Mundo Alemania Francia  \\\n",
       "2024 126143.2     22551.7          7860.5         64156.9  15515.4 10969.2   \n",
       "\n",
       "     Italia  \n",
       "2024 5089.6  "
      ]
     },
     "execution_count": 57,
     "metadata": {},
     "output_type": "execute_result"
    }
   ],
   "source": [
    "df_anual[-2:-1]"
   ]
  },
  {
   "cell_type": "markdown",
   "metadata": {},
   "source": [
    "En 2024, el turismo en España alcanzó cifras récord, generando un total de 207.763 millones de euros en actividad económica. Este sector representó el 13,1% del PIB nacional, consolidándose como el principal motor económico del país. Además, el gasto acumulado de los turistas internacionales fue de 126.282 millones de euros, lo que supone un incremento del 16,1% respecto al año anterior."
   ]
  },
  {
   "cell_type": "code",
   "execution_count": 58,
   "metadata": {},
   "outputs": [
    {
     "data": {
      "image/png": "[encoded data removed]",
      "text/plain": [
       "<Figure size 1000x800 with 1 Axes>"
      ]
     },
     "metadata": {},
     "output_type": "display_data"
    }
   ],
   "source": [
    "valores = df_anual.iloc[0, 1:]  # Valores de la primera fila sin total nacional\n",
    "etiquetas = df_anual.columns[1:]  # Nombres de las columnas sin el total nacional\n",
    "plt.figure(figsize=(10, 8)) #Grafico pastel\n",
    "wedges, texts, autotexts = plt.pie(\n",
    "    valores,\n",
    "    labels=etiquetas,\n",
    "    autopct='%1.1f%%',  # Muestra porcentajes\n",
    "    startangle=140,     # angulo inicial\n",
    "    colors=plt.cm.Set3.colors  ,  # Colores\n",
    "    explode = (0.2,0,0,0,0,0),\n",
    "    wedgeprops={'edgecolor':'black', 'linewidth':1.2},\n",
    "    textprops=dict(color=\"black\")  # Estilo del texto\n",
    ")\n",
    "# Agregar número de referencia en la esquina inferior derecha\n",
    "plt.figtext(0.95, 0.02, \"207.763 millones de euros\", ha=\"right\", fontsize=12, fontweight=\"bold\", color=\"gray\")\n",
    "\n",
    "plt.setp(autotexts, size=12, weight=\"bold\")  #porcentajes más visibles\n",
    "plt.setp(texts, size=14, weight=\"bold\")  # agranda las etiquetas\n",
    "centre_circle = plt.Circle((0, 0), 0.70, fc='white', edgecolor='black', linewidth=1.5)# Crear el círculo blanco para generar el \"semi-donut\"\n",
    "plt.gca().add_artist(centre_circle)  # Añadirlo al gráfico\n",
    "plt.title(\"Distribución del gasto por países (2024)\", fontsize=18, fontweight=\"bold\", color=\"darkblue\")\n",
    "plt.tight_layout() #Espacios\n",
    "plt.show()"
   ]
  },
  {
   "cell_type": "markdown",
   "metadata": {},
   "source": [
    "# Resumen de las hipótesis :"
   ]
  },
  {
   "cell_type": "markdown",
   "metadata": {},
   "source": [
    "### ¿El turismo en España sigue una fuerte estacionalidad? "
   ]
  },
  {
   "cell_type": "markdown",
   "metadata": {},
   "source": [
    "* Sí, los datos muestran un crecimiento progresivo del turismo desde 1999 hasta 2025. Al comparar las estaciones, observamos que el turismo de verano presenta picos pronunciados, mientras que en invierno la tendencia es más estable, con una forma de \"mesa\", lo que sugiere que la estacionalidad es más marcada en los meses cálidos."
   ]
  },
  {
   "cell_type": "markdown",
   "metadata": {},
   "source": [
    "### ¿Es más frecuente el turismo de estancia o la excursión? "
   ]
  },
  {
   "cell_type": "markdown",
   "metadata": {},
   "source": [
    "* En la gráfica correspondiente a esta hipótesis, se observa que el turismo de estancia es significativamente mayor que el turismo de excursión a nivel nacional en España, alcanzando casi el doble de visitantes. Este dato sugiere que los turistas tienden a preferir viajar con alojamiento incluido en lugar de realizar visitas sin pernocta, lo que podría estar influenciado por factores como la duración del viaje, el tipo de turismo predominante y la oferta hotelera disponible.\n",
    "\n",
    "* Este patrón refuerza la importancia del turismo de estancia en la economía turística y permite analizar su impacto en sectores relacionados, como la hotelería y el comercio local."
   ]
  },
  {
   "cell_type": "markdown",
   "metadata": {},
   "source": [
    "### ¿El turismo de negocios está creciendo en España?"
   ]
  },
  {
   "cell_type": "markdown",
   "metadata": {},
   "source": [
    "* En la gráfica correspondiente a esta hipótesis, se observa que antes de la pandemia, el turismo en España seguía una tendencia de crecimiento constante. Sin embargo, la crisis sanitaria de 2020 y 2021 provocó una caída pronunciada en la actividad turística.\n",
    "\n",
    "* A partir de 2022, los datos reflejan una recuperación sostenida, con un aumento progresivo en el número de visitantes. Si la tendencia actual se mantiene, para 2025 España podría alcanzar un nuevo récord histórico en turismo de negocios, superando los niveles previos a la pandemia. Este fenómeno destaca la resiliencia del sector y su capacidad de adaptación ante cambios globales."
   ]
  },
  {
   "cell_type": "markdown",
   "metadata": {},
   "source": [
    "### ¿Los turistas de ciertos países gastan más que otros en España?"
   ]
  },
  {
   "cell_type": "markdown",
   "metadata": {},
   "source": [
    "En 2024, el turismo en España alcanzó cifras récord, generando 207.763 millones de euros en actividad económica, lo que representa el 13,1% del PIB nacional y consolida al turismo como el principal motor económico del país.\n",
    "\n",
    "En cuanto a la distribución del gasto por país:\n",
    "\n",
    "1. Reino Unido: 19,6%\n",
    "\n",
    "2. Alemania: 14%\n",
    "\n",
    "3. Francia: 8,5%\n",
    "\n",
    "4. Italia: 3,6%\n",
    "\n",
    "5. Resto del mundo 44,1%: La categoría con mayor porcentaje, que incluye el continente americano y otros turistas no mencionados individualmente.\n",
    "\n",
    "Estos datos destacan el impacto económico del turismo internacional y su rol fundamental en la economía española."
   ]
  },
  {
   "cell_type": "markdown",
   "metadata": {},
   "source": [
    "### QR repositorio"
   ]
  },
  {
   "cell_type": "code",
   "execution_count": 59,
   "metadata": {},
   "outputs": [],
   "source": [
    "import qrcode\n",
    "\n",
    "# Crear el código QR\n",
    "url = \"https://github.com/Cristianvas198/Turismo_Spain.git\"\n",
    "qr = qrcode.make(url)\n",
    "\n",
    "# qr.save(\"turismo_spain_qr.png\") # Guardar la imagen\n",
    "# qr.show() # Mostrar el código QR\n"
   ]
  }
 ],
 "metadata": {
  "kernelspec": {
   "display_name": "Python 3",
   "language": "python",
   "name": "python3"
  },
  "language_info": {
   "codemirror_mode": {
    "name": "ipython",
    "version": 3
   },
   "file_extension": ".py",
   "mimetype": "text/x-python",
   "name": "python",
   "nbconvert_exporter": "python",
   "pygments_lexer": "ipython3",
   "version": "3.13.2"
  }
 },
 "nbformat": 4,
 "nbformat_minor": 2
}
