{
 "cells": [
  {
   "cell_type": "markdown",
   "metadata": {},
   "source": [
    "# ¿Cómo viajan los turistas en España?"
   ]
  },
  {
   "cell_type": "code",
   "execution_count": 382,
   "metadata": {},
   "outputs": [],
   "source": [
    "import pandas as pd\n",
    "import numpy as np\n",
    "import random\n",
    "import matplotlib.pyplot as plt\n",
    "import seaborn as sb\n",
    "from datetime import datetime\n",
    "import plotly.graph_objects as go"
   ]
  },
  {
   "cell_type": "markdown",
   "metadata": {},
   "source": [
    "# Hipotesis: \n",
    "\n",
    "\n",
    " ¿El turismo en España sigue una fuerte estacionalidad, con picos en verano y descensos en invierno? Datos\n",
    "\n",
    " ¿El turismo en España es mas de Turismo o Excursion? DATOS 2016 A 2025\n",
    "\n",
    " ¿España es un pais en el que el viaje por negocios va en aumento? \n",
    "\n",
    " ¿Los turistas de ciertos países gastan más dinero en España que otros? Desde 2015 a 2025\n"
   ]
  },
  {
   "cell_type": "markdown",
   "metadata": {},
   "source": [
    "# ¿El turismo en España sigue una fuerte estacionalidad, con picos en verano y descensos en invierno?"
   ]
  },
  {
   "cell_type": "markdown",
   "metadata": {},
   "source": [
    "La primera pregunta que analizamos es si el turismo en España sigue una fuerte estacionalidad. Para ello, observamos el número de turistas en cada estación del año."
   ]
  },
  {
   "cell_type": "code",
   "execution_count": 383,
   "metadata": {},
   "outputs": [],
   "source": [
    "turismo = pd.read_excel(\"./data/tourism_dataset.xlsx\") #Importa Dataset de la carpeta src\n",
    "turismo=pd.DataFrame(turismo) #Convierte a formato Dataframe\n",
    "\n",
    "#Creo un dataframe aparte para limpiar el nombre de las columnas\n",
    "reemplazo_comunidad=turismo[\" \"].str.split(expand=True)\n",
    "reemplazo_comunidad= reemplazo_comunidad.drop(columns = [0, 2, 3, 4])\n",
    "#reemplazo_comunidad\n",
    "\n",
    "#Union entre el datafram principal y el datafram de nombres limpios\n",
    "turismo= pd.concat([turismo, reemplazo_comunidad], axis=1)\n",
    "turismo = turismo.rename(columns={1: 'Comunidad'}) #Renombra la columna recien concatenada\n",
    "turismo= turismo.drop(columns = [\" \"]) #Elimina la columna original \n",
    "\n",
    "#Numeros y caracteres innecesarios en las fechas\n",
    "turismo.columns=turismo.columns.str.replace(\"M\", \" \")\n",
    "turismo.columns=turismo.columns.str.replace(\".5\", \"\")\n",
    "turismo.columns=turismo.columns.str.replace(\".4\", \"\")\n",
    "turismo.columns=turismo.columns.str.replace(\".3\", \"\")\n",
    "turismo.columns=turismo.columns.str.replace(\".2\", \"\")\n",
    "turismo.columns=turismo.columns.str.replace(\".1\", \"\")\n",
    "\n",
    "turismo = turismo.set_index(\"Comunidad\") #Nuevo indice seranlos nombres de las comunidades\n",
    "turismo = turismo.transpose() #Se revierte el orden para poner las fechas como indices\n",
    "\n",
    "#Convertir los valores a STR para poder reemplazar simbolos y luego convertir a formato numerico\n",
    "turismo = turismo.astype(str)\n",
    "turismo = turismo.replace('\\\\.', '', regex=True)\n",
    "turismo = turismo.replace(',', '.', regex=True)  # Cambia comas por puntos\n",
    "turismo = turismo.apply(pd.to_numeric, errors='coerce')\n",
    "\n",
    "turismo = turismo.loc[:, ~turismo.columns.duplicated()]#Elimina columnas duplicadas\n",
    "turismo = turismo[~turismo.index.duplicated(keep='first')]\n",
    "\n",
    "nuevo_índice = pd.to_datetime(turismo.index, format='%Y %m').to_period('M') #Convierto a formato fecha quedandome solo con mes y año.\n",
    "turismo.index = nuevo_índice #Actualizo el indice en el Dataframe principal\n",
    "turismo = turismo.sort_index()  # Ordena en ascendente\n",
    "\n",
    "def estacion(df = turismo, año = 2024, comunidades=(\"Madrid\",), temporadas=(\"invierno\",)): #Funcion para filtrar el Dataframe\n",
    "    '''\n",
    "    Filtra el DataFrame principal con:\n",
    "    - Rango de años.\n",
    "    - Ciudades Seleccionadas en España.\n",
    "    - Temporadas Seleccionadas.\n",
    "\n",
    "    P/ejem: \n",
    "    estacion(turismo, (2020, 2024), [\"Madrid\", \"Barcelona\"], (\"invierno\", \"primavera\"))\n",
    "    '''\n",
    "    \n",
    "    temporada_dict={ \n",
    "        \"primavera\":(3,4,5),\n",
    "        \"verano\" : (6,7,8),\n",
    "        \"otoño\" : (9,10,11),\n",
    "        \"invierno\" : (12, 1, 2)}\n",
    "    \n",
    "    meses = sum((temporada_dict[temporada] for temporada in temporadas), ())\n",
    "    \n",
    "    if isinstance(comunidades, str):\n",
    "        comunidades = [comunidades]\n",
    "        # df = df.to_timestamp()\n",
    "    filtro = (\n",
    "        (df.index.strftime('%Y').astype(int) >= año[0]) &\n",
    "        (df.index.strftime('%Y').astype(int) <= año[1]) &\n",
    "        (df.index.strftime('%m').astype(int).isin(meses))\n",
    "    )\n",
    "    \n",
    "    # Devuelve el DataFrame filtrado para las comunidades seleccionadas\n",
    "    return df.loc[filtro, comunidades]\n",
    "\n",
    "\n",
    "total_nacional = ('Nacional') #Condensa el total por año de toda españa \n",
    "\n",
    "#Media y mediana nacional por año desde 1990 hasta 2024\n",
    "media_nacional = turismo['Nacional'].groupby(turismo.index.year).mean()\n",
    "mediana_nacional = turismo['Nacional'].groupby(turismo.index.year).median()\n",
    "\n",
    "#Datos COVID\n",
    "# Analisis de turismo, pre, durante y post covid\n",
    "pre_covid = estacion(turismo, año=(2017, 2019), comunidades=total_nacional, temporadas=(\"primavera\",\"verano\", \"otoño\", \"invierno\")) #Muestra turismo pre covid en España\n",
    "covid = estacion(turismo, año=(2020, 2021), comunidades=total_nacional, temporadas=(\"primavera\",\"verano\", \"otoño\", \"invierno\")) #Muestra turismo durante el covid en España\n",
    "post_covid = estacion(turismo, año=(2022, 2024), comunidades=total_nacional, temporadas=(\"primavera\",\"verano\", \"otoño\", \"invierno\")) #Muestra turismo post covid en España\n",
    "covid_general = estacion(turismo, año=(2019, 2024), comunidades=total_nacional, temporadas=(\"primavera\",\"verano\", \"otoño\", \"invierno\")) #Muestra turismo post covid en España\n",
    "\n",
    "#Muestras Verano\n",
    "verano_nacional = estacion(turismo, año=(1999, 2023), comunidades=total_nacional, temporadas=(\"verano\",)) #España completa\n",
    "\n",
    "#Muestras Invierno\n",
    "invierno_nacional = estacion(turismo, año=(1999, 2023), comunidades=total_nacional, temporadas=(\"invierno\",)) #España completa\n",
    "\n",
    "año1999=estacion(turismo, año=(1999, 1999), comunidades=total_nacional, temporadas=(\"primavera\",\"verano\", \"otoño\", \"invierno\")) #España completa\n",
    "año2024=estacion(turismo, año=(2024, 2024), comunidades=total_nacional, temporadas=(\"primavera\",\"verano\", \"otoño\", \"invierno\")) #España completa\n",
    "turismo_españa=estacion(turismo, año=(1999, 2024), comunidades=total_nacional, temporadas=(\"primavera\",\"verano\", \"otoño\", \"invierno\")) #España completa\n"
   ]
  },
  {
   "cell_type": "code",
   "execution_count": 384,
   "metadata": {},
   "outputs": [],
   "source": [
    "turismo_españa.index = turismo_españa.index.to_timestamp()  # Convierte PeriodIndex a DatetimeIndex\n",
    "df_grouped = turismo_españa.groupby(turismo_españa.index.year).sum()\n"
   ]
  },
  {
   "cell_type": "markdown",
   "metadata": {},
   "source": [
    "Crecimiento turismo en españa por año desde 1999 hasta 2025"
   ]
  },
  {
   "cell_type": "code",
   "execution_count": 385,
   "metadata": {},
   "outputs": [
    {
     "data": {
      "image/png": "[encoded data removed]",
      "text/plain": [
       "<Figure size 1200x600 with 1 Axes>"
      ]
     },
     "metadata": {},
     "output_type": "display_data"
    }
   ],
   "source": [
    "df_grouped.plot(kind='bar', stacked=True, figsize=(12, 6), title=\"Turismo España (2019-2024)\")\n",
    "plt.xlabel(\"Fecha\")\n",
    "plt.ylabel(\"Número de turistas (Millones)\")\n",
    "plt.xticks(rotation=45)  # Rotar etiquetas del eje X para mejor legibilidad\n",
    "plt.grid(axis='y', linestyle='--', alpha=0.7)  # Líneas de guía en el eje Y\n",
    "plt.legend(bbox_to_anchor=(1.05, 1), loc='upper left')  # Mover la leyenda fuera del gráfico\n",
    "plt.tight_layout()  # Ajustar automáticamente la disposición del gráfico\n",
    "plt.show()"
   ]
  },
  {
   "cell_type": "code",
   "execution_count": 386,
   "metadata": {},
   "outputs": [],
   "source": [
    "verano_nacional.index = verano_nacional.index.to_timestamp()\n",
    "invierno_nacional.index = invierno_nacional.index.to_timestamp()"
   ]
  },
  {
   "cell_type": "markdown",
   "metadata": {},
   "source": [
    "Comparacion numero de turistas en verano vs invierno España 1999 hasta 2025"
   ]
  },
  {
   "cell_type": "code",
   "execution_count": 387,
   "metadata": {},
   "outputs": [
    {
     "data": {
      "image/png": "[encoded data removed]",
      "text/plain": [
       "<Figure size 1200x600 with 1 Axes>"
      ]
     },
     "metadata": {},
     "output_type": "display_data"
    }
   ],
   "source": [
    "plt.figure(figsize=(12, 6))\n",
    "\n",
    "# Graficar con área rellena para verano\n",
    "plt.fill_between(verano_nacional.index, verano_nacional[\"Nacional\"], color=\"orange\", alpha=0.5, label=\"Verano\")\n",
    "\n",
    "# Graficar con área rellena para invierno\n",
    "plt.fill_between(invierno_nacional.index, invierno_nacional[\"Nacional\"], color=\"blue\", alpha=0.5, label=\"Invierno\")\n",
    "\n",
    "# Personalizar la gráfica\n",
    "plt.xlabel(\"Fecha (Mes y Año)\")\n",
    "plt.ylabel(\"Número de turistas\")\n",
    "plt.title(\"Comparación de turistas en Verano e Invierno\")\n",
    "plt.legend()\n",
    "plt.xticks(rotation=45)\n",
    "plt.grid(True)\n",
    "\n",
    "plt.show()\n"
   ]
  },
  {
   "cell_type": "markdown",
   "metadata": {},
   "source": [
    "+++++++++++++++++++++++++++++++++++++++++++++++++++++++++++++++++++++++++++++++++++++++++++++++++++++++++++++++++++++++++++\n",
    "\n",
    "+++++++++++++++++++++++++++++++++++++++++++++++++++++++++++++++++++++++++++++++++++++++++++++++++++++++++++++++++++++++++++\n",
    "\n",
    "+++++++++++++++++++++++++++++++++++++++++++++++++++++++++++++++++++++++++++++++++++++++++++++++++++++++++++++++++++++++++++\n",
    "\n",
    "+++++++++++++++++++++++++++++++++++++++++++++++++++++++++++++++++++++++++++++++++++++++++++++++++++++++++++++++++++++++++++\n",
    "\n",
    "+++++++++++++++++++++++++++++++++++++++++++++++++++++++++++++++++++++++++++++++++++++++++++++++++++++++++++++++++++++++++++"
   ]
  },
  {
   "cell_type": "markdown",
   "metadata": {},
   "source": [
    "# ¿El turismo en España es mas de Turismo o Excursion? DATOS 2016 A 2025"
   ]
  },
  {
   "cell_type": "code",
   "execution_count": 388,
   "metadata": {},
   "outputs": [],
   "source": [
    "tipologia = pd.read_excel(\"./data/tipologia_viaje.xlsx\") #Importa el archivo"
   ]
  },
  {
   "cell_type": "code",
   "execution_count": 389,
   "metadata": {},
   "outputs": [
    {
     "data": {
      "text/html": [
       "<div>\n",
       "<style scoped>\n",
       "    .dataframe tbody tr th:only-of-type {\n",
       "        vertical-align: middle;\n",
       "    }\n",
       "\n",
       "    .dataframe tbody tr th {\n",
       "        vertical-align: top;\n",
       "    }\n",
       "\n",
       "    .dataframe thead th {\n",
       "        text-align: right;\n",
       "    }\n",
       "</style>\n",
       "<table border=\"1\" class=\"dataframe\">\n",
       "  <thead>\n",
       "    <tr style=\"text-align: right;\">\n",
       "      <th></th>\n",
       "      <th></th>\n",
       "      <th>2025M01</th>\n",
       "      <th>2024M12</th>\n",
       "      <th>2024M11</th>\n",
       "      <th>2024M10</th>\n",
       "      <th>2024M09</th>\n",
       "      <th>2024M08</th>\n",
       "      <th>2024M07</th>\n",
       "      <th>2024M06</th>\n",
       "      <th>2024M05</th>\n",
       "      <th>...</th>\n",
       "      <th>2016M07</th>\n",
       "      <th>2016M06</th>\n",
       "      <th>2016M05</th>\n",
       "      <th>2016M04</th>\n",
       "      <th>2016M03</th>\n",
       "      <th>2016M02</th>\n",
       "      <th>2016M01</th>\n",
       "      <th>2015M12</th>\n",
       "      <th>2015M11</th>\n",
       "      <th>2015M10</th>\n",
       "    </tr>\n",
       "  </thead>\n",
       "  <tbody>\n",
       "    <tr>\n",
       "      <th>0</th>\n",
       "      <td>Dato base</td>\n",
       "      <td>8147788.0</td>\n",
       "      <td>8779950.0</td>\n",
       "      <td>9053630.0</td>\n",
       "      <td>12919686.0</td>\n",
       "      <td>13310160.0</td>\n",
       "      <td>16621567.0</td>\n",
       "      <td>15957871.0</td>\n",
       "      <td>12483868.0</td>\n",
       "      <td>13088646.0</td>\n",
       "      <td>...</td>\n",
       "      <td>14103246.0</td>\n",
       "      <td>10882964.0</td>\n",
       "      <td>10409297.0</td>\n",
       "      <td>9254452.0</td>\n",
       "      <td>7684502.0</td>\n",
       "      <td>6254862.0</td>\n",
       "      <td>6133318.0</td>\n",
       "      <td>6417639</td>\n",
       "      <td>6429628</td>\n",
       "      <td>9940966</td>\n",
       "    </tr>\n",
       "    <tr>\n",
       "      <th>1</th>\n",
       "      <td>Tasa de variación anual</td>\n",
       "      <td>12.5</td>\n",
       "      <td>2.7</td>\n",
       "      <td>12.3</td>\n",
       "      <td>9.7</td>\n",
       "      <td>6.4</td>\n",
       "      <td>7.3</td>\n",
       "      <td>8.0</td>\n",
       "      <td>8.8</td>\n",
       "      <td>12.0</td>\n",
       "      <td>...</td>\n",
       "      <td>7.0</td>\n",
       "      <td>7.5</td>\n",
       "      <td>4.3</td>\n",
       "      <td>5.6</td>\n",
       "      <td>10.6</td>\n",
       "      <td>6.7</td>\n",
       "      <td>4.0</td>\n",
       "      <td>3.8</td>\n",
       "      <td>4.4</td>\n",
       "      <td>5.2</td>\n",
       "    </tr>\n",
       "    <tr>\n",
       "      <th>2</th>\n",
       "      <td>Acumulado en lo que va de año</td>\n",
       "      <td>8147788.0</td>\n",
       "      <td>137640110.0</td>\n",
       "      <td>128860160.0</td>\n",
       "      <td>119806530.0</td>\n",
       "      <td>106886844.0</td>\n",
       "      <td>93576684.0</td>\n",
       "      <td>76955117.0</td>\n",
       "      <td>60997245.0</td>\n",
       "      <td>48513377.0</td>\n",
       "      <td>...</td>\n",
       "      <td>64722641.0</td>\n",
       "      <td>50619395.0</td>\n",
       "      <td>39736431.0</td>\n",
       "      <td>29327134.0</td>\n",
       "      <td>20072683.0</td>\n",
       "      <td>12388180.0</td>\n",
       "      <td>6133318.0</td>\n",
       "      <td></td>\n",
       "      <td></td>\n",
       "      <td></td>\n",
       "    </tr>\n",
       "    <tr>\n",
       "      <th>3</th>\n",
       "      <td>Tasa de variación acumulada</td>\n",
       "      <td>12.5</td>\n",
       "      <td>9.4</td>\n",
       "      <td>9.9</td>\n",
       "      <td>9.8</td>\n",
       "      <td>9.8</td>\n",
       "      <td>10.3</td>\n",
       "      <td>10.9</td>\n",
       "      <td>11.7</td>\n",
       "      <td>12.5</td>\n",
       "      <td>...</td>\n",
       "      <td>6.5</td>\n",
       "      <td>6.4</td>\n",
       "      <td>6.1</td>\n",
       "      <td>6.8</td>\n",
       "      <td>7.3</td>\n",
       "      <td>5.3</td>\n",
       "      <td>4.0</td>\n",
       "      <td></td>\n",
       "      <td></td>\n",
       "      <td></td>\n",
       "    </tr>\n",
       "    <tr>\n",
       "      <th>4</th>\n",
       "      <td>Turista</td>\n",
       "      <td>NaN</td>\n",
       "      <td>NaN</td>\n",
       "      <td>NaN</td>\n",
       "      <td>NaN</td>\n",
       "      <td>NaN</td>\n",
       "      <td>NaN</td>\n",
       "      <td>NaN</td>\n",
       "      <td>NaN</td>\n",
       "      <td>NaN</td>\n",
       "      <td>...</td>\n",
       "      <td>NaN</td>\n",
       "      <td>NaN</td>\n",
       "      <td>NaN</td>\n",
       "      <td>NaN</td>\n",
       "      <td>NaN</td>\n",
       "      <td>NaN</td>\n",
       "      <td>NaN</td>\n",
       "      <td>NaN</td>\n",
       "      <td>NaN</td>\n",
       "      <td>NaN</td>\n",
       "    </tr>\n",
       "    <tr>\n",
       "      <th>5</th>\n",
       "      <td>Dato base</td>\n",
       "      <td>5065094.0</td>\n",
       "      <td>5264375.0</td>\n",
       "      <td>5670219.0</td>\n",
       "      <td>8961932.0</td>\n",
       "      <td>9602015.0</td>\n",
       "      <td>10929584.0</td>\n",
       "      <td>10852347.0</td>\n",
       "      <td>9299574.0</td>\n",
       "      <td>9255985.0</td>\n",
       "      <td>...</td>\n",
       "      <td>9545792.0</td>\n",
       "      <td>7552758.0</td>\n",
       "      <td>7111154.0</td>\n",
       "      <td>6086327.0</td>\n",
       "      <td>4627206.0</td>\n",
       "      <td>3678726.0</td>\n",
       "      <td>3526537.0</td>\n",
       "      <td>3512914</td>\n",
       "      <td>3754802</td>\n",
       "      <td>6432341</td>\n",
       "    </tr>\n",
       "    <tr>\n",
       "      <th>6</th>\n",
       "      <td>Tasa de variación anual</td>\n",
       "      <td>6.1</td>\n",
       "      <td>1.1</td>\n",
       "      <td>10.4</td>\n",
       "      <td>9.5</td>\n",
       "      <td>9.2</td>\n",
       "      <td>7.3</td>\n",
       "      <td>7.3</td>\n",
       "      <td>11.9</td>\n",
       "      <td>11.5</td>\n",
       "      <td>...</td>\n",
       "      <td>10.0</td>\n",
       "      <td>12.9</td>\n",
       "      <td>8.2</td>\n",
       "      <td>11.6</td>\n",
       "      <td>15.4</td>\n",
       "      <td>13.9</td>\n",
       "      <td>11.0</td>\n",
       "      <td>7.9</td>\n",
       "      <td>10.6</td>\n",
       "      <td>8.9</td>\n",
       "    </tr>\n",
       "    <tr>\n",
       "      <th>7</th>\n",
       "      <td>Acumulado en lo que va de año</td>\n",
       "      <td>5065094.0</td>\n",
       "      <td>93759297.0</td>\n",
       "      <td>88494922.0</td>\n",
       "      <td>82824703.0</td>\n",
       "      <td>73862771.0</td>\n",
       "      <td>64260756.0</td>\n",
       "      <td>53331172.0</td>\n",
       "      <td>42478825.0</td>\n",
       "      <td>33179251.0</td>\n",
       "      <td>...</td>\n",
       "      <td>42128500.0</td>\n",
       "      <td>32582708.0</td>\n",
       "      <td>25029951.0</td>\n",
       "      <td>17918796.0</td>\n",
       "      <td>11832469.0</td>\n",
       "      <td>7205263.0</td>\n",
       "      <td>3526537.0</td>\n",
       "      <td></td>\n",
       "      <td></td>\n",
       "      <td></td>\n",
       "    </tr>\n",
       "    <tr>\n",
       "      <th>8</th>\n",
       "      <td>Tasa de variación acumulada</td>\n",
       "      <td>6.1</td>\n",
       "      <td>10.1</td>\n",
       "      <td>10.7</td>\n",
       "      <td>10.7</td>\n",
       "      <td>10.8</td>\n",
       "      <td>11.1</td>\n",
       "      <td>11.9</td>\n",
       "      <td>13.2</td>\n",
       "      <td>13.5</td>\n",
       "      <td>...</td>\n",
       "      <td>11.4</td>\n",
       "      <td>11.8</td>\n",
       "      <td>11.5</td>\n",
       "      <td>12.9</td>\n",
       "      <td>13.6</td>\n",
       "      <td>12.5</td>\n",
       "      <td>11.0</td>\n",
       "      <td></td>\n",
       "      <td></td>\n",
       "      <td></td>\n",
       "    </tr>\n",
       "    <tr>\n",
       "      <th>9</th>\n",
       "      <td>Excursionista</td>\n",
       "      <td>NaN</td>\n",
       "      <td>NaN</td>\n",
       "      <td>NaN</td>\n",
       "      <td>NaN</td>\n",
       "      <td>NaN</td>\n",
       "      <td>NaN</td>\n",
       "      <td>NaN</td>\n",
       "      <td>NaN</td>\n",
       "      <td>NaN</td>\n",
       "      <td>...</td>\n",
       "      <td>NaN</td>\n",
       "      <td>NaN</td>\n",
       "      <td>NaN</td>\n",
       "      <td>NaN</td>\n",
       "      <td>NaN</td>\n",
       "      <td>NaN</td>\n",
       "      <td>NaN</td>\n",
       "      <td>NaN</td>\n",
       "      <td>NaN</td>\n",
       "      <td>NaN</td>\n",
       "    </tr>\n",
       "    <tr>\n",
       "      <th>10</th>\n",
       "      <td>Dato base</td>\n",
       "      <td>3082694.0</td>\n",
       "      <td>3515575.0</td>\n",
       "      <td>3383411.0</td>\n",
       "      <td>3957754.0</td>\n",
       "      <td>3708145.0</td>\n",
       "      <td>5691983.0</td>\n",
       "      <td>5105524.0</td>\n",
       "      <td>3184295.0</td>\n",
       "      <td>3832660.0</td>\n",
       "      <td>...</td>\n",
       "      <td>4557454.0</td>\n",
       "      <td>3330206.0</td>\n",
       "      <td>3298143.0</td>\n",
       "      <td>3168124.0</td>\n",
       "      <td>3057296.0</td>\n",
       "      <td>2576136.0</td>\n",
       "      <td>2606782.0</td>\n",
       "      <td>2904724</td>\n",
       "      <td>2674826</td>\n",
       "      <td>3508624</td>\n",
       "    </tr>\n",
       "    <tr>\n",
       "      <th>11</th>\n",
       "      <td>Tasa de variación anual</td>\n",
       "      <td>24.9</td>\n",
       "      <td>5.2</td>\n",
       "      <td>15.7</td>\n",
       "      <td>10.3</td>\n",
       "      <td>-0.1</td>\n",
       "      <td>7.3</td>\n",
       "      <td>9.6</td>\n",
       "      <td>0.7</td>\n",
       "      <td>13.3</td>\n",
       "      <td>...</td>\n",
       "      <td>1.4</td>\n",
       "      <td>-3.0</td>\n",
       "      <td>-3.3</td>\n",
       "      <td>-4.2</td>\n",
       "      <td>3.9</td>\n",
       "      <td>-2.2</td>\n",
       "      <td>-4.2</td>\n",
       "      <td>-0.8</td>\n",
       "      <td>-3.2</td>\n",
       "      <td>-0.9</td>\n",
       "    </tr>\n",
       "    <tr>\n",
       "      <th>12</th>\n",
       "      <td>Acumulado en lo que va de año</td>\n",
       "      <td>3082694.0</td>\n",
       "      <td>43880813.0</td>\n",
       "      <td>40365238.0</td>\n",
       "      <td>36981827.0</td>\n",
       "      <td>33024073.0</td>\n",
       "      <td>29315928.0</td>\n",
       "      <td>23623945.0</td>\n",
       "      <td>18518421.0</td>\n",
       "      <td>15334126.0</td>\n",
       "      <td>...</td>\n",
       "      <td>22594141.0</td>\n",
       "      <td>18036687.0</td>\n",
       "      <td>14706481.0</td>\n",
       "      <td>11408338.0</td>\n",
       "      <td>8240214.0</td>\n",
       "      <td>5182917.0</td>\n",
       "      <td>2606782.0</td>\n",
       "      <td></td>\n",
       "      <td></td>\n",
       "      <td></td>\n",
       "    </tr>\n",
       "    <tr>\n",
       "      <th>13</th>\n",
       "      <td>Tasa de variación acumulada</td>\n",
       "      <td>24.9</td>\n",
       "      <td>8.1</td>\n",
       "      <td>8.4</td>\n",
       "      <td>7.8</td>\n",
       "      <td>7.5</td>\n",
       "      <td>8.5</td>\n",
       "      <td>8.8</td>\n",
       "      <td>8.6</td>\n",
       "      <td>10.4</td>\n",
       "      <td>...</td>\n",
       "      <td>-1.5</td>\n",
       "      <td>-2.2</td>\n",
       "      <td>-2.1</td>\n",
       "      <td>-1.7</td>\n",
       "      <td>-0.7</td>\n",
       "      <td>-3.2</td>\n",
       "      <td>-4.2</td>\n",
       "      <td></td>\n",
       "      <td></td>\n",
       "      <td></td>\n",
       "    </tr>\n",
       "  </tbody>\n",
       "</table>\n",
       "<p>14 rows × 113 columns</p>\n",
       "</div>"
      ],
      "text/plain": [
       "                                        2025M01     2024M12     2024M11  \\\n",
       "0                           Dato base 8147788.0   8779950.0   9053630.0   \n",
       "1             Tasa de variación anual      12.5         2.7        12.3   \n",
       "2       Acumulado en lo que va de año 8147788.0 137640110.0 128860160.0   \n",
       "3         Tasa de variación acumulada      12.5         9.4         9.9   \n",
       "4                             Turista       NaN         NaN         NaN   \n",
       "5                           Dato base 5065094.0   5264375.0   5670219.0   \n",
       "6             Tasa de variación anual       6.1         1.1        10.4   \n",
       "7       Acumulado en lo que va de año 5065094.0  93759297.0  88494922.0   \n",
       "8         Tasa de variación acumulada       6.1        10.1        10.7   \n",
       "9                       Excursionista       NaN         NaN         NaN   \n",
       "10                          Dato base 3082694.0   3515575.0   3383411.0   \n",
       "11            Tasa de variación anual      24.9         5.2        15.7   \n",
       "12      Acumulado en lo que va de año 3082694.0  43880813.0  40365238.0   \n",
       "13        Tasa de variación acumulada      24.9         8.1         8.4   \n",
       "\n",
       "       2024M10     2024M09    2024M08    2024M07    2024M06    2024M05  ...  \\\n",
       "0   12919686.0  13310160.0 16621567.0 15957871.0 12483868.0 13088646.0  ...   \n",
       "1          9.7         6.4        7.3        8.0        8.8       12.0  ...   \n",
       "2  119806530.0 106886844.0 93576684.0 76955117.0 60997245.0 48513377.0  ...   \n",
       "3          9.8         9.8       10.3       10.9       11.7       12.5  ...   \n",
       "4          NaN         NaN        NaN        NaN        NaN        NaN  ...   \n",
       "5    8961932.0   9602015.0 10929584.0 10852347.0  9299574.0  9255985.0  ...   \n",
       "6          9.5         9.2        7.3        7.3       11.9       11.5  ...   \n",
       "7   82824703.0  73862771.0 64260756.0 53331172.0 42478825.0 33179251.0  ...   \n",
       "8         10.7        10.8       11.1       11.9       13.2       13.5  ...   \n",
       "9          NaN         NaN        NaN        NaN        NaN        NaN  ...   \n",
       "10   3957754.0   3708145.0  5691983.0  5105524.0  3184295.0  3832660.0  ...   \n",
       "11        10.3        -0.1        7.3        9.6        0.7       13.3  ...   \n",
       "12  36981827.0  33024073.0 29315928.0 23623945.0 18518421.0 15334126.0  ...   \n",
       "13         7.8         7.5        8.5        8.8        8.6       10.4  ...   \n",
       "\n",
       "      2016M07    2016M06    2016M05    2016M04    2016M03    2016M02  \\\n",
       "0  14103246.0 10882964.0 10409297.0  9254452.0  7684502.0  6254862.0   \n",
       "1         7.0        7.5        4.3        5.6       10.6        6.7   \n",
       "2  64722641.0 50619395.0 39736431.0 29327134.0 20072683.0 12388180.0   \n",
       "3         6.5        6.4        6.1        6.8        7.3        5.3   \n",
       "4         NaN        NaN        NaN        NaN        NaN        NaN   \n",
       "5   9545792.0  7552758.0  7111154.0  6086327.0  4627206.0  3678726.0   \n",
       "6        10.0       12.9        8.2       11.6       15.4       13.9   \n",
       "7  42128500.0 32582708.0 25029951.0 17918796.0 11832469.0  7205263.0   \n",
       "8        11.4       11.8       11.5       12.9       13.6       12.5   \n",
       "9         NaN        NaN        NaN        NaN        NaN        NaN   \n",
       "10  4557454.0  3330206.0  3298143.0  3168124.0  3057296.0  2576136.0   \n",
       "11        1.4       -3.0       -3.3       -4.2        3.9       -2.2   \n",
       "12 22594141.0 18036687.0 14706481.0 11408338.0  8240214.0  5182917.0   \n",
       "13       -1.5       -2.2       -2.1       -1.7       -0.7       -3.2   \n",
       "\n",
       "     2016M01  2015M12  2015M11  2015M10  \n",
       "0  6133318.0  6417639  6429628  9940966  \n",
       "1        4.0      3.8      4.4      5.2  \n",
       "2  6133318.0                             \n",
       "3        4.0                             \n",
       "4        NaN      NaN      NaN      NaN  \n",
       "5  3526537.0  3512914  3754802  6432341  \n",
       "6       11.0      7.9     10.6      8.9  \n",
       "7  3526537.0                             \n",
       "8       11.0                             \n",
       "9        NaN      NaN      NaN      NaN  \n",
       "10 2606782.0  2904724  2674826  3508624  \n",
       "11      -4.2     -0.8     -3.2     -0.9  \n",
       "12 2606782.0                             \n",
       "13      -4.2                             \n",
       "\n",
       "[14 rows x 113 columns]"
      ]
     },
     "execution_count": 389,
     "metadata": {},
     "output_type": "execute_result"
    }
   ],
   "source": [
    "tipologia"
   ]
  },
  {
   "cell_type": "code",
   "execution_count": 390,
   "metadata": {},
   "outputs": [],
   "source": [
    "tipologia = pd.read_excel(\"./data/tipologia_viaje.xlsx\") #Importa el archivo\n",
    "tipologia.columns=tipologia.columns.str.replace(\"M\", \" \")#Reemplaza la M de las fechas por un espacio\n",
    "pd.options.display.float_format = '{:.1f}'.format #sE modifican los valores que tenian anotacion cientifica y confirma el formato float.\n",
    "tipologia=tipologia.set_index(\" \")\n",
    "tipologia = tipologia[tipologia.columns[::-1]]\n",
    "tipologia=tipologia.drop([\"2015 10\", \"2015 11\", \"2015 12\"], axis=1)\n",
    "tipologia=tipologia.transpose()\n",
    "tipologia = tipologia.apply(pd.to_numeric, errors='coerce')\n",
    "\n",
    "nuevo_índice_tipologia = pd.to_datetime(tipologia.index, format='%Y %m').to_period('M') #Convierto a formato fecha quedandome solo con mes y año.\n",
    "tipologia.index = nuevo_índice_tipologia #Actualizo el indice en el Dataframe principal\n",
    "tipologia = tipologia.sort_index()  # Ordena en ascendente\n",
    "tipologia.columns = tipologia.columns.str.strip()\n",
    "\n",
    "tipologia_2=tipologia.drop([\"Acumulado en lo que va de año\", \"Tasa de variación anual\", \"Tasa de variación acumulada\"], axis=1)\n",
    "tipologia_2 = tipologia_2.iloc[:, 1:]\n",
    "tipologia_2.columns.values[1] = \"Datos Turista\"  # Cambia la segunda columna\n",
    "tipologia_2.columns.values[3] = \"Datos Excursionista\"\n",
    "tipologia_2=tipologia_2.drop([\"Turista\", \"Excursionista\"], axis=1)\n",
    "\n",
    "\n",
    "\n",
    "\n"
   ]
  },
  {
   "cell_type": "code",
   "execution_count": 391,
   "metadata": {},
   "outputs": [
    {
     "data": {
      "text/html": [
       "<div>\n",
       "<style scoped>\n",
       "    .dataframe tbody tr th:only-of-type {\n",
       "        vertical-align: middle;\n",
       "    }\n",
       "\n",
       "    .dataframe tbody tr th {\n",
       "        vertical-align: top;\n",
       "    }\n",
       "\n",
       "    .dataframe thead th {\n",
       "        text-align: right;\n",
       "    }\n",
       "</style>\n",
       "<table border=\"1\" class=\"dataframe\">\n",
       "  <thead>\n",
       "    <tr style=\"text-align: right;\">\n",
       "      <th></th>\n",
       "      <th>Datos Turista</th>\n",
       "      <th>Datos Excursionista</th>\n",
       "    </tr>\n",
       "  </thead>\n",
       "  <tbody>\n",
       "    <tr>\n",
       "      <th>2016-01</th>\n",
       "      <td>3526537.0</td>\n",
       "      <td>2606782.0</td>\n",
       "    </tr>\n",
       "    <tr>\n",
       "      <th>2016-02</th>\n",
       "      <td>3678726.0</td>\n",
       "      <td>2576136.0</td>\n",
       "    </tr>\n",
       "    <tr>\n",
       "      <th>2016-03</th>\n",
       "      <td>4627206.0</td>\n",
       "      <td>3057296.0</td>\n",
       "    </tr>\n",
       "    <tr>\n",
       "      <th>2016-04</th>\n",
       "      <td>6086327.0</td>\n",
       "      <td>3168124.0</td>\n",
       "    </tr>\n",
       "    <tr>\n",
       "      <th>2016-05</th>\n",
       "      <td>7111154.0</td>\n",
       "      <td>3298143.0</td>\n",
       "    </tr>\n",
       "    <tr>\n",
       "      <th>...</th>\n",
       "      <td>...</td>\n",
       "      <td>...</td>\n",
       "    </tr>\n",
       "    <tr>\n",
       "      <th>2024-09</th>\n",
       "      <td>9602015.0</td>\n",
       "      <td>3708145.0</td>\n",
       "    </tr>\n",
       "    <tr>\n",
       "      <th>2024-10</th>\n",
       "      <td>8961932.0</td>\n",
       "      <td>3957754.0</td>\n",
       "    </tr>\n",
       "    <tr>\n",
       "      <th>2024-11</th>\n",
       "      <td>5670219.0</td>\n",
       "      <td>3383411.0</td>\n",
       "    </tr>\n",
       "    <tr>\n",
       "      <th>2024-12</th>\n",
       "      <td>5264375.0</td>\n",
       "      <td>3515575.0</td>\n",
       "    </tr>\n",
       "    <tr>\n",
       "      <th>2025-01</th>\n",
       "      <td>5065094.0</td>\n",
       "      <td>3082694.0</td>\n",
       "    </tr>\n",
       "  </tbody>\n",
       "</table>\n",
       "<p>109 rows × 2 columns</p>\n",
       "</div>"
      ],
      "text/plain": [
       "         Datos Turista  Datos Excursionista\n",
       "2016-01      3526537.0            2606782.0\n",
       "2016-02      3678726.0            2576136.0\n",
       "2016-03      4627206.0            3057296.0\n",
       "2016-04      6086327.0            3168124.0\n",
       "2016-05      7111154.0            3298143.0\n",
       "...                ...                  ...\n",
       "2024-09      9602015.0            3708145.0\n",
       "2024-10      8961932.0            3957754.0\n",
       "2024-11      5670219.0            3383411.0\n",
       "2024-12      5264375.0            3515575.0\n",
       "2025-01      5065094.0            3082694.0\n",
       "\n",
       "[109 rows x 2 columns]"
      ]
     },
     "execution_count": 391,
     "metadata": {},
     "output_type": "execute_result"
    }
   ],
   "source": [
    "tipologia_2"
   ]
  },
  {
   "cell_type": "code",
   "execution_count": 392,
   "metadata": {},
   "outputs": [
    {
     "data": {
      "image/png": "[encoded data removed]",
      "text/plain": [
       "<Figure size 1200x600 with 1 Axes>"
      ]
     },
     "metadata": {},
     "output_type": "display_data"
    }
   ],
   "source": [
    "tipologia_2.plot(figsize=(12, 6))\n",
    "plt.title(\"Comparación de Turismo vs Excursionismo (2016-2025)\")\n",
    "plt.xlabel(\"Tiempo\")\n",
    "plt.ylabel(\"Número de Viajes\")\n",
    "plt.legend([\"Turistas\", \"Excursionistas\"], frameon=False)\n",
    "plt.grid(True)\n",
    "plt.tight_layout()\n",
    "plt.show()"
   ]
  },
  {
   "cell_type": "code",
   "execution_count": 393,
   "metadata": {},
   "outputs": [
    {
     "name": "stdout",
     "output_type": "stream",
     "text": [
      "Total de turistas (2016-2025): 629,267,722\n",
      "Total de excursionistas (2016-2025): 323,184,160\n"
     ]
    }
   ],
   "source": [
    "total_turistas = tipologia_2[\"Datos Turista\"].sum()\n",
    "total_excursionistas = tipologia_2[\"Datos Excursionista\"].sum()\n",
    "\n",
    "print(f\"Total de turistas (2016-2025): {total_turistas:,.0f}\")\n",
    "print(f\"Total de excursionistas (2016-2025): {total_excursionistas:,.0f}\")\n"
   ]
  },
  {
   "cell_type": "code",
   "execution_count": 394,
   "metadata": {},
   "outputs": [
    {
     "data": {
      "application/vnd.plotly.v1+json": {
       "config": {
        "plotlyServerURL": "https://plot.ly"
       },
       "data": [
        {
         "fill": "tozeroy",
         "line": {
          "color": "blue"
         },
         "mode": "lines",
         "name": "Turistas",
         "type": "scatter",
         "x": [
          "2016-01",
          "2016-02",
          "2016-03",
          "2016-04",
          "2016-05",
          "2016-06",
          "2016-07",
          "2016-08",
          "2016-09",
          "2016-10",
          "2016-11",
          "2016-12",
          "2017-01",
          "2017-02",
          "2017-03",
          "2017-04",
          "2017-05",
          "2017-06",
          "2017-07",
          "2017-08",
          "2017-09",
          "2017-10",
          "2017-11",
          "2017-12",
          "2018-01",
          "2018-02",
          "2018-03",
          "2018-04",
          "2018-05",
          "2018-06",
          "2018-07",
          "2018-08",
          "2018-09",
          "2018-10",
          "2018-11",
          "2018-12",
          "2019-01",
          "2019-02",
          "2019-03",
          "2019-04",
          "2019-05",
          "2019-06",
          "2019-07",
          "2019-08",
          "2019-09",
          "2019-10",
          "2019-11",
          "2019-12",
          "2020-01",
          "2020-02",
          "2020-03",
          "2020-04",
          "2020-05",
          "2020-06",
          "2020-07",
          "2020-08",
          "2020-09",
          "2020-10",
          "2020-11",
          "2020-12",
          "2021-01",
          "2021-02",
          "2021-03",
          "2021-04",
          "2021-05",
          "2021-06",
          "2021-07",
          "2021-08",
          "2021-09",
          "2021-10",
          "2021-11",
          "2021-12",
          "2022-01",
          "2022-02",
          "2022-03",
          "2022-04",
          "2022-05",
          "2022-06",
          "2022-07",
          "2022-08",
          "2022-09",
          "2022-10",
          "2022-11",
          "2022-12",
          "2023-01",
          "2023-02",
          "2023-03",
          "2023-04",
          "2023-05",
          "2023-06",
          "2023-07",
          "2023-08",
          "2023-09",
          "2023-10",
          "2023-11",
          "2023-12",
          "2024-01",
          "2024-02",
          "2024-03",
          "2024-04",
          "2024-05",
          "2024-06",
          "2024-07",
          "2024-08",
          "2024-09",
          "2024-10",
          "2024-11",
          "2024-12",
          "2025-01"
         ],
         "y": {
          "bdata": "AAAAgMTnSkEAAAAAAxFMQQAAAIDBplFBAAAAwK03V0EAAACAfCBbQQAAAIC9z1xBAAAAAAg1YkEAAADgOSBjQQAAAMCvQl5BAAAAwG46W0EAAAAAa0RPQQAAAADXcU5BAAAAAGTMTUEAAACAMG1PQQAAAMDFvlJBAAAAgJ4DW0EAAAAAFodeQQAAAOAsFWBBAAAAwL8DZEEAAAAgBtVjQQAAAMCa7mBBAAAAwIq7W0EAAADAn8FQQQAAAABhYk5BAAAAgLRUT0EAAADALxdQQQAAAIDIklRBAAAAgHbdWUEAAAAAiNheQQAAAEDoUGBBAAAAwLIcY0EAAAAgomhjQQAAAIB6CWFBAAAAAJEuXUEAAABAik5RQQAAAIC7nFBBAAAAQE4BUEEAAAAA1rVQQQAAAEAqjVVBAAAAQIxCW0EAAAAAmTVeQQAAAKBs2WBBAAAAwO7UYkEAAADAm0xjQQAAAADs3mBBAAAAQOnxXEEAAABA68FRQQAAAEDZa1BBAAAAAFCIT0EAAAAAlONQQQAAAADOeT5BAAAAAAAAAAAAAAAAAAAAAAAAAACA7whBAAAAgAXOQkEAAAAAiZ9CQQAAAAC0YDFBAAAAAMomL0EAAAAAuOEbQQAAAAA6ziNBAAAAAFS7GkEAAAAAuGQRQQAAAACM/h1BAAAAAKwzI0EAAAAA3Mw0QQAAAADS6EBBAAAAAOTHUEEAAAAAutJTQQAAAECv8VFBAAAAACWkU0EAAACAPKZJQQAAAIDifEZBAAAAgKEVQ0EAAAAAjEFIQQAAAAC20U5BAAAAADNLV0EAAABAkKhaQQAAAABrmlxBAAAAwCdXYUEAAAAgo+BgQQAAAMAqoV1BAAAAAMZgW0EAAADADolQQQAAAIAefU9BAAAAgCmMT0EAAABAZntQQQAAAEBbBFRBAAAAgK+SW0EAAAAA2KlfQQAAAADBsF9BAAAAgOZLY0EAAABgtm1jQQAAACCkxmBBAAAAgCM7X0EAAACAIpdTQQAAAED/3lNBAAAAQJ83UkEAAABA/h9TQQAAAMChOVhBAAAAgFGxXUEAAAAghqdhQQAAAMDOvGFBAAAAYP+yZEEAAAAAtthkQQAAAOB7UGJBAAAAgPEXYUEAAADAUqFVQQAAAMD9FFRBAAAAgGFSU0E=",
          "dtype": "f8"
         }
        },
        {
         "fill": "tozeroy",
         "line": {
          "color": "green"
         },
         "mode": "lines",
         "name": "Excursionistas",
         "type": "scatter",
         "x": [
          "2016-01",
          "2016-02",
          "2016-03",
          "2016-04",
          "2016-05",
          "2016-06",
          "2016-07",
          "2016-08",
          "2016-09",
          "2016-10",
          "2016-11",
          "2016-12",
          "2017-01",
          "2017-02",
          "2017-03",
          "2017-04",
          "2017-05",
          "2017-06",
          "2017-07",
          "2017-08",
          "2017-09",
          "2017-10",
          "2017-11",
          "2017-12",
          "2018-01",
          "2018-02",
          "2018-03",
          "2018-04",
          "2018-05",
          "2018-06",
          "2018-07",
          "2018-08",
          "2018-09",
          "2018-10",
          "2018-11",
          "2018-12",
          "2019-01",
          "2019-02",
          "2019-03",
          "2019-04",
          "2019-05",
          "2019-06",
          "2019-07",
          "2019-08",
          "2019-09",
          "2019-10",
          "2019-11",
          "2019-12",
          "2020-01",
          "2020-02",
          "2020-03",
          "2020-04",
          "2020-05",
          "2020-06",
          "2020-07",
          "2020-08",
          "2020-09",
          "2020-10",
          "2020-11",
          "2020-12",
          "2021-01",
          "2021-02",
          "2021-03",
          "2021-04",
          "2021-05",
          "2021-06",
          "2021-07",
          "2021-08",
          "2021-09",
          "2021-10",
          "2021-11",
          "2021-12",
          "2022-01",
          "2022-02",
          "2022-03",
          "2022-04",
          "2022-05",
          "2022-06",
          "2022-07",
          "2022-08",
          "2022-09",
          "2022-10",
          "2022-11",
          "2022-12",
          "2023-01",
          "2023-02",
          "2023-03",
          "2023-04",
          "2023-05",
          "2023-06",
          "2023-07",
          "2023-08",
          "2023-09",
          "2023-10",
          "2023-11",
          "2023-12",
          "2024-01",
          "2024-02",
          "2024-03",
          "2024-04",
          "2024-05",
          "2024-06",
          "2024-07",
          "2024-08",
          "2024-09",
          "2024-10",
          "2024-11",
          "2024-12",
          "2025-01"
         ],
         "y": {
          "bdata": "AAAAAF/jQ0EAAAAAhKdDQQAAAABIU0dBAAAAAL4rSEEAAACArylJQQAAAABPaElBAAAAgKNiUUEAAAAAxONVQQAAAICb7klBAAAAgBSpR0EAAACAZENDQQAAAIDPCUZBAAAAAH+CQUEAAAAAHO5CQQAAAABfIURBAAAAAO9OS0EAAACANDZKQQAAAAB8S0dBAAAAgJanUUEAAAAAVr5UQQAAAABur0pBAAAAgK3qSEEAAAAAG7FDQQAAAID1i0ZBAAAAgNQuQkEAAACACUtCQQAAAIDBYEZBAAAAgETdSkEAAAAAGf5KQQAAAACdnUhBAAAAQKEaUkEAAADAp65WQQAAAAAoiU1BAAAAgPq6SkEAAAAAhKFEQQAAAIB38kVBAAAAALDAQ0EAAAAAZt5DQQAAAIDb1kZBAAAAgBhIS0EAAACAjEdKQQAAAABffUpBAAAAAGnIUUEAAADABAhXQQAAAIDPZk1BAAAAAAdMSkEAAACA6INGQQAAAACSH0dBAAAAAM/JREEAAACAX/VEQQAAAAD2XTRBAAAAAAAAAAAAAAAAAAAAAAAAAAAUlRtBAAAAgKeJQUEAAAAA/zpGQQAAAACNoDxBAAAAAMVYOUEAAAAAzJUgQQAAAADOOyxBAAAAAM7NKEEAAAAAeJ4fQQAAAABQySZBAAAAABrYIkEAAAAAxkY0QQAAAAAeVTpBAAAAgLPSQ0EAAAAAndJJQQAAAIAiA0JBAAAAgFxnQUEAAAAApO09QQAAAABXIkBBAAAAAEa5OkEAAACAojlAQQAAAABX2j5BAAAAAHotQ0EAAAAAIQpFQQAAAAC2uERBAAAAAMopTkEAAAAAcvdQQQAAAICOvEZBAAAAgMJdRkEAAAAAaOxBQQAAAAAgDUVBAAAAAApSQkEAAACA2MlBQQAAAICwgkNBAAAAgHeNSEEAAAAAA9FJQQAAAADXIkhBAAAAgBbEUUEAAABACztUQQAAAACLUExBAAAAgOdeS0EAAACAU05GQQAAAICRgElBAAAAAH7VQkEAAACAagdEQQAAAAAT7UZBAAAAANH1SUEAAAAAqj1NQQAAAIBTS0hBAAAAAN15U0EAAADAk7ZVQQAAAIB4SkxBAAAAAP0xTkEAAACAOdBJQQAAAIBb0kpBAAAAAOOER0E=",
          "dtype": "f8"
         }
        }
       ],
       "layout": {
        "template": {
         "data": {
          "bar": [
           {
            "error_x": {
             "color": "rgb(36,36,36)"
            },
            "error_y": {
             "color": "rgb(36,36,36)"
            },
            "marker": {
             "line": {
              "color": "white",
              "width": 0.5
             },
             "pattern": {
              "fillmode": "overlay",
              "size": 10,
              "solidity": 0.2
             }
            },
            "type": "bar"
           }
          ],
          "barpolar": [
           {
            "marker": {
             "line": {
              "color": "white",
              "width": 0.5
             },
             "pattern": {
              "fillmode": "overlay",
              "size": 10,
              "solidity": 0.2
             }
            },
            "type": "barpolar"
           }
          ],
          "carpet": [
           {
            "aaxis": {
             "endlinecolor": "rgb(36,36,36)",
             "gridcolor": "white",
             "linecolor": "white",
             "minorgridcolor": "white",
             "startlinecolor": "rgb(36,36,36)"
            },
            "baxis": {
             "endlinecolor": "rgb(36,36,36)",
             "gridcolor": "white",
             "linecolor": "white",
             "minorgridcolor": "white",
             "startlinecolor": "rgb(36,36,36)"
            },
            "type": "carpet"
           }
          ],
          "choropleth": [
           {
            "colorbar": {
             "outlinewidth": 1,
             "tickcolor": "rgb(36,36,36)",
             "ticks": "outside"
            },
            "type": "choropleth"
           }
          ],
          "contour": [
           {
            "colorbar": {
             "outlinewidth": 1,
             "tickcolor": "rgb(36,36,36)",
             "ticks": "outside"
            },
            "colorscale": [
             [
              0,
              "#440154"
             ],
             [
              0.1111111111111111,
              "#482878"
             ],
             [
              0.2222222222222222,
              "#3e4989"
             ],
             [
              0.3333333333333333,
              "#31688e"
             ],
             [
              0.4444444444444444,
              "#26828e"
             ],
             [
              0.5555555555555556,
              "#1f9e89"
             ],
             [
              0.6666666666666666,
              "#35b779"
             ],
             [
              0.7777777777777778,
              "#6ece58"
             ],
             [
              0.8888888888888888,
              "#b5de2b"
             ],
             [
              1,
              "#fde725"
             ]
            ],
            "type": "contour"
           }
          ],
          "contourcarpet": [
           {
            "colorbar": {
             "outlinewidth": 1,
             "tickcolor": "rgb(36,36,36)",
             "ticks": "outside"
            },
            "type": "contourcarpet"
           }
          ],
          "heatmap": [
           {
            "colorbar": {
             "outlinewidth": 1,
             "tickcolor": "rgb(36,36,36)",
             "ticks": "outside"
            },
            "colorscale": [
             [
              0,
              "#440154"
             ],
             [
              0.1111111111111111,
              "#482878"
             ],
             [
              0.2222222222222222,
              "#3e4989"
             ],
             [
              0.3333333333333333,
              "#31688e"
             ],
             [
              0.4444444444444444,
              "#26828e"
             ],
             [
              0.5555555555555556,
              "#1f9e89"
             ],
             [
              0.6666666666666666,
              "#35b779"
             ],
             [
              0.7777777777777778,
              "#6ece58"
             ],
             [
              0.8888888888888888,
              "#b5de2b"
             ],
             [
              1,
              "#fde725"
             ]
            ],
            "type": "heatmap"
           }
          ],
          "histogram": [
           {
            "marker": {
             "line": {
              "color": "white",
              "width": 0.6
             }
            },
            "type": "histogram"
           }
          ],
          "histogram2d": [
           {
            "colorbar": {
             "outlinewidth": 1,
             "tickcolor": "rgb(36,36,36)",
             "ticks": "outside"
            },
            "colorscale": [
             [
              0,
              "#440154"
             ],
             [
              0.1111111111111111,
              "#482878"
             ],
             [
              0.2222222222222222,
              "#3e4989"
             ],
             [
              0.3333333333333333,
              "#31688e"
             ],
             [
              0.4444444444444444,
              "#26828e"
             ],
             [
              0.5555555555555556,
              "#1f9e89"
             ],
             [
              0.6666666666666666,
              "#35b779"
             ],
             [
              0.7777777777777778,
              "#6ece58"
             ],
             [
              0.8888888888888888,
              "#b5de2b"
             ],
             [
              1,
              "#fde725"
             ]
            ],
            "type": "histogram2d"
           }
          ],
          "histogram2dcontour": [
           {
            "colorbar": {
             "outlinewidth": 1,
             "tickcolor": "rgb(36,36,36)",
             "ticks": "outside"
            },
            "colorscale": [
             [
              0,
              "#440154"
             ],
             [
              0.1111111111111111,
              "#482878"
             ],
             [
              0.2222222222222222,
              "#3e4989"
             ],
             [
              0.3333333333333333,
              "#31688e"
             ],
             [
              0.4444444444444444,
              "#26828e"
             ],
             [
              0.5555555555555556,
              "#1f9e89"
             ],
             [
              0.6666666666666666,
              "#35b779"
             ],
             [
              0.7777777777777778,
              "#6ece58"
             ],
             [
              0.8888888888888888,
              "#b5de2b"
             ],
             [
              1,
              "#fde725"
             ]
            ],
            "type": "histogram2dcontour"
           }
          ],
          "mesh3d": [
           {
            "colorbar": {
             "outlinewidth": 1,
             "tickcolor": "rgb(36,36,36)",
             "ticks": "outside"
            },
            "type": "mesh3d"
           }
          ],
          "parcoords": [
           {
            "line": {
             "colorbar": {
              "outlinewidth": 1,
              "tickcolor": "rgb(36,36,36)",
              "ticks": "outside"
             }
            },
            "type": "parcoords"
           }
          ],
          "pie": [
           {
            "automargin": true,
            "type": "pie"
           }
          ],
          "scatter": [
           {
            "fillpattern": {
             "fillmode": "overlay",
             "size": 10,
             "solidity": 0.2
            },
            "type": "scatter"
           }
          ],
          "scatter3d": [
           {
            "line": {
             "colorbar": {
              "outlinewidth": 1,
              "tickcolor": "rgb(36,36,36)",
              "ticks": "outside"
             }
            },
            "marker": {
             "colorbar": {
              "outlinewidth": 1,
              "tickcolor": "rgb(36,36,36)",
              "ticks": "outside"
             }
            },
            "type": "scatter3d"
           }
          ],
          "scattercarpet": [
           {
            "marker": {
             "colorbar": {
              "outlinewidth": 1,
              "tickcolor": "rgb(36,36,36)",
              "ticks": "outside"
             }
            },
            "type": "scattercarpet"
           }
          ],
          "scattergeo": [
           {
            "marker": {
             "colorbar": {
              "outlinewidth": 1,
              "tickcolor": "rgb(36,36,36)",
              "ticks": "outside"
             }
            },
            "type": "scattergeo"
           }
          ],
          "scattergl": [
           {
            "marker": {
             "colorbar": {
              "outlinewidth": 1,
              "tickcolor": "rgb(36,36,36)",
              "ticks": "outside"
             }
            },
            "type": "scattergl"
           }
          ],
          "scattermap": [
           {
            "marker": {
             "colorbar": {
              "outlinewidth": 1,
              "tickcolor": "rgb(36,36,36)",
              "ticks": "outside"
             }
            },
            "type": "scattermap"
           }
          ],
          "scattermapbox": [
           {
            "marker": {
             "colorbar": {
              "outlinewidth": 1,
              "tickcolor": "rgb(36,36,36)",
              "ticks": "outside"
             }
            },
            "type": "scattermapbox"
           }
          ],
          "scatterpolar": [
           {
            "marker": {
             "colorbar": {
              "outlinewidth": 1,
              "tickcolor": "rgb(36,36,36)",
              "ticks": "outside"
             }
            },
            "type": "scatterpolar"
           }
          ],
          "scatterpolargl": [
           {
            "marker": {
             "colorbar": {
              "outlinewidth": 1,
              "tickcolor": "rgb(36,36,36)",
              "ticks": "outside"
             }
            },
            "type": "scatterpolargl"
           }
          ],
          "scatterternary": [
           {
            "marker": {
             "colorbar": {
              "outlinewidth": 1,
              "tickcolor": "rgb(36,36,36)",
              "ticks": "outside"
             }
            },
            "type": "scatterternary"
           }
          ],
          "surface": [
           {
            "colorbar": {
             "outlinewidth": 1,
             "tickcolor": "rgb(36,36,36)",
             "ticks": "outside"
            },
            "colorscale": [
             [
              0,
              "#440154"
             ],
             [
              0.1111111111111111,
              "#482878"
             ],
             [
              0.2222222222222222,
              "#3e4989"
             ],
             [
              0.3333333333333333,
              "#31688e"
             ],
             [
              0.4444444444444444,
              "#26828e"
             ],
             [
              0.5555555555555556,
              "#1f9e89"
             ],
             [
              0.6666666666666666,
              "#35b779"
             ],
             [
              0.7777777777777778,
              "#6ece58"
             ],
             [
              0.8888888888888888,
              "#b5de2b"
             ],
             [
              1,
              "#fde725"
             ]
            ],
            "type": "surface"
           }
          ],
          "table": [
           {
            "cells": {
             "fill": {
              "color": "rgb(237,237,237)"
             },
             "line": {
              "color": "white"
             }
            },
            "header": {
             "fill": {
              "color": "rgb(217,217,217)"
             },
             "line": {
              "color": "white"
             }
            },
            "type": "table"
           }
          ]
         },
         "layout": {
          "annotationdefaults": {
           "arrowhead": 0,
           "arrowwidth": 1
          },
          "autotypenumbers": "strict",
          "coloraxis": {
           "colorbar": {
            "outlinewidth": 1,
            "tickcolor": "rgb(36,36,36)",
            "ticks": "outside"
           }
          },
          "colorscale": {
           "diverging": [
            [
             0,
             "rgb(103,0,31)"
            ],
            [
             0.1,
             "rgb(178,24,43)"
            ],
            [
             0.2,
             "rgb(214,96,77)"
            ],
            [
             0.3,
             "rgb(244,165,130)"
            ],
            [
             0.4,
             "rgb(253,219,199)"
            ],
            [
             0.5,
             "rgb(247,247,247)"
            ],
            [
             0.6,
             "rgb(209,229,240)"
            ],
            [
             0.7,
             "rgb(146,197,222)"
            ],
            [
             0.8,
             "rgb(67,147,195)"
            ],
            [
             0.9,
             "rgb(33,102,172)"
            ],
            [
             1,
             "rgb(5,48,97)"
            ]
           ],
           "sequential": [
            [
             0,
             "#440154"
            ],
            [
             0.1111111111111111,
             "#482878"
            ],
            [
             0.2222222222222222,
             "#3e4989"
            ],
            [
             0.3333333333333333,
             "#31688e"
            ],
            [
             0.4444444444444444,
             "#26828e"
            ],
            [
             0.5555555555555556,
             "#1f9e89"
            ],
            [
             0.6666666666666666,
             "#35b779"
            ],
            [
             0.7777777777777778,
             "#6ece58"
            ],
            [
             0.8888888888888888,
             "#b5de2b"
            ],
            [
             1,
             "#fde725"
            ]
           ],
           "sequentialminus": [
            [
             0,
             "#440154"
            ],
            [
             0.1111111111111111,
             "#482878"
            ],
            [
             0.2222222222222222,
             "#3e4989"
            ],
            [
             0.3333333333333333,
             "#31688e"
            ],
            [
             0.4444444444444444,
             "#26828e"
            ],
            [
             0.5555555555555556,
             "#1f9e89"
            ],
            [
             0.6666666666666666,
             "#35b779"
            ],
            [
             0.7777777777777778,
             "#6ece58"
            ],
            [
             0.8888888888888888,
             "#b5de2b"
            ],
            [
             1,
             "#fde725"
            ]
           ]
          },
          "colorway": [
           "#1F77B4",
           "#FF7F0E",
           "#2CA02C",
           "#D62728",
           "#9467BD",
           "#8C564B",
           "#E377C2",
           "#7F7F7F",
           "#BCBD22",
           "#17BECF"
          ],
          "font": {
           "color": "rgb(36,36,36)"
          },
          "geo": {
           "bgcolor": "white",
           "lakecolor": "white",
           "landcolor": "white",
           "showlakes": true,
           "showland": true,
           "subunitcolor": "white"
          },
          "hoverlabel": {
           "align": "left"
          },
          "hovermode": "closest",
          "mapbox": {
           "style": "light"
          },
          "paper_bgcolor": "white",
          "plot_bgcolor": "white",
          "polar": {
           "angularaxis": {
            "gridcolor": "rgb(232,232,232)",
            "linecolor": "rgb(36,36,36)",
            "showgrid": false,
            "showline": true,
            "ticks": "outside"
           },
           "bgcolor": "white",
           "radialaxis": {
            "gridcolor": "rgb(232,232,232)",
            "linecolor": "rgb(36,36,36)",
            "showgrid": false,
            "showline": true,
            "ticks": "outside"
           }
          },
          "scene": {
           "xaxis": {
            "backgroundcolor": "white",
            "gridcolor": "rgb(232,232,232)",
            "gridwidth": 2,
            "linecolor": "rgb(36,36,36)",
            "showbackground": true,
            "showgrid": false,
            "showline": true,
            "ticks": "outside",
            "zeroline": false,
            "zerolinecolor": "rgb(36,36,36)"
           },
           "yaxis": {
            "backgroundcolor": "white",
            "gridcolor": "rgb(232,232,232)",
            "gridwidth": 2,
            "linecolor": "rgb(36,36,36)",
            "showbackground": true,
            "showgrid": false,
            "showline": true,
            "ticks": "outside",
            "zeroline": false,
            "zerolinecolor": "rgb(36,36,36)"
           },
           "zaxis": {
            "backgroundcolor": "white",
            "gridcolor": "rgb(232,232,232)",
            "gridwidth": 2,
            "linecolor": "rgb(36,36,36)",
            "showbackground": true,
            "showgrid": false,
            "showline": true,
            "ticks": "outside",
            "zeroline": false,
            "zerolinecolor": "rgb(36,36,36)"
           }
          },
          "shapedefaults": {
           "fillcolor": "black",
           "line": {
            "width": 0
           },
           "opacity": 0.3
          },
          "ternary": {
           "aaxis": {
            "gridcolor": "rgb(232,232,232)",
            "linecolor": "rgb(36,36,36)",
            "showgrid": false,
            "showline": true,
            "ticks": "outside"
           },
           "baxis": {
            "gridcolor": "rgb(232,232,232)",
            "linecolor": "rgb(36,36,36)",
            "showgrid": false,
            "showline": true,
            "ticks": "outside"
           },
           "bgcolor": "white",
           "caxis": {
            "gridcolor": "rgb(232,232,232)",
            "linecolor": "rgb(36,36,36)",
            "showgrid": false,
            "showline": true,
            "ticks": "outside"
           }
          },
          "title": {
           "x": 0.05
          },
          "xaxis": {
           "automargin": true,
           "gridcolor": "rgb(232,232,232)",
           "linecolor": "rgb(36,36,36)",
           "showgrid": false,
           "showline": true,
           "ticks": "outside",
           "title": {
            "standoff": 15
           },
           "zeroline": false,
           "zerolinecolor": "rgb(36,36,36)"
          },
          "yaxis": {
           "automargin": true,
           "gridcolor": "rgb(232,232,232)",
           "linecolor": "rgb(36,36,36)",
           "showgrid": false,
           "showline": true,
           "ticks": "outside",
           "title": {
            "standoff": 15
           },
           "zeroline": false,
           "zerolinecolor": "rgb(36,36,36)"
          }
         }
        },
        "title": {
         "text": "Comparación de Turismo vs Excursionismo (2016-2025)"
        },
        "xaxis": {
         "title": {
          "text": "Tiempo"
         }
        },
        "yaxis": {
         "title": {
          "text": "Número de Viajes"
         }
        }
       }
      }
     },
     "metadata": {},
     "output_type": "display_data"
    }
   ],
   "source": [
    "# Convertir el índice de tipo Period a cadenas (strings)\n",
    "tipologia_2.index = tipologia_2.index.astype(str)\n",
    "\n",
    "# Crear la figura en Plotly\n",
    "import plotly.graph_objects as go\n",
    "\n",
    "fig = go.Figure()\n",
    "\n",
    "# Agregar líneas con sombreado\n",
    "fig.add_trace(go.Scatter(\n",
    "    x=tipologia_2.index,\n",
    "    y=tipologia_2[\"Datos Turista\"],\n",
    "    mode=\"lines\",\n",
    "    name=\"Turistas\",\n",
    "    fill=\"tozeroy\",  # Sombreado hasta el eje X\n",
    "    line=dict(color=\"blue\")\n",
    "))\n",
    "fig.add_trace(go.Scatter(\n",
    "    x=tipologia_2.index,\n",
    "    y=tipologia_2[\"Datos Excursionista\"],\n",
    "    mode=\"lines\",\n",
    "    name=\"Excursionistas\",\n",
    "    fill=\"tozeroy\",\n",
    "    line=dict(color=\"green\")\n",
    "))\n",
    "\n",
    "# Título y diseño\n",
    "fig.update_layout(\n",
    "    title=\"Comparación de Turismo vs Excursionismo (2016-2025)\",\n",
    "    xaxis_title=\"Tiempo\",\n",
    "    yaxis_title=\"Número de Viajes\",\n",
    "    template=\"simple_white\"\n",
    ")\n",
    "\n",
    "fig.show()\n"
   ]
  },
  {
   "cell_type": "markdown",
   "metadata": {},
   "source": [
    "+++++++++++++++++++++++++++++++++++++++++++++++++++++++++++++++++++++++++++++++++++++++++++++++++++++++++++++++++++++++++++\n",
    "\n",
    "+++++++++++++++++++++++++++++++++++++++++++++++++++++++++++++++++++++++++++++++++++++++++++++++++++++++++++++++++++++++++++\n",
    "\n",
    "+++++++++++++++++++++++++++++++++++++++++++++++++++++++++++++++++++++++++++++++++++++++++++++++++++++++++++++++++++++++++++\n",
    "\n",
    "+++++++++++++++++++++++++++++++++++++++++++++++++++++++++++++++++++++++++++++++++++++++++++++++++++++++++++++++++++++++++++\n",
    "\n",
    "+++++++++++++++++++++++++++++++++++++++++++++++++++++++++++++++++++++++++++++++++++++++++++++++++++++++++++++++++++++++++++"
   ]
  },
  {
   "cell_type": "markdown",
   "metadata": {},
   "source": [
    "# ¿España es un pais en el que el viaje por negocios va en aumento?"
   ]
  },
  {
   "cell_type": "code",
   "execution_count": 395,
   "metadata": {},
   "outputs": [
    {
     "data": {
      "text/html": [
       "<div>\n",
       "<style scoped>\n",
       "    .dataframe tbody tr th:only-of-type {\n",
       "        vertical-align: middle;\n",
       "    }\n",
       "\n",
       "    .dataframe tbody tr th {\n",
       "        vertical-align: top;\n",
       "    }\n",
       "\n",
       "    .dataframe thead th {\n",
       "        text-align: right;\n",
       "    }\n",
       "</style>\n",
       "<table border=\"1\" class=\"dataframe\">\n",
       "  <thead>\n",
       "    <tr style=\"text-align: right;\">\n",
       "      <th></th>\n",
       "      <th>Total Negocios</th>\n",
       "    </tr>\n",
       "  </thead>\n",
       "  <tbody>\n",
       "    <tr>\n",
       "      <th>2025 01</th>\n",
       "      <td>244325.0</td>\n",
       "    </tr>\n",
       "    <tr>\n",
       "      <th>2024 12</th>\n",
       "      <td>287335.0</td>\n",
       "    </tr>\n",
       "    <tr>\n",
       "      <th>2024 11</th>\n",
       "      <td>463667.0</td>\n",
       "    </tr>\n",
       "    <tr>\n",
       "      <th>2024 10</th>\n",
       "      <td>525253.0</td>\n",
       "    </tr>\n",
       "    <tr>\n",
       "      <th>2024 09</th>\n",
       "      <td>567884.0</td>\n",
       "    </tr>\n",
       "    <tr>\n",
       "      <th>...</th>\n",
       "      <td>...</td>\n",
       "    </tr>\n",
       "    <tr>\n",
       "      <th>2016 02</th>\n",
       "      <td>441059.0</td>\n",
       "    </tr>\n",
       "    <tr>\n",
       "      <th>2016 01</th>\n",
       "      <td>347876.0</td>\n",
       "    </tr>\n",
       "    <tr>\n",
       "      <th>2015 12</th>\n",
       "      <td>301888</td>\n",
       "    </tr>\n",
       "    <tr>\n",
       "      <th>2015 11</th>\n",
       "      <td>393014</td>\n",
       "    </tr>\n",
       "    <tr>\n",
       "      <th>2015 10</th>\n",
       "      <td>469568</td>\n",
       "    </tr>\n",
       "  </tbody>\n",
       "</table>\n",
       "<p>112 rows × 1 columns</p>\n",
       "</div>"
      ],
      "text/plain": [
       "        Total Negocios\n",
       "2025 01       244325.0\n",
       "2024 12       287335.0\n",
       "2024 11       463667.0\n",
       "2024 10       525253.0\n",
       "2024 09       567884.0\n",
       "...                ...\n",
       "2016 02       441059.0\n",
       "2016 01       347876.0\n",
       "2015 12         301888\n",
       "2015 11         393014\n",
       "2015 10         469568\n",
       "\n",
       "[112 rows x 1 columns]"
      ]
     },
     "execution_count": 395,
     "metadata": {},
     "output_type": "execute_result"
    }
   ],
   "source": [
    "motivo_viaje = pd.read_excel(\"./data/motivo_viaje.xlsx\")\n",
    "motivo_viaje.columns=motivo_viaje.columns.str.replace(\"M\", \" \")#Reemplaza la M de las fechas por un espacio\n",
    "motivo_viaje = motivo_viaje.transpose()\n",
    "motivo_viaje.columns = motivo_viaje.iloc[0].astype(str).str.strip()  #Convierte valores string y elimina los espacios\n",
    "motivo_viaje = motivo_viaje.drop(motivo_viaje.index[0])  #Elimina la fila con los nombres\n",
    "#motivo_viaje.columns\n",
    "#motivo_viaje\n",
    "\n",
    "motivo_viaje.columns.values[5] = \"Total Ocio\"\n",
    "motivo_viaje.columns.values[10] = \"Total Negocios\"\n",
    "motivo_viaje.columns.values[15] = \"Total Otros motivos\"\n",
    "\n",
    "negocios = motivo_viaje[['Total Negocios']].copy()\n",
    "# negocios = negocios.transpose()\n",
    "negocios = negocios[negocios.columns[::-1]]\n",
    "negocios"
   ]
  },
  {
   "cell_type": "code",
   "execution_count": 396,
   "metadata": {},
   "outputs": [
    {
     "name": "stdout",
     "output_type": "stream",
     "text": [
      "Total Negocios 606756.0\n",
      "Total Negocios 0.0\n"
     ]
    }
   ],
   "source": [
    "maximo = negocios.max()\n",
    "print(maximo.idxmax(), maximo.max())\n",
    "\n",
    "minimo=negocios.min()\n",
    "print(minimo.idxmin(), minimo.min())"
   ]
  },
  {
   "cell_type": "code",
   "execution_count": 397,
   "metadata": {},
   "outputs": [
    {
     "data": {
      "text/html": [
       "<div>\n",
       "<style scoped>\n",
       "    .dataframe tbody tr th:only-of-type {\n",
       "        vertical-align: middle;\n",
       "    }\n",
       "\n",
       "    .dataframe tbody tr th {\n",
       "        vertical-align: top;\n",
       "    }\n",
       "\n",
       "    .dataframe thead th {\n",
       "        text-align: right;\n",
       "    }\n",
       "</style>\n",
       "<table border=\"1\" class=\"dataframe\">\n",
       "  <thead>\n",
       "    <tr style=\"text-align: right;\">\n",
       "      <th></th>\n",
       "      <th>Total Negocios</th>\n",
       "    </tr>\n",
       "  </thead>\n",
       "  <tbody>\n",
       "    <tr>\n",
       "      <th>2025 01</th>\n",
       "      <td>244325.0</td>\n",
       "    </tr>\n",
       "    <tr>\n",
       "      <th>2024 12</th>\n",
       "      <td>287335.0</td>\n",
       "    </tr>\n",
       "    <tr>\n",
       "      <th>2024 11</th>\n",
       "      <td>463667.0</td>\n",
       "    </tr>\n",
       "    <tr>\n",
       "      <th>2024 10</th>\n",
       "      <td>525253.0</td>\n",
       "    </tr>\n",
       "    <tr>\n",
       "      <th>2024 09</th>\n",
       "      <td>567884.0</td>\n",
       "    </tr>\n",
       "    <tr>\n",
       "      <th>...</th>\n",
       "      <td>...</td>\n",
       "    </tr>\n",
       "    <tr>\n",
       "      <th>2016 02</th>\n",
       "      <td>441059.0</td>\n",
       "    </tr>\n",
       "    <tr>\n",
       "      <th>2016 01</th>\n",
       "      <td>347876.0</td>\n",
       "    </tr>\n",
       "    <tr>\n",
       "      <th>2015 12</th>\n",
       "      <td>301888</td>\n",
       "    </tr>\n",
       "    <tr>\n",
       "      <th>2015 11</th>\n",
       "      <td>393014</td>\n",
       "    </tr>\n",
       "    <tr>\n",
       "      <th>2015 10</th>\n",
       "      <td>469568</td>\n",
       "    </tr>\n",
       "  </tbody>\n",
       "</table>\n",
       "<p>112 rows × 1 columns</p>\n",
       "</div>"
      ],
      "text/plain": [
       "        Total Negocios\n",
       "2025 01       244325.0\n",
       "2024 12       287335.0\n",
       "2024 11       463667.0\n",
       "2024 10       525253.0\n",
       "2024 09       567884.0\n",
       "...                ...\n",
       "2016 02       441059.0\n",
       "2016 01       347876.0\n",
       "2015 12         301888\n",
       "2015 11         393014\n",
       "2015 10         469568\n",
       "\n",
       "[112 rows x 1 columns]"
      ]
     },
     "execution_count": 397,
     "metadata": {},
     "output_type": "execute_result"
    }
   ],
   "source": [
    "negocios"
   ]
  },
  {
   "cell_type": "code",
   "execution_count": 417,
   "metadata": {},
   "outputs": [
    {
     "data": {
      "text/html": [
       "<div>\n",
       "<style scoped>\n",
       "    .dataframe tbody tr th:only-of-type {\n",
       "        vertical-align: middle;\n",
       "    }\n",
       "\n",
       "    .dataframe tbody tr th {\n",
       "        vertical-align: top;\n",
       "    }\n",
       "\n",
       "    .dataframe thead th {\n",
       "        text-align: right;\n",
       "    }\n",
       "</style>\n",
       "<table border=\"1\" class=\"dataframe\">\n",
       "  <thead>\n",
       "    <tr style=\"text-align: right;\">\n",
       "      <th></th>\n",
       "      <th>Total Negocios</th>\n",
       "    </tr>\n",
       "  </thead>\n",
       "  <tbody>\n",
       "    <tr>\n",
       "      <th>1970</th>\n",
       "      <td>39049019.0</td>\n",
       "    </tr>\n",
       "  </tbody>\n",
       "</table>\n",
       "</div>"
      ],
      "text/plain": [
       "     Total Negocios\n",
       "1970     39049019.0"
      ]
     },
     "execution_count": 417,
     "metadata": {},
     "output_type": "execute_result"
    }
   ],
   "source": [
    "negocios.index = pd.to_datetime(negocios.index, errors='coerce') \n",
    "negocios = negocios.groupby(negocios.index.year).sum()\n",
    "negocios[]"
   ]
  },
  {
   "cell_type": "code",
   "execution_count": null,
   "metadata": {},
   "outputs": [],
   "source": []
  },
  {
   "cell_type": "code",
   "execution_count": 415,
   "metadata": {},
   "outputs": [
    {
     "data": {
      "image/png": "[encoded data removed]",
      "text/plain": [
       "<Figure size 640x480 with 1 Axes>"
      ]
     },
     "metadata": {},
     "output_type": "display_data"
    }
   ],
   "source": [
    " plt.plot(negocios.index, negocios[\"Total Negocios\"], data=df, linestyle='-', marker='o')\n",
    "plt.xticks(np.arange(2015,2025,1))\n",
    "plt.yticks(np.arange(1000000,6000000,300000))\n",
    "plt.show()"
   ]
  },
  {
   "cell_type": "markdown",
   "metadata": {},
   "source": [
    "+++++++++++++++++++++++++++++++++++++++++++++++++++++++++++++++++++++++++++++++++++++++++++++++++++++++++++++++++++++++++++\n",
    "\n",
    "+++++++++++++++++++++++++++++++++++++++++++++++++++++++++++++++++++++++++++++++++++++++++++++++++++++++++++++++++++++++++++\n",
    "\n",
    "+++++++++++++++++++++++++++++++++++++++++++++++++++++++++++++++++++++++++++++++++++++++++++++++++++++++++++++++++++++++++++\n",
    "\n",
    "+++++++++++++++++++++++++++++++++++++++++++++++++++++++++++++++++++++++++++++++++++++++++++++++++++++++++++++++++++++++++++\n",
    "\n",
    "+++++++++++++++++++++++++++++++++++++++++++++++++++++++++++++++++++++++++++++++++++++++++++++++++++++++++++++++++++++++++++"
   ]
  },
  {
   "cell_type": "markdown",
   "metadata": {},
   "source": [
    "# ¿Los turistas de ciertos países gastan más dinero en España que otros? Desde 2015 a 2025"
   ]
  },
  {
   "cell_type": "code",
   "execution_count": 400,
   "metadata": {},
   "outputs": [
    {
     "data": {
      "text/html": [
       "<div>\n",
       "<style scoped>\n",
       "    .dataframe tbody tr th:only-of-type {\n",
       "        vertical-align: middle;\n",
       "    }\n",
       "\n",
       "    .dataframe tbody tr th {\n",
       "        vertical-align: top;\n",
       "    }\n",
       "\n",
       "    .dataframe thead th {\n",
       "        text-align: right;\n",
       "    }\n",
       "</style>\n",
       "<table border=\"1\" class=\"dataframe\">\n",
       "  <thead>\n",
       "    <tr style=\"text-align: right;\">\n",
       "      <th></th>\n",
       "      <th>Total</th>\n",
       "      <th>Reino Unido</th>\n",
       "      <th>Países Nórdicos</th>\n",
       "      <th>Resto del Mundo</th>\n",
       "      <th>Alemania</th>\n",
       "      <th>Francia</th>\n",
       "      <th>Italia</th>\n",
       "    </tr>\n",
       "  </thead>\n",
       "  <tbody>\n",
       "    <tr>\n",
       "      <th>2024</th>\n",
       "      <td>126143.2</td>\n",
       "      <td>22551.7</td>\n",
       "      <td>7860.5</td>\n",
       "      <td>64156.9</td>\n",
       "      <td>15515.4</td>\n",
       "      <td>10969.2</td>\n",
       "      <td>5089.6</td>\n",
       "    </tr>\n",
       "  </tbody>\n",
       "</table>\n",
       "</div>"
      ],
      "text/plain": [
       "        Total Reino Unido Países Nórdicos Resto del Mundo Alemania Francia  \\\n",
       "2024 126143.2     22551.7          7860.5         64156.9  15515.4 10969.2   \n",
       "\n",
       "     Italia  \n",
       "2024 5089.6  "
      ]
     },
     "execution_count": 400,
     "metadata": {},
     "output_type": "execute_result"
    }
   ],
   "source": [
    "pais = pd.read_excel(\"./data/Gasto_segun_paisxlsx.xlsx\")\n",
    "pais.columns=pais.columns.str.replace(\"M\", \"-\")#Reemplaza la M de las fechas por un espacio\n",
    "pais=pais.set_index(\" \")\n",
    "pais = pais.transpose()\n",
    "pais = pais.apply(pd.to_numeric, errors='coerce')\n",
    "\n",
    "pais_2 = pd.read_excel(\"./data/gasto_por_pais.xlsx\")\n",
    "pais_2.columns = pais_2.columns.str.replace(\"M\", \"-\") #reemplazar \"M\" por espacio\n",
    "pais_2 = pais_2.transpose() #Transponer el DataFrame\n",
    "pais_2.columns = pais_2.iloc[0]\n",
    "pais_2 = pais_2[1:]\n",
    "\n",
    "pais_2.index = pd.to_datetime(pais_2.index, errors='coerce') \n",
    "df_anual = pais_2.groupby(pais_2.index.year).sum()\n",
    "df_anual[-2:-1]\n"
   ]
  },
  {
   "cell_type": "markdown",
   "metadata": {},
   "source": [
    "En 2024, el turismo en España alcanzó cifras récord, generando un total de 207.763 millones de euros en actividad económica. Este sector representó el 13,1% del PIB nacional, consolidándose como el principal motor económico del país. Además, el gasto acumulado de los turistas internacionales fue de 126.282 millones de euros, lo que supone un incremento del 16,1% respecto al año anterior."
   ]
  },
  {
   "cell_type": "code",
   "execution_count": 427,
   "metadata": {},
   "outputs": [
    {
     "data": {
      "image/png": "[encoded data removed]",
      "text/plain": [
       "<Figure size 1000x800 with 1 Axes>"
      ]
     },
     "metadata": {},
     "output_type": "display_data"
    }
   ],
   "source": [
    "valores = df_anual.iloc[0, 1:]  # Valores de la primera fila sin total nacional\n",
    "etiquetas = df_anual.columns[1:]  # Nombres de las columnas sin el total nacional\n",
    "plt.figure(figsize=(10, 8)) #Grafico pastel\n",
    "wedges, texts, autotexts = plt.pie(\n",
    "    valores,\n",
    "    labels=etiquetas,\n",
    "    autopct='%1.1f%%',  # Muestra porcentajes\n",
    "    startangle=140,     # angulo inicial\n",
    "    colors=plt.cm.Set3.colors,  # Colores\n",
    "    explode = (0.2,0,0,0,0,0),\n",
    "    textprops=dict(color=\"black\")  # Estilo del texto\n",
    ")\n",
    "plt.setp(autotexts, size=10, weight=\"bold\")  #porcentajes más visibles\n",
    "plt.setp(texts, size=12)  # agranda las etiquetas\n",
    "centre_circle = plt.Circle((0, 0), 0.70, fc='white')  # Crear el círculo blanco para generar el \"semi-donut\"\n",
    "plt.gca().add_artist(centre_circle)  # Añadirlo al gráfico\n",
    "plt.title(\"Distribución gasto por paises (2024)\", fontsize=16, weight=\"bold\")# Título del gráfico\n",
    "plt.tight_layout() #Espacios\n",
    "plt.show()\n"
   ]
  },
  {
   "cell_type": "markdown",
   "metadata": {},
   "source": [
    "+++++++++++++++++++++++++++++++++++++++++++++++++++++++++++++++++++++++++++++++++++++++++++++++++++++++++++++++++++++++++++\n",
    "\n",
    "+++++++++++++++++++++++++++++++++++++++++++++++++++++++++++++++++++++++++++++++++++++++++++++++++++++++++++++++++++++++++++\n",
    "\n",
    "+++++++++++++++++++++++++++++++++++++++++++++++++++++++++++++++++++++++++++++++++++++++++++++++++++++++++++++++++++++++++++\n",
    "\n",
    "+++++++++++++++++++++++++++++++++++++++++++++++++++++++++++++++++++++++++++++++++++++++++++++++++++++++++++++++++++++++++++\n",
    "\n",
    "+++++++++++++++++++++++++++++++++++++++++++++++++++++++++++++++++++++++++++++++++++++++++++++++++++++++++++++++++++++++++++"
   ]
  }
 ],
 "metadata": {
  "kernelspec": {
   "display_name": "Python 3",
   "language": "python",
   "name": "python3"
  },
  "language_info": {
   "codemirror_mode": {
    "name": "ipython",
    "version": 3
   },
   "file_extension": ".py",
   "mimetype": "text/x-python",
   "name": "python",
   "nbconvert_exporter": "python",
   "pygments_lexer": "ipython3",
   "version": "3.13.2"
  }
 },
 "nbformat": 4,
 "nbformat_minor": 2
}
